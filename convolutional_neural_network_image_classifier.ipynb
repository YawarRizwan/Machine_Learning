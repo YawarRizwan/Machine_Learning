{
 "cells": [
  {
   "cell_type": "markdown",
   "metadata": {
    "id": "3DR-eO17geWu"
   },
   "source": [
    "# Convolutional Neural Network"
   ]
  },
  {
   "cell_type": "markdown",
   "metadata": {
    "id": "EMefrVPCg-60"
   },
   "source": [
    "### Importing the libraries"
   ]
  },
  {
   "cell_type": "markdown",
   "metadata": {
    "id": "oxQxCBWyoGPE"
   },
   "source": [
    "## Part 1 - Data Preprocessing"
   ]
  },
  {
   "cell_type": "code",
   "execution_count": 29,
   "metadata": {},
   "outputs": [],
   "source": [
    "import os"
   ]
  },
  {
   "cell_type": "code",
   "execution_count": 30,
   "metadata": {},
   "outputs": [
    {
     "name": "stdout",
     "output_type": "stream",
     "text": [
      "Current Working Directory  C:\\Users\\hp\\Desktop\\Deep Learning\\Machine Learning A-Z (Codes and Datasets)\\Part 8 - Deep Learning\\Section 40 - Convolutional Neural Networks (CNN)\\Python\\dataset\n"
     ]
    }
   ],
   "source": [
    "print(\"Current Working Directory \" , os.getcwd())"
   ]
  },
  {
   "cell_type": "code",
   "execution_count": 31,
   "metadata": {
    "id": "nyX6oIrMBq3E"
   },
   "outputs": [],
   "source": [
    "import tensorflow as tf\n",
    "from tensorflow import keras\n",
    "from keras_preprocessing.image import ImageDataGenerator\n",
    "#import keras.preprocessing.image as ImageDataGenerator"
   ]
  },
  {
   "cell_type": "code",
   "execution_count": 32,
   "metadata": {
    "colab": {
     "base_uri": "https://localhost:8080/",
     "height": 35
    },
    "id": "cDD1pL6WBrCu",
    "outputId": "76a1f76a-1ec1-42b1-a637-941cca29f6b9"
   },
   "outputs": [
    {
     "data": {
      "text/plain": [
       "'2.4.1'"
      ]
     },
     "execution_count": 32,
     "metadata": {},
     "output_type": "execute_result"
    }
   ],
   "source": [
    "tf.__version__"
   ]
  },
  {
   "cell_type": "markdown",
   "metadata": {
    "id": "MvE-heJNo3GG"
   },
   "source": [
    "### Preprocessing the Training set"
   ]
  },
  {
   "cell_type": "code",
   "execution_count": 33,
   "metadata": {
    "colab": {
     "base_uri": "https://localhost:8080/"
    },
    "id": "qxaOj6hpFiiX",
    "outputId": "00b3b672-4521-426e-df54-6edde50c04d0"
   },
   "outputs": [
    {
     "name": "stdout",
     "output_type": "stream",
     "text": [
      "Found 8000 images belonging to 2 classes.\n"
     ]
    }
   ],
   "source": [
    "#train_datagen is an object, an instance of the ImageDataGenerator class in which represents the all the tool\n",
    "#that will apply all the transformations on the images of the dataset\n",
    "#shear_range,zoom,horizontal_flip are the transformations we will perform image augmentation on the\n",
    "#images of the dataset. TL;DR : done to prevent OverFitting in the end\n",
    "train_datagen = ImageDataGenerator(\n",
    "        rescale=1./255, #dividing by 255 brings feature scaling \n",
    "        shear_range=0.2,\n",
    "        zoom_range=0.2,\n",
    "        horizontal_flip=True)\n",
    "\n",
    "#now we have to connect the train_datagen object to our training set\n",
    "#.flow_from_directory is a method of the class train_datagen - this simply connects the image augmentation tool(train_datagen)\n",
    "#to the images in the dataset\n",
    "training_set = train_datagen.flow_from_directory(\n",
    "        r\"C:\\Users\\hp\\Desktop\\Deep Learning\\Machine Learning A-Z (Codes and Datasets)\\Part 8 - Deep Learning\\Section 40 - Convolutional Neural Networks (CNN)\\Python\\dataset\\training_set\", \n",
    "        target_size=(64, 64), #final size of the image that will be fed into the CNN\n",
    "        batch_size=32, #how many images in each batch\n",
    "        class_mode='binary') #either binary or categorical"
   ]
  },
  {
   "cell_type": "markdown",
   "metadata": {
    "id": "mrCMmGw9pHys"
   },
   "source": [
    "### Preprocessing the Test set"
   ]
  },
  {
   "cell_type": "code",
   "execution_count": 49,
   "metadata": {
    "colab": {
     "base_uri": "https://localhost:8080/"
    },
    "id": "z1xUOJx8JdlG",
    "outputId": "fb0362b6-9ba6-40d8-95c8-b4d739d3ef69"
   },
   "outputs": [
    {
     "name": "stdout",
     "output_type": "stream",
     "text": [
      "Found 2000 images belonging to 2 classes.\n"
     ]
    }
   ],
   "source": [
    "test_datagen = ImageDataGenerator(rescale=1./255)\n",
    "test_set = test_datagen.flow_from_directory(\n",
    "        r'C:\\Users\\hp\\Desktop\\Deep Learning\\Machine Learning A-Z (Codes and Datasets)\\Part 8 - Deep Learning\\Section 40 - Convolutional Neural Networks (CNN)\\Python\\dataset\\test_set',\n",
    "        target_size=(64, 64),\n",
    "        batch_size=32,\n",
    "        class_mode='binary')"
   ]
  },
  {
   "cell_type": "markdown",
   "metadata": {
    "id": "af8O4l90gk7B"
   },
   "source": [
    "## Part 2 - Building the CNN"
   ]
  },
  {
   "cell_type": "markdown",
   "metadata": {
    "id": "ces1gXY2lmoX"
   },
   "source": [
    "### Initialising the CNN"
   ]
  },
  {
   "cell_type": "code",
   "execution_count": 35,
   "metadata": {
    "id": "NrVU1RrjqNyV"
   },
   "outputs": [],
   "source": [
    "cnn = tf.keras.models.Sequential()"
   ]
  },
  {
   "cell_type": "markdown",
   "metadata": {
    "id": "u5YJj_XMl5LF"
   },
   "source": [
    "### Step 1 - Convolution"
   ]
  },
  {
   "cell_type": "code",
   "execution_count": 36,
   "metadata": {
    "id": "KHKEH94Qqi2l"
   },
   "outputs": [],
   "source": [
    "cnn.add(tf.keras.layers.Conv2D(filters=32, kernel_size=3, activation ='relu', input_shape=[64,64,3])) \n",
    "# this adds a Convolution layer to our CNN, so far initialized as sequence of layer\n",
    "#we take the 'cnn' object from which we call the 'add' method to add convolution layers\n",
    "#In this case, convolution layer will be an object of Conv2D class. \n",
    "#input_layer is only added when adding the first Convolution layer. Not required from CL2 onwards\n",
    "#Conv2D and Dense class belong in the same Layers module from the Keras library"
   ]
  },
  {
   "cell_type": "markdown",
   "metadata": {
    "id": "tf87FpvxmNOJ"
   },
   "source": [
    "### Step 2 - Pooling"
   ]
  },
  {
   "cell_type": "code",
   "execution_count": 37,
   "metadata": {
    "id": "3GASpbaBunhU"
   },
   "outputs": [],
   "source": [
    "cnn.add(tf.keras.layers.MaxPool2D(pool_size =2, strides= 2))\n",
    "#general used value of pool_size is 2x2 i.e. 2, and for strides is 2"
   ]
  },
  {
   "cell_type": "markdown",
   "metadata": {
    "id": "xaTOgD8rm4mU"
   },
   "source": [
    "### Adding a second convolutional layer (with Max Pooling applied)"
   ]
  },
  {
   "cell_type": "code",
   "execution_count": 38,
   "metadata": {
    "id": "YrJ1WYBM2xEV"
   },
   "outputs": [],
   "source": [
    "cnn.add(tf.keras.layers.Conv2D(filters=32, kernel_size=3, activation ='relu')) \n",
    "#input_layer is only added when adding the first Convolution layer. Not required from CL2 onwards\n",
    "cnn.add(tf.keras.layers.MaxPool2D(pool_size =2, strides= 2))"
   ]
  },
  {
   "cell_type": "markdown",
   "metadata": {
    "id": "tmiEuvTunKfk"
   },
   "source": [
    "### Step 3 - Flattening"
   ]
  },
  {
   "cell_type": "code",
   "execution_count": 39,
   "metadata": {
    "id": "zf2TF3Ax3j4s"
   },
   "outputs": [],
   "source": [
    "#converts all the results of previous Convolution and Pooling into 1D vector, which become i/p for future fully connected ANN\n",
    "cnn.add(tf.keras.layers.Flatten())"
   ]
  },
  {
   "cell_type": "markdown",
   "metadata": {
    "id": "dAoSECOm203v"
   },
   "source": [
    "### Step 4 - Full Connection"
   ]
  },
  {
   "cell_type": "code",
   "execution_count": 40,
   "metadata": {
    "id": "ShfyAJJW4gff"
   },
   "outputs": [],
   "source": [
    "cnn.add(tf.keras.layers.Dense(units=128, activation='relu'))\n",
    "# units refers to # of hidden neuron"
   ]
  },
  {
   "cell_type": "markdown",
   "metadata": {
    "id": "yTldFvbX28Na"
   },
   "source": [
    "### Step 5 - Output Layer"
   ]
  },
  {
   "cell_type": "code",
   "execution_count": 41,
   "metadata": {
    "id": "BJUpWK4L6JvQ"
   },
   "outputs": [],
   "source": [
    "cnn.add(tf.keras.layers.Dense(units=1, activation='sigmoid'))"
   ]
  },
  {
   "cell_type": "markdown",
   "metadata": {
    "id": "D6XkI90snSDl"
   },
   "source": [
    "## Part 3 - Training the CNN"
   ]
  },
  {
   "cell_type": "markdown",
   "metadata": {
    "id": "vfrFQACEnc6i"
   },
   "source": [
    "### Compiling the CNN"
   ]
  },
  {
   "cell_type": "code",
   "execution_count": 42,
   "metadata": {
    "id": "QSV-5gUY6hrm"
   },
   "outputs": [],
   "source": [
    "cnn.compile(optimizer='adam', loss = 'binary_crossentropy', metrics=['accuracy'])"
   ]
  },
  {
   "cell_type": "markdown",
   "metadata": {
    "id": "ehS-v3MIpX2h"
   },
   "source": [
    "### Training the CNN on the Training set and evaluating it on the Test set"
   ]
  },
  {
   "cell_type": "code",
   "execution_count": 44,
   "metadata": {
    "colab": {
     "background_save": true,
     "base_uri": "https://localhost:8080/"
    },
    "id": "bPE2BN9J6rfl",
    "outputId": "92759b3a-edc4-49c4-b131-70ae79eec2b3",
    "scrolled": false
   },
   "outputs": [
    {
     "name": "stdout",
     "output_type": "stream",
     "text": [
      "Epoch 1/10\n",
      "250/250 [==============================] - 215s 862ms/step - loss: 0.6331 - accuracy: 0.6356 - val_loss: 0.6306 - val_accuracy: 0.6435\n",
      "Epoch 2/10\n",
      "250/250 [==============================] - 97s 389ms/step - loss: 0.5782 - accuracy: 0.6951 - val_loss: 0.5429 - val_accuracy: 0.7335\n",
      "Epoch 3/10\n",
      "250/250 [==============================] - 83s 331ms/step - loss: 0.5457 - accuracy: 0.7236 - val_loss: 0.5557 - val_accuracy: 0.7170\n",
      "Epoch 4/10\n",
      "250/250 [==============================] - 63s 250ms/step - loss: 0.5031 - accuracy: 0.7521 - val_loss: 0.5327 - val_accuracy: 0.7460\n",
      "Epoch 5/10\n",
      "250/250 [==============================] - 89s 355ms/step - loss: 0.4796 - accuracy: 0.7682 - val_loss: 0.5227 - val_accuracy: 0.7430\n",
      "Epoch 6/10\n",
      "250/250 [==============================] - 86s 344ms/step - loss: 0.4715 - accuracy: 0.7721 - val_loss: 0.4914 - val_accuracy: 0.7670\n",
      "Epoch 7/10\n",
      "250/250 [==============================] - 93s 371ms/step - loss: 0.4456 - accuracy: 0.7887 - val_loss: 0.4846 - val_accuracy: 0.7710\n",
      "Epoch 8/10\n",
      "250/250 [==============================] - 95s 381ms/step - loss: 0.4258 - accuracy: 0.8000 - val_loss: 0.5876 - val_accuracy: 0.7210\n",
      "Epoch 9/10\n",
      "250/250 [==============================] - 100s 400ms/step - loss: 0.4155 - accuracy: 0.8112 - val_loss: 0.4622 - val_accuracy: 0.7955\n",
      "Epoch 10/10\n",
      "250/250 [==============================] - 101s 405ms/step - loss: 0.3930 - accuracy: 0.8220 - val_loss: 0.4723 - val_accuracy: 0.7840\n"
     ]
    },
    {
     "data": {
      "text/plain": [
       "<tensorflow.python.keras.callbacks.History at 0x20651d93e20>"
      ]
     },
     "execution_count": 44,
     "metadata": {},
     "output_type": "execute_result"
    }
   ],
   "source": [
    "cnn.fit(x=training_set, validation_data = test_set, epochs = 10)\n",
    "# batch_size = 32 is taken as a thumb rule"
   ]
  },
  {
   "cell_type": "markdown",
   "metadata": {
    "id": "U3PZasO0006Z"
   },
   "source": [
    "## Part 4 - Making a single prediction"
   ]
  },
  {
   "cell_type": "code",
   "execution_count": 58,
   "metadata": {
    "id": "IU95Bu2PazcQ"
   },
   "outputs": [],
   "source": [
    "import numpy as np\n",
    "from keras.preprocessing import image\n",
    "test_image = image.load_img(r\"C:\\Users\\hp\\Desktop\\Deep Learning\\Machine Learning A-Z (Codes and Datasets)\\Part 8 - Deep Learning\\Section 40 - Convolutional Neural Networks (CNN)\\Python\\dataset\\single_prediction\\cat_or_dog_4.jpg\", target_size = (64,64))  \n",
    "#load_img is a function that loads image in PIL format\n",
    "#now we have to do some conversion\n",
    "#first conversion is to convert the PIL format into an array\n",
    "# How to convert the test image into an array ? - using img_to_array function\n",
    "test_image = image.img_to_array(test_image)\n",
    "test_image = np.expand_dims(test_image, axis =0) # axis = 0 ensures that the dimension of batch which we are\n",
    "#adding to our image will be the first dimension\n",
    "\n",
    "result = cnn.predict(test_image/255.0)\n",
    "training_set.class_indices #printing it will give the right classes indices\n",
    "\n",
    "if result[0][0] > 0.5: #first bracket accessing batch, second accessing single element of the batch\n",
    "  prediction ='dog'\n",
    "else:\n",
    "    prediction ='cat'\n"
   ]
  },
  {
   "cell_type": "code",
   "execution_count": 59,
   "metadata": {
    "id": "ztoJb_eofjBG"
   },
   "outputs": [
    {
     "name": "stdout",
     "output_type": "stream",
     "text": [
      "cat\n"
     ]
    }
   ],
   "source": [
    "print(prediction)"
   ]
  }
 ],
 "metadata": {
  "colab": {
   "collapsed_sections": [],
   "name": "Copy of convolutional_neural_network.ipynb",
   "provenance": [],
   "toc_visible": true
  },
  "kernelspec": {
   "display_name": "Python 3",
   "language": "python",
   "name": "python3"
  },
  "language_info": {
   "codemirror_mode": {
    "name": "ipython",
    "version": 3
   },
   "file_extension": ".py",
   "mimetype": "text/x-python",
   "name": "python",
   "nbconvert_exporter": "python",
   "pygments_lexer": "ipython3",
   "version": "3.8.5"
  }
 },
 "nbformat": 4,
 "nbformat_minor": 1
}
