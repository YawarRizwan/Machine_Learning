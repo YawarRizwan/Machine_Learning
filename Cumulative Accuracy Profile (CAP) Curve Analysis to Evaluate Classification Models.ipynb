{
  "nbformat": 4,
  "nbformat_minor": 0,
  "metadata": {
    "colab": {
      "name": "Untitled0.ipynb",
      "provenance": [],
      "authorship_tag": "ABX9TyPFWw8PfcuhgzskkzVoZnB6",
      "include_colab_link": true
    },
    "kernelspec": {
      "name": "python3",
      "display_name": "Python 3"
    },
    "language_info": {
      "name": "python"
    }
  },
  "cells": [
    {
      "cell_type": "markdown",
      "metadata": {
        "id": "view-in-github",
        "colab_type": "text"
      },
      "source": [
        "<a href=\"https://colab.research.google.com/github/YawarRizwan/Machine_Learning/blob/main/Cumulative%20Accuracy%20Profile%20(CAP)%20Curve%20Analysis%20to%20Evaluate%20Classification%20Models.ipynb\" target=\"_parent\"><img src=\"https://colab.research.google.com/assets/colab-badge.svg\" alt=\"Open In Colab\"/></a>"
      ]
    },
    {
      "cell_type": "markdown",
      "metadata": {
        "id": "O3g3aSZAJ5Vi"
      },
      "source": [
        "# **Cumulative Accuracy Profile (CAP) Curve Analysis to Evaluate Classification Models in Social Network Ads Prediction**"
      ]
    },
    {
      "cell_type": "markdown",
      "metadata": {
        "id": "e2GxlsTsIoxC"
      },
      "source": [
        "# Import the required libraries"
      ]
    },
    {
      "cell_type": "code",
      "metadata": {
        "id": "Qnmrr5jEIXpA"
      },
      "source": [
        "import numpy as np\n",
        "import matplotlib.pyplot as plt\n",
        "import pandas as pd"
      ],
      "execution_count": 2,
      "outputs": []
    },
    {
      "cell_type": "markdown",
      "metadata": {
        "id": "sLxFgQ8QIsvC"
      },
      "source": [
        "# Import the dataset and define the input and output features"
      ]
    },
    {
      "cell_type": "code",
      "metadata": {
        "id": "tAXWrppEIXuN"
      },
      "source": [
        "dataset = pd.read_csv('Social_Network_Ads.csv')\n",
        "X = dataset.iloc[:, :-1].values\n",
        "y = dataset.iloc[:, -1].values"
      ],
      "execution_count": 4,
      "outputs": []
    },
    {
      "cell_type": "markdown",
      "metadata": {
        "id": "yPlxPEIrIt7q"
      },
      "source": [
        "# Split the dataset into the Training set and Test set"
      ]
    },
    {
      "cell_type": "code",
      "metadata": {
        "id": "lYJvo_Q9IXyK"
      },
      "source": [
        "from sklearn.model_selection import train_test_split\n",
        "X_train, X_test, y_train, y_test = train_test_split(X, y, test_size = 0.25, random_state = 0)"
      ],
      "execution_count": 5,
      "outputs": []
    },
    {
      "cell_type": "markdown",
      "metadata": {
        "id": "ihth3UahIvAc"
      },
      "source": [
        "# Feature Scaling"
      ]
    },
    {
      "cell_type": "code",
      "metadata": {
        "id": "j3AnapjbIX2M"
      },
      "source": [
        "from sklearn.preprocessing import StandardScaler\n",
        "sc = StandardScaler()\n",
        "X_train = sc.fit_transform(X_train)\n",
        "X_test = sc.transform(X_test)"
      ],
      "execution_count": 6,
      "outputs": []
    },
    {
      "cell_type": "markdown",
      "metadata": {
        "id": "mt9qzME_Iv7D"
      },
      "source": [
        "# Define the Random Forest model, train the model and make prediction on test data"
      ]
    },
    {
      "cell_type": "code",
      "metadata": {
        "id": "IaOv-gxuIX6A"
      },
      "source": [
        "from sklearn.ensemble import RandomForestClassifier\n",
        "rf_classifier = RandomForestClassifier(n_estimators = 10, criterion = 'entropy', random_state = 0)\n",
        "rf_classifier.fit(X_train, y_train)\n",
        "y_pred_rf = rf_classifier.predict(X_test)"
      ],
      "execution_count": 7,
      "outputs": []
    },
    {
      "cell_type": "markdown",
      "metadata": {
        "id": "DPnsCwaTIwe1"
      },
      "source": [
        "#Define the Logsistic Regression model, train the model and make prediction on test data"
      ]
    },
    {
      "cell_type": "code",
      "metadata": {
        "id": "NeMoMcF5IX9k"
      },
      "source": [
        "from sklearn.linear_model import LogisticRegression\n",
        "lr_classifier = LogisticRegression()\n",
        "lr_classifier.fit(X_train, y_train)\n",
        "y_pred_lr = lr_classifier.predict(X_test)"
      ],
      "execution_count": 8,
      "outputs": []
    },
    {
      "cell_type": "markdown",
      "metadata": {
        "id": "DbQ4PU-0JOcp"
      },
      "source": [
        "#Define the KNN model, train the model and make prediction on test data"
      ]
    },
    {
      "cell_type": "code",
      "metadata": {
        "id": "RIFonaxIJToW"
      },
      "source": [
        "from sklearn.neighbors import KNeighborsClassifier\n",
        "knn_classifier = KNeighborsClassifier(n_neighbors = 5, metric = 'minkowski', p = 2)\n",
        "knn_classifier.fit(X_train, y_train)\n",
        "y_pred_knn = knn_classifier.predict(X_test)"
      ],
      "execution_count": 9,
      "outputs": []
    },
    {
      "cell_type": "markdown",
      "metadata": {
        "id": "u6W5GaboJWIk"
      },
      "source": [
        "#Define the Naive Bayes model, train the model and make prediction on test data"
      ]
    },
    {
      "cell_type": "code",
      "metadata": {
        "id": "u2E9e0gaJYZp"
      },
      "source": [
        "from sklearn.naive_bayes import GaussianNB\n",
        "nb_classifier = GaussianNB()\n",
        "nb_classifier.fit(X_train, y_train)\n",
        "y_pred_nb = nb_classifier.predict(X_test)"
      ],
      "execution_count": 10,
      "outputs": []
    },
    {
      "cell_type": "markdown",
      "metadata": {
        "id": "E1lpYThzMAya"
      },
      "source": [
        "#Define the Kernel Support Vector Machine, train the model and make prediction on test data"
      ]
    },
    {
      "cell_type": "code",
      "metadata": {
        "id": "7x97USdsMG57"
      },
      "source": [
        "from sklearn.svm import SVC\n",
        "ksvm_classifier = SVC(kernel = 'rbf', random_state = 0)\n",
        "ksvm_classifier.fit(X_train,y_train)\n",
        "y_pred_ksvm = ksvm_classifier.predict(X_test)"
      ],
      "execution_count": 13,
      "outputs": []
    },
    {
      "cell_type": "markdown",
      "metadata": {
        "id": "AZj2jXfNJeJN"
      },
      "source": [
        "#Visualize the CAP Curve Analysis including all 4 classification models"
      ]
    },
    {
      "cell_type": "code",
      "metadata": {
        "colab": {
          "base_uri": "https://localhost:8080/",
          "height": 407
        },
        "id": "K_zeQtSEJffT",
        "outputId": "42647453-6800-4216-e07f-0975d231acfc"
      },
      "source": [
        "total = len(y_test) \n",
        "one_count = np.sum(y_test) \n",
        "zero_count = total - one_count \n",
        "lm_rf = [y for _, y in sorted(zip(y_pred_rf, y_test), reverse = True)]\n",
        "lm_lr = [y for _, y in sorted(zip(y_pred_lr, y_test), reverse = True)] \n",
        "lm_knn = [y for _, y in sorted(zip(y_pred_knn, y_test), reverse = True)] \n",
        "lm_nb = [y for _, y in sorted(zip(y_pred_nb, y_test), reverse = True)] \n",
        "lm_ksvm = [y for _, y in sorted(zip(y_pred_ksvm, y_test), reverse = True)]\n",
        "x = np.arange(0, total + 1) \n",
        "y_rf = np.append([0], np.cumsum(lm_rf)) \n",
        "y_lr = np.append([0], np.cumsum(lm_lr)) \n",
        "y_knn = np.append([0], np.cumsum(lm_knn)) \n",
        "y_nb = np.append([0], np.cumsum(lm_nb)) \n",
        "y_ksvm = np.append([0], np.cumsum(lm_ksvm)) \n",
        "plt.figure(figsize = (10, 6)) \n",
        "plt.plot([0, total], [0, one_count], c = 'b', linestyle = '--', label = 'Random Model')\n",
        "plt.plot([0, one_count, total], [0, one_count, one_count], c = 'grey', linewidth = 2, label = 'Perfect Model')\n",
        "plt.title('CAP Curve of Classifiers')\n",
        "plt.plot(x, y_rf, c = 'b', label = 'RF classifier', linewidth = 2)\n",
        "plt.plot(x, y_lr, c = 'r', label = 'LR classifier', linewidth = 2)\n",
        "plt.plot(x, y_knn, c = 'y', label = 'KNN classifier', linewidth = 2)\n",
        "plt.plot(x, y_nb, c = 'm', label = 'NB classifier', linewidth = 2)\n",
        "plt.plot(x, y_ksvm, c = 'g', label = 'Kernel SVM classifier', linewidth = 2)\n",
        "plt.legend()"
      ],
      "execution_count": 17,
      "outputs": [
        {
          "output_type": "execute_result",
          "data": {
            "text/plain": [
              "<matplotlib.legend.Legend at 0x7f326565ecd0>"
            ]
          },
          "metadata": {
            "tags": []
          },
          "execution_count": 17
        },
        {
          "output_type": "display_data",
          "data": {
            "image/png": "[encoded data removed]",
            "text/plain": [
              "<Figure size 720x432 with 1 Axes>"
            ]
          },
          "metadata": {
            "tags": [],
            "needs_background": "light"
          }
        }
      ]
    },
    {
      "cell_type": "code",
      "metadata": {
        "id": "F5tgHjjWNjr2"
      },
      "source": [
        ""
      ],
      "execution_count": null,
      "outputs": []
    }
  ]
}