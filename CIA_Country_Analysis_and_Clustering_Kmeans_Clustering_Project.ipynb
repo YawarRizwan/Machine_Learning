{
  "nbformat": 4,
  "nbformat_minor": 0,
  "metadata": {
    "anaconda-cloud": {},
    "kernelspec": {
      "display_name": "Python 3",
      "language": "python",
      "name": "python3"
    },
    "language_info": {
      "codemirror_mode": {
        "name": "ipython",
        "version": 3
      },
      "file_extension": ".py",
      "mimetype": "text/x-python",
      "name": "python",
      "nbconvert_exporter": "python",
      "pygments_lexer": "ipython3",
      "version": "3.8.5"
    },
    "colab": {
      "name": "CIA Country Analysis and Clustering - Kmeans Clustering Project.ipynb",
      "provenance": [],
      "collapsed_sections": [
        "okH_rwoVt4O7",
        "x3RI1DOxt4PR",
        "nsx2a2EXt4PZ",
        "9BdSygnat4Pd",
        "UYpIY7xPt4Pn"
      ],
      "include_colab_link": true
    }
  },
  "cells": [
    {
      "cell_type": "markdown",
      "metadata": {
        "id": "view-in-github",
        "colab_type": "text"
      },
      "source": [
        "<a href=\"https://colab.research.google.com/github/YawarRizwan/Machine_Learning/blob/main/CIA_Country_Analysis_and_Clustering_Kmeans_Clustering_Project.ipynb\" target=\"_parent\"><img src=\"https://colab.research.google.com/assets/colab-badge.svg\" alt=\"Open In Colab\"/></a>"
      ]
    },
    {
      "cell_type": "markdown",
      "metadata": {
        "id": "eb9Noi9It4OP"
      },
      "source": [
        "# CIA Country Analysis and Clustering\n",
        "\n",
        "\n",
        "Source: All these data sets are made up of data from the US government. \n",
        "https://www.cia.gov/library/publications/the-world-factbook/docs/faqs.html\n",
        "\n",
        "## Goal: \n",
        "\n",
        "### Gain insights into similarity between countries and regions of the world by experimenting with different cluster amounts. What do these clusters represent? \n",
        "\n",
        "----\n",
        "\n",
        "## Imports and Data\n",
        "\n",
        "**TASK: Run the following cells to import libraries and read in data.**"
      ]
    },
    {
      "cell_type": "code",
      "metadata": {
        "id": "3JgBKE67t4OS"
      },
      "source": [
        "import numpy as np\n",
        "import pandas as pd\n",
        "import matplotlib.pyplot as plt\n",
        "import seaborn as sns"
      ],
      "execution_count": 1,
      "outputs": []
    },
    {
      "cell_type": "code",
      "metadata": {
        "id": "ewRkIvCVt4OW"
      },
      "source": [
        "df = pd.read_csv('CIA-Country-Facts.csv')"
      ],
      "execution_count": 2,
      "outputs": []
    },
    {
      "cell_type": "markdown",
      "metadata": {
        "id": "gR7XeF4it4OY"
      },
      "source": [
        "## Exploratory Data Analysis\n",
        "\n",
        "**TASK: Explore the rows and columns of the data as well as the data types of the columns.**"
      ]
    },
    {
      "cell_type": "code",
      "metadata": {
        "colab": {
          "base_uri": "https://localhost:8080/",
          "height": 394
        },
        "id": "lJ_SPMSKt4Oa",
        "outputId": "4f7deee3-63f2-4a0d-d226-9af39da02c94"
      },
      "source": [
        "df.head()"
      ],
      "execution_count": 3,
      "outputs": [
        {
          "output_type": "execute_result",
          "data": {
            "text/html": [
              "<div>\n",
              "<style scoped>\n",
              "    .dataframe tbody tr th:only-of-type {\n",
              "        vertical-align: middle;\n",
              "    }\n",
              "\n",
              "    .dataframe tbody tr th {\n",
              "        vertical-align: top;\n",
              "    }\n",
              "\n",
              "    .dataframe thead th {\n",
              "        text-align: right;\n",
              "    }\n",
              "</style>\n",
              "<table border=\"1\" class=\"dataframe\">\n",
              "  <thead>\n",
              "    <tr style=\"text-align: right;\">\n",
              "      <th></th>\n",
              "      <th>Country</th>\n",
              "      <th>Region</th>\n",
              "      <th>Population</th>\n",
              "      <th>Area (sq. mi.)</th>\n",
              "      <th>Pop. Density (per sq. mi.)</th>\n",
              "      <th>Coastline (coast/area ratio)</th>\n",
              "      <th>Net migration</th>\n",
              "      <th>Infant mortality (per 1000 births)</th>\n",
              "      <th>GDP ($ per capita)</th>\n",
              "      <th>Literacy (%)</th>\n",
              "      <th>Phones (per 1000)</th>\n",
              "      <th>Arable (%)</th>\n",
              "      <th>Crops (%)</th>\n",
              "      <th>Other (%)</th>\n",
              "      <th>Climate</th>\n",
              "      <th>Birthrate</th>\n",
              "      <th>Deathrate</th>\n",
              "      <th>Agriculture</th>\n",
              "      <th>Industry</th>\n",
              "      <th>Service</th>\n",
              "    </tr>\n",
              "  </thead>\n",
              "  <tbody>\n",
              "    <tr>\n",
              "      <th>0</th>\n",
              "      <td>Afghanistan</td>\n",
              "      <td>ASIA (EX. NEAR EAST)</td>\n",
              "      <td>31056997</td>\n",
              "      <td>647500</td>\n",
              "      <td>48.0</td>\n",
              "      <td>0.00</td>\n",
              "      <td>23.06</td>\n",
              "      <td>163.07</td>\n",
              "      <td>700.0</td>\n",
              "      <td>36.0</td>\n",
              "      <td>3.2</td>\n",
              "      <td>12.13</td>\n",
              "      <td>0.22</td>\n",
              "      <td>87.65</td>\n",
              "      <td>1.0</td>\n",
              "      <td>46.60</td>\n",
              "      <td>20.34</td>\n",
              "      <td>0.380</td>\n",
              "      <td>0.240</td>\n",
              "      <td>0.380</td>\n",
              "    </tr>\n",
              "    <tr>\n",
              "      <th>1</th>\n",
              "      <td>Albania</td>\n",
              "      <td>EASTERN EUROPE</td>\n",
              "      <td>3581655</td>\n",
              "      <td>28748</td>\n",
              "      <td>124.6</td>\n",
              "      <td>1.26</td>\n",
              "      <td>-4.93</td>\n",
              "      <td>21.52</td>\n",
              "      <td>4500.0</td>\n",
              "      <td>86.5</td>\n",
              "      <td>71.2</td>\n",
              "      <td>21.09</td>\n",
              "      <td>4.42</td>\n",
              "      <td>74.49</td>\n",
              "      <td>3.0</td>\n",
              "      <td>15.11</td>\n",
              "      <td>5.22</td>\n",
              "      <td>0.232</td>\n",
              "      <td>0.188</td>\n",
              "      <td>0.579</td>\n",
              "    </tr>\n",
              "    <tr>\n",
              "      <th>2</th>\n",
              "      <td>Algeria</td>\n",
              "      <td>NORTHERN AFRICA</td>\n",
              "      <td>32930091</td>\n",
              "      <td>2381740</td>\n",
              "      <td>13.8</td>\n",
              "      <td>0.04</td>\n",
              "      <td>-0.39</td>\n",
              "      <td>31.00</td>\n",
              "      <td>6000.0</td>\n",
              "      <td>70.0</td>\n",
              "      <td>78.1</td>\n",
              "      <td>3.22</td>\n",
              "      <td>0.25</td>\n",
              "      <td>96.53</td>\n",
              "      <td>1.0</td>\n",
              "      <td>17.14</td>\n",
              "      <td>4.61</td>\n",
              "      <td>0.101</td>\n",
              "      <td>0.600</td>\n",
              "      <td>0.298</td>\n",
              "    </tr>\n",
              "    <tr>\n",
              "      <th>3</th>\n",
              "      <td>American Samoa</td>\n",
              "      <td>OCEANIA</td>\n",
              "      <td>57794</td>\n",
              "      <td>199</td>\n",
              "      <td>290.4</td>\n",
              "      <td>58.29</td>\n",
              "      <td>-20.71</td>\n",
              "      <td>9.27</td>\n",
              "      <td>8000.0</td>\n",
              "      <td>97.0</td>\n",
              "      <td>259.5</td>\n",
              "      <td>10.00</td>\n",
              "      <td>15.00</td>\n",
              "      <td>75.00</td>\n",
              "      <td>2.0</td>\n",
              "      <td>22.46</td>\n",
              "      <td>3.27</td>\n",
              "      <td>NaN</td>\n",
              "      <td>NaN</td>\n",
              "      <td>NaN</td>\n",
              "    </tr>\n",
              "    <tr>\n",
              "      <th>4</th>\n",
              "      <td>Andorra</td>\n",
              "      <td>WESTERN EUROPE</td>\n",
              "      <td>71201</td>\n",
              "      <td>468</td>\n",
              "      <td>152.1</td>\n",
              "      <td>0.00</td>\n",
              "      <td>6.60</td>\n",
              "      <td>4.05</td>\n",
              "      <td>19000.0</td>\n",
              "      <td>100.0</td>\n",
              "      <td>497.2</td>\n",
              "      <td>2.22</td>\n",
              "      <td>0.00</td>\n",
              "      <td>97.78</td>\n",
              "      <td>3.0</td>\n",
              "      <td>8.71</td>\n",
              "      <td>6.25</td>\n",
              "      <td>NaN</td>\n",
              "      <td>NaN</td>\n",
              "      <td>NaN</td>\n",
              "    </tr>\n",
              "  </tbody>\n",
              "</table>\n",
              "</div>"
            ],
            "text/plain": [
              "          Country                               Region  ...  Industry  Service\n",
              "0     Afghanistan        ASIA (EX. NEAR EAST)           ...     0.240    0.380\n",
              "1         Albania  EASTERN EUROPE                       ...     0.188    0.579\n",
              "2         Algeria  NORTHERN AFRICA                      ...     0.600    0.298\n",
              "3  American Samoa  OCEANIA                              ...       NaN      NaN\n",
              "4         Andorra  WESTERN EUROPE                       ...       NaN      NaN\n",
              "\n",
              "[5 rows x 20 columns]"
            ]
          },
          "metadata": {
            "tags": []
          },
          "execution_count": 3
        }
      ]
    },
    {
      "cell_type": "code",
      "metadata": {
        "colab": {
          "base_uri": "https://localhost:8080/"
        },
        "id": "V_kQdToZt4Of",
        "outputId": "5bb65436-e917-4b97-f622-aa138a7cc572"
      },
      "source": [
        "df.info()"
      ],
      "execution_count": 4,
      "outputs": [
        {
          "output_type": "stream",
          "text": [
            "<class 'pandas.core.frame.DataFrame'>\n",
            "RangeIndex: 227 entries, 0 to 226\n",
            "Data columns (total 20 columns):\n",
            " #   Column                              Non-Null Count  Dtype  \n",
            "---  ------                              --------------  -----  \n",
            " 0   Country                             227 non-null    object \n",
            " 1   Region                              227 non-null    object \n",
            " 2   Population                          227 non-null    int64  \n",
            " 3   Area (sq. mi.)                      227 non-null    int64  \n",
            " 4   Pop. Density (per sq. mi.)          227 non-null    float64\n",
            " 5   Coastline (coast/area ratio)        227 non-null    float64\n",
            " 6   Net migration                       224 non-null    float64\n",
            " 7   Infant mortality (per 1000 births)  224 non-null    float64\n",
            " 8   GDP ($ per capita)                  226 non-null    float64\n",
            " 9   Literacy (%)                        209 non-null    float64\n",
            " 10  Phones (per 1000)                   223 non-null    float64\n",
            " 11  Arable (%)                          225 non-null    float64\n",
            " 12  Crops (%)                           225 non-null    float64\n",
            " 13  Other (%)                           225 non-null    float64\n",
            " 14  Climate                             205 non-null    float64\n",
            " 15  Birthrate                           224 non-null    float64\n",
            " 16  Deathrate                           223 non-null    float64\n",
            " 17  Agriculture                         212 non-null    float64\n",
            " 18  Industry                            211 non-null    float64\n",
            " 19  Service                             212 non-null    float64\n",
            "dtypes: float64(16), int64(2), object(2)\n",
            "memory usage: 35.6+ KB\n"
          ],
          "name": "stdout"
        }
      ]
    },
    {
      "cell_type": "code",
      "metadata": {
        "colab": {
          "base_uri": "https://localhost:8080/",
          "height": 607
        },
        "id": "tz2vMBaIt4Oh",
        "outputId": "e200ab0b-0273-4256-acb0-6926c39fd763"
      },
      "source": [
        "df.describe().transpose()"
      ],
      "execution_count": 5,
      "outputs": [
        {
          "output_type": "execute_result",
          "data": {
            "text/html": [
              "<div>\n",
              "<style scoped>\n",
              "    .dataframe tbody tr th:only-of-type {\n",
              "        vertical-align: middle;\n",
              "    }\n",
              "\n",
              "    .dataframe tbody tr th {\n",
              "        vertical-align: top;\n",
              "    }\n",
              "\n",
              "    .dataframe thead th {\n",
              "        text-align: right;\n",
              "    }\n",
              "</style>\n",
              "<table border=\"1\" class=\"dataframe\">\n",
              "  <thead>\n",
              "    <tr style=\"text-align: right;\">\n",
              "      <th></th>\n",
              "      <th>count</th>\n",
              "      <th>mean</th>\n",
              "      <th>std</th>\n",
              "      <th>min</th>\n",
              "      <th>25%</th>\n",
              "      <th>50%</th>\n",
              "      <th>75%</th>\n",
              "      <th>max</th>\n",
              "    </tr>\n",
              "  </thead>\n",
              "  <tbody>\n",
              "    <tr>\n",
              "      <th>Population</th>\n",
              "      <td>227.0</td>\n",
              "      <td>2.874028e+07</td>\n",
              "      <td>1.178913e+08</td>\n",
              "      <td>7026.000</td>\n",
              "      <td>437624.00000</td>\n",
              "      <td>4786994.000</td>\n",
              "      <td>1.749777e+07</td>\n",
              "      <td>1.313974e+09</td>\n",
              "    </tr>\n",
              "    <tr>\n",
              "      <th>Area (sq. mi.)</th>\n",
              "      <td>227.0</td>\n",
              "      <td>5.982270e+05</td>\n",
              "      <td>1.790282e+06</td>\n",
              "      <td>2.000</td>\n",
              "      <td>4647.50000</td>\n",
              "      <td>86600.000</td>\n",
              "      <td>4.418110e+05</td>\n",
              "      <td>1.707520e+07</td>\n",
              "    </tr>\n",
              "    <tr>\n",
              "      <th>Pop. Density (per sq. mi.)</th>\n",
              "      <td>227.0</td>\n",
              "      <td>3.790471e+02</td>\n",
              "      <td>1.660186e+03</td>\n",
              "      <td>0.000</td>\n",
              "      <td>29.15000</td>\n",
              "      <td>78.800</td>\n",
              "      <td>1.901500e+02</td>\n",
              "      <td>1.627150e+04</td>\n",
              "    </tr>\n",
              "    <tr>\n",
              "      <th>Coastline (coast/area ratio)</th>\n",
              "      <td>227.0</td>\n",
              "      <td>2.116533e+01</td>\n",
              "      <td>7.228686e+01</td>\n",
              "      <td>0.000</td>\n",
              "      <td>0.10000</td>\n",
              "      <td>0.730</td>\n",
              "      <td>1.034500e+01</td>\n",
              "      <td>8.706600e+02</td>\n",
              "    </tr>\n",
              "    <tr>\n",
              "      <th>Net migration</th>\n",
              "      <td>224.0</td>\n",
              "      <td>3.812500e-02</td>\n",
              "      <td>4.889269e+00</td>\n",
              "      <td>-20.990</td>\n",
              "      <td>-0.92750</td>\n",
              "      <td>0.000</td>\n",
              "      <td>9.975000e-01</td>\n",
              "      <td>2.306000e+01</td>\n",
              "    </tr>\n",
              "    <tr>\n",
              "      <th>Infant mortality (per 1000 births)</th>\n",
              "      <td>224.0</td>\n",
              "      <td>3.550696e+01</td>\n",
              "      <td>3.538990e+01</td>\n",
              "      <td>2.290</td>\n",
              "      <td>8.15000</td>\n",
              "      <td>21.000</td>\n",
              "      <td>5.570500e+01</td>\n",
              "      <td>1.911900e+02</td>\n",
              "    </tr>\n",
              "    <tr>\n",
              "      <th>GDP ($ per capita)</th>\n",
              "      <td>226.0</td>\n",
              "      <td>9.689823e+03</td>\n",
              "      <td>1.004914e+04</td>\n",
              "      <td>500.000</td>\n",
              "      <td>1900.00000</td>\n",
              "      <td>5550.000</td>\n",
              "      <td>1.570000e+04</td>\n",
              "      <td>5.510000e+04</td>\n",
              "    </tr>\n",
              "    <tr>\n",
              "      <th>Literacy (%)</th>\n",
              "      <td>209.0</td>\n",
              "      <td>8.283828e+01</td>\n",
              "      <td>1.972217e+01</td>\n",
              "      <td>17.600</td>\n",
              "      <td>70.60000</td>\n",
              "      <td>92.500</td>\n",
              "      <td>9.800000e+01</td>\n",
              "      <td>1.000000e+02</td>\n",
              "    </tr>\n",
              "    <tr>\n",
              "      <th>Phones (per 1000)</th>\n",
              "      <td>223.0</td>\n",
              "      <td>2.360614e+02</td>\n",
              "      <td>2.279918e+02</td>\n",
              "      <td>0.200</td>\n",
              "      <td>37.80000</td>\n",
              "      <td>176.200</td>\n",
              "      <td>3.896500e+02</td>\n",
              "      <td>1.035600e+03</td>\n",
              "    </tr>\n",
              "    <tr>\n",
              "      <th>Arable (%)</th>\n",
              "      <td>225.0</td>\n",
              "      <td>1.379711e+01</td>\n",
              "      <td>1.304040e+01</td>\n",
              "      <td>0.000</td>\n",
              "      <td>3.22000</td>\n",
              "      <td>10.420</td>\n",
              "      <td>2.000000e+01</td>\n",
              "      <td>6.211000e+01</td>\n",
              "    </tr>\n",
              "    <tr>\n",
              "      <th>Crops (%)</th>\n",
              "      <td>225.0</td>\n",
              "      <td>4.564222e+00</td>\n",
              "      <td>8.361470e+00</td>\n",
              "      <td>0.000</td>\n",
              "      <td>0.19000</td>\n",
              "      <td>1.030</td>\n",
              "      <td>4.440000e+00</td>\n",
              "      <td>5.068000e+01</td>\n",
              "    </tr>\n",
              "    <tr>\n",
              "      <th>Other (%)</th>\n",
              "      <td>225.0</td>\n",
              "      <td>8.163831e+01</td>\n",
              "      <td>1.614083e+01</td>\n",
              "      <td>33.330</td>\n",
              "      <td>71.65000</td>\n",
              "      <td>85.700</td>\n",
              "      <td>9.544000e+01</td>\n",
              "      <td>1.000000e+02</td>\n",
              "    </tr>\n",
              "    <tr>\n",
              "      <th>Climate</th>\n",
              "      <td>205.0</td>\n",
              "      <td>2.139024e+00</td>\n",
              "      <td>6.993968e-01</td>\n",
              "      <td>1.000</td>\n",
              "      <td>2.00000</td>\n",
              "      <td>2.000</td>\n",
              "      <td>3.000000e+00</td>\n",
              "      <td>4.000000e+00</td>\n",
              "    </tr>\n",
              "    <tr>\n",
              "      <th>Birthrate</th>\n",
              "      <td>224.0</td>\n",
              "      <td>2.211473e+01</td>\n",
              "      <td>1.117672e+01</td>\n",
              "      <td>7.290</td>\n",
              "      <td>12.67250</td>\n",
              "      <td>18.790</td>\n",
              "      <td>2.982000e+01</td>\n",
              "      <td>5.073000e+01</td>\n",
              "    </tr>\n",
              "    <tr>\n",
              "      <th>Deathrate</th>\n",
              "      <td>223.0</td>\n",
              "      <td>9.241345e+00</td>\n",
              "      <td>4.990026e+00</td>\n",
              "      <td>2.290</td>\n",
              "      <td>5.91000</td>\n",
              "      <td>7.840</td>\n",
              "      <td>1.060500e+01</td>\n",
              "      <td>2.974000e+01</td>\n",
              "    </tr>\n",
              "    <tr>\n",
              "      <th>Agriculture</th>\n",
              "      <td>212.0</td>\n",
              "      <td>1.508443e-01</td>\n",
              "      <td>1.467980e-01</td>\n",
              "      <td>0.000</td>\n",
              "      <td>0.03775</td>\n",
              "      <td>0.099</td>\n",
              "      <td>2.210000e-01</td>\n",
              "      <td>7.690000e-01</td>\n",
              "    </tr>\n",
              "    <tr>\n",
              "      <th>Industry</th>\n",
              "      <td>211.0</td>\n",
              "      <td>2.827109e-01</td>\n",
              "      <td>1.382722e-01</td>\n",
              "      <td>0.020</td>\n",
              "      <td>0.19300</td>\n",
              "      <td>0.272</td>\n",
              "      <td>3.410000e-01</td>\n",
              "      <td>9.060000e-01</td>\n",
              "    </tr>\n",
              "    <tr>\n",
              "      <th>Service</th>\n",
              "      <td>212.0</td>\n",
              "      <td>5.652830e-01</td>\n",
              "      <td>1.658410e-01</td>\n",
              "      <td>0.062</td>\n",
              "      <td>0.42925</td>\n",
              "      <td>0.571</td>\n",
              "      <td>6.785000e-01</td>\n",
              "      <td>9.540000e-01</td>\n",
              "    </tr>\n",
              "  </tbody>\n",
              "</table>\n",
              "</div>"
            ],
            "text/plain": [
              "                                    count  ...           max\n",
              "Population                          227.0  ...  1.313974e+09\n",
              "Area (sq. mi.)                      227.0  ...  1.707520e+07\n",
              "Pop. Density (per sq. mi.)          227.0  ...  1.627150e+04\n",
              "Coastline (coast/area ratio)        227.0  ...  8.706600e+02\n",
              "Net migration                       224.0  ...  2.306000e+01\n",
              "Infant mortality (per 1000 births)  224.0  ...  1.911900e+02\n",
              "GDP ($ per capita)                  226.0  ...  5.510000e+04\n",
              "Literacy (%)                        209.0  ...  1.000000e+02\n",
              "Phones (per 1000)                   223.0  ...  1.035600e+03\n",
              "Arable (%)                          225.0  ...  6.211000e+01\n",
              "Crops (%)                           225.0  ...  5.068000e+01\n",
              "Other (%)                           225.0  ...  1.000000e+02\n",
              "Climate                             205.0  ...  4.000000e+00\n",
              "Birthrate                           224.0  ...  5.073000e+01\n",
              "Deathrate                           223.0  ...  2.974000e+01\n",
              "Agriculture                         212.0  ...  7.690000e-01\n",
              "Industry                            211.0  ...  9.060000e-01\n",
              "Service                             212.0  ...  9.540000e-01\n",
              "\n",
              "[18 rows x 8 columns]"
            ]
          },
          "metadata": {
            "tags": []
          },
          "execution_count": 5
        }
      ]
    },
    {
      "cell_type": "markdown",
      "metadata": {
        "id": "wJ27aHxxt4Oj"
      },
      "source": [
        "# Exploratory Data Analysis\n",
        "\n",
        "Let's create some visualizations."
      ]
    },
    {
      "cell_type": "markdown",
      "metadata": {
        "id": "Zn9Gjwuyt4Ok"
      },
      "source": [
        "**TASK: Create a histogram of the Population column.**"
      ]
    },
    {
      "cell_type": "code",
      "metadata": {
        "colab": {
          "base_uri": "https://localhost:8080/",
          "height": 296
        },
        "id": "PHZtWmFut4Om",
        "outputId": "4791fe4d-833f-4f71-90fe-86a7b32e3ee4"
      },
      "source": [
        "sns.histplot(data=df,x='Population')"
      ],
      "execution_count": 6,
      "outputs": [
        {
          "output_type": "execute_result",
          "data": {
            "text/plain": [
              "<matplotlib.axes._subplots.AxesSubplot at 0x7f8cf3623c10>"
            ]
          },
          "metadata": {
            "tags": []
          },
          "execution_count": 6
        },
        {
          "output_type": "display_data",
          "data": {
            "image/png": "[encoded data removed]",
            "text/plain": [
              "<Figure size 432x288 with 1 Axes>"
            ]
          },
          "metadata": {
            "tags": [],
            "needs_background": "light"
          }
        }
      ]
    },
    {
      "cell_type": "markdown",
      "metadata": {
        "id": "VLnTcKKMt4Oo"
      },
      "source": [
        "**TASK: We notice the histogram is skewed due to a few large countries, resetting the X axis to only show countries with less than 0.5 billion people**"
      ]
    },
    {
      "cell_type": "code",
      "metadata": {
        "colab": {
          "base_uri": "https://localhost:8080/",
          "height": 296
        },
        "id": "wEWUtmdAt4Oq",
        "outputId": "9daedebc-5c90-4c37-ea16-f9441e7e5862"
      },
      "source": [
        "sns.histplot(data=df[df['Population']<500000000],x='Population')"
      ],
      "execution_count": 7,
      "outputs": [
        {
          "output_type": "execute_result",
          "data": {
            "text/plain": [
              "<matplotlib.axes._subplots.AxesSubplot at 0x7f8cf2830190>"
            ]
          },
          "metadata": {
            "tags": []
          },
          "execution_count": 7
        },
        {
          "output_type": "display_data",
          "data": {
            "image/png": "[encoded data removed]",
            "text/plain": [
              "<Figure size 432x288 with 1 Axes>"
            ]
          },
          "metadata": {
            "tags": [],
            "needs_background": "light"
          }
        }
      ]
    },
    {
      "cell_type": "markdown",
      "metadata": {
        "id": "SAL4Nmoct4Or"
      },
      "source": [
        "**TASK: Now let's explore GDP and Regions. Create a bar chart showing the mean GDP per Capita per region (the black bar represents std).**"
      ]
    },
    {
      "cell_type": "code",
      "metadata": {
        "colab": {
          "base_uri": "https://localhost:8080/",
          "height": 598
        },
        "id": "eNMq16BCt4Ot",
        "outputId": "e744184d-0a3a-43aa-ac51-e2595e5bd5ed"
      },
      "source": [
        "plt.figure(figsize=(8,4),dpi=100)\n",
        "sns.barplot(data=df,y='GDP ($ per capita)',x='Region',estimator=np.mean)\n",
        "plt.xticks(rotation=90);"
      ],
      "execution_count": 8,
      "outputs": [
        {
          "output_type": "display_data",
          "data": {
            "image/png": "[encoded data removed]",
            "text/plain": [
              "<Figure size 800x400 with 1 Axes>"
            ]
          },
          "metadata": {
            "tags": [],
            "needs_background": "light"
          }
        }
      ]
    },
    {
      "cell_type": "markdown",
      "metadata": {
        "id": "0QxjkMRYt4Ou"
      },
      "source": [
        "**TASK: Create a scatterplot showing the relationship between Phones per 1000 people and the GDP per Capita. Color these points by Region.**"
      ]
    },
    {
      "cell_type": "code",
      "metadata": {
        "colab": {
          "base_uri": "https://localhost:8080/",
          "height": 482
        },
        "id": "x9le6PFVt4Ow",
        "outputId": "fe1156b6-37f4-4c4f-dade-dc25091e410b"
      },
      "source": [
        "plt.figure(figsize=(8,4),dpi=100)\n",
        "sns.scatterplot(data=df,x='GDP ($ per capita)',y='Phones (per 1000)',hue='Region',palette='tab10')\n",
        "plt.legend(loc=(1.05,0.5))"
      ],
      "execution_count": 9,
      "outputs": [
        {
          "output_type": "execute_result",
          "data": {
            "text/plain": [
              "<matplotlib.legend.Legend at 0x7f8cf228a450>"
            ]
          },
          "metadata": {
            "tags": []
          },
          "execution_count": 9
        },
        {
          "output_type": "display_data",
          "data": {
            "image/png": "[encoded data removed]",
            "text/plain": [
              "<Figure size 800x400 with 1 Axes>"
            ]
          },
          "metadata": {
            "tags": [],
            "needs_background": "light"
          }
        }
      ]
    },
    {
      "cell_type": "markdown",
      "metadata": {
        "id": "zXenZZLut4Ox"
      },
      "source": [
        "**TASK: Create a scatterplot showing the relationship between GDP per Capita and Literacy (color the points by Region). What conclusions do we draw from this plot?**"
      ]
    },
    {
      "cell_type": "code",
      "metadata": {
        "colab": {
          "base_uri": "https://localhost:8080/",
          "height": 550
        },
        "id": "V7Ujh9bst4Oz",
        "outputId": "820c38aa-edf3-4771-be3c-7423ee697327"
      },
      "source": [
        "plt.figure(figsize=(10,6),dpi=100)\n",
        "sns.scatterplot(data=df,x='GDP ($ per capita)',y='Literacy (%)',hue='Region',palette=\"tab10\")"
      ],
      "execution_count": 10,
      "outputs": [
        {
          "output_type": "execute_result",
          "data": {
            "text/plain": [
              "<matplotlib.axes._subplots.AxesSubplot at 0x7f8cf281c710>"
            ]
          },
          "metadata": {
            "tags": []
          },
          "execution_count": 10
        },
        {
          "output_type": "display_data",
          "data": {
            "image/png": "[encoded data removed]",
            "text/plain": [
              "<Figure size 1000x600 with 1 Axes>"
            ]
          },
          "metadata": {
            "tags": [],
            "needs_background": "light"
          }
        }
      ]
    },
    {
      "cell_type": "markdown",
      "metadata": {
        "id": "gjNRktCtt4O0"
      },
      "source": [
        "**TASK: Create a Heatmap of the Correlation between columns in the DataFrame.**"
      ]
    },
    {
      "cell_type": "code",
      "metadata": {
        "colab": {
          "base_uri": "https://localhost:8080/",
          "height": 608
        },
        "id": "nRnBBypYt4O2",
        "outputId": "c5ed05c2-0b82-4d6a-f871-7954b0c3e771"
      },
      "source": [
        "plt.figure(figsize=(8,6),dpi=80)\n",
        "sns.heatmap(df.corr(),cmap='viridis')"
      ],
      "execution_count": 11,
      "outputs": [
        {
          "output_type": "execute_result",
          "data": {
            "text/plain": [
              "<matplotlib.axes._subplots.AxesSubplot at 0x7f8cf28ba850>"
            ]
          },
          "metadata": {
            "tags": []
          },
          "execution_count": 11
        },
        {
          "output_type": "display_data",
          "data": {
            "image/png": "[encoded data removed]",
            "text/plain": [
              "<Figure size 640x480 with 2 Axes>"
            ]
          },
          "metadata": {
            "tags": [],
            "needs_background": "light"
          }
        }
      ]
    },
    {
      "cell_type": "markdown",
      "metadata": {
        "id": "xb1oSk0yt4O3"
      },
      "source": [
        "**TASK: Seaborn can auto perform hierarchal clustering through the clustermap() function. Create a clustermap of the correlations between each column with this function.**"
      ]
    },
    {
      "cell_type": "code",
      "metadata": {
        "id": "Y-aEFbWVt4O4"
      },
      "source": [
        "# CODE HERE"
      ],
      "execution_count": 12,
      "outputs": []
    },
    {
      "cell_type": "code",
      "metadata": {
        "colab": {
          "base_uri": "https://localhost:8080/",
          "height": 764
        },
        "id": "8FMdEXpCt4O5",
        "outputId": "7a04c2bf-bb23-4881-dc72-f7b5b5790ed6"
      },
      "source": [
        "plt.figure(figsize=(8,6),dpi=80)\n",
        "sns.clustermap(df.corr())"
      ],
      "execution_count": 13,
      "outputs": [
        {
          "output_type": "execute_result",
          "data": {
            "text/plain": [
              "<seaborn.matrix.ClusterGrid at 0x7f8ce7f4b5d0>"
            ]
          },
          "metadata": {
            "tags": []
          },
          "execution_count": 13
        },
        {
          "output_type": "display_data",
          "data": {
            "text/plain": [
              "<Figure size 640x480 with 0 Axes>"
            ]
          },
          "metadata": {
            "tags": []
          }
        },
        {
          "output_type": "display_data",
          "data": {
            "image/png": "[encoded data removed]",
            "text/plain": [
              "<Figure size 720x720 with 4 Axes>"
            ]
          },
          "metadata": {
            "tags": [],
            "needs_background": "light"
          }
        }
      ]
    },
    {
      "cell_type": "markdown",
      "metadata": {
        "id": "mzh7Zd4Wt4O6"
      },
      "source": [
        "-----"
      ]
    },
    {
      "cell_type": "markdown",
      "metadata": {
        "id": "okH_rwoVt4O7"
      },
      "source": [
        "## Data Preparation and Model Discovery\n",
        "\n",
        "Let's now prepare our data for Kmeans Clustering\n",
        "\n",
        "### Missing Data\n",
        "\n",
        "**TASK: Report the number of missing elements per column.**"
      ]
    },
    {
      "cell_type": "code",
      "metadata": {
        "colab": {
          "base_uri": "https://localhost:8080/"
        },
        "id": "bok4-Et1t4O9",
        "outputId": "1871bf83-3838-47f6-c7b4-6e83cf866db7"
      },
      "source": [
        "df.isnull().sum()"
      ],
      "execution_count": 14,
      "outputs": [
        {
          "output_type": "execute_result",
          "data": {
            "text/plain": [
              "Country                                0\n",
              "Region                                 0\n",
              "Population                             0\n",
              "Area (sq. mi.)                         0\n",
              "Pop. Density (per sq. mi.)             0\n",
              "Coastline (coast/area ratio)           0\n",
              "Net migration                          3\n",
              "Infant mortality (per 1000 births)     3\n",
              "GDP ($ per capita)                     1\n",
              "Literacy (%)                          18\n",
              "Phones (per 1000)                      4\n",
              "Arable (%)                             2\n",
              "Crops (%)                              2\n",
              "Other (%)                              2\n",
              "Climate                               22\n",
              "Birthrate                              3\n",
              "Deathrate                              4\n",
              "Agriculture                           15\n",
              "Industry                              16\n",
              "Service                               15\n",
              "dtype: int64"
            ]
          },
          "metadata": {
            "tags": []
          },
          "execution_count": 14
        }
      ]
    },
    {
      "cell_type": "markdown",
      "metadata": {
        "id": "uwLGtQ94t4O-"
      },
      "source": [
        "**TASK: What countries have NaN for Agriculture? What is the main aspect of these countries?**"
      ]
    },
    {
      "cell_type": "code",
      "metadata": {
        "colab": {
          "base_uri": "https://localhost:8080/"
        },
        "id": "Cjvdoxhet4O_",
        "outputId": "4ab9736d-a6fb-43de-cfa3-7fa60af39d1b"
      },
      "source": [
        "df[df['Agriculture'].isnull()]['Country']"
      ],
      "execution_count": 15,
      "outputs": [
        {
          "output_type": "execute_result",
          "data": {
            "text/plain": [
              "3            American Samoa\n",
              "4                   Andorra\n",
              "78                Gibraltar\n",
              "80                Greenland\n",
              "83                     Guam\n",
              "134                 Mayotte\n",
              "140              Montserrat\n",
              "144                   Nauru\n",
              "153      N. Mariana Islands\n",
              "171            Saint Helena\n",
              "174    St Pierre & Miquelon\n",
              "177              San Marino\n",
              "208       Turks & Caicos Is\n",
              "221       Wallis and Futuna\n",
              "223          Western Sahara\n",
              "Name: Country, dtype: object"
            ]
          },
          "metadata": {
            "tags": []
          },
          "execution_count": 15
        }
      ]
    },
    {
      "cell_type": "markdown",
      "metadata": {
        "id": "Zd_Y7BuSt4PA"
      },
      "source": [
        "**TASK: We notice most of these countries are tiny islands, with the exception of Greenland and Western Sahara. We will fill any of these countries missing NaN values with 0, since they are so small or essentially non-existant. There should be 15 countries in total we do this for. For a hint on how to do this, recall we can do the following:**\n",
        "\n",
        "    df[df['feature'].isnull()]\n",
        "    "
      ]
    },
    {
      "cell_type": "code",
      "metadata": {
        "id": "O0_-waf_t4PB"
      },
      "source": [
        "# REMOVAL OF TINY ISLANDS\n",
        "df[df['Agriculture'].isnull()] = df[df['Agriculture'].isnull()].fillna(0)"
      ],
      "execution_count": 16,
      "outputs": []
    },
    {
      "cell_type": "markdown",
      "metadata": {
        "id": "06_nf6xct4PC"
      },
      "source": [
        "**TASK: Now check to see what is still missing by counting number of missing elements again per feature:**"
      ]
    },
    {
      "cell_type": "code",
      "metadata": {
        "colab": {
          "base_uri": "https://localhost:8080/"
        },
        "id": "41XmjwW6t4PD",
        "outputId": "65ec3452-241d-4fdd-a16b-92a674a29340"
      },
      "source": [
        "df.isnull().sum()"
      ],
      "execution_count": 17,
      "outputs": [
        {
          "output_type": "execute_result",
          "data": {
            "text/plain": [
              "Country                                0\n",
              "Region                                 0\n",
              "Population                             0\n",
              "Area (sq. mi.)                         0\n",
              "Pop. Density (per sq. mi.)             0\n",
              "Coastline (coast/area ratio)           0\n",
              "Net migration                          1\n",
              "Infant mortality (per 1000 births)     1\n",
              "GDP ($ per capita)                     0\n",
              "Literacy (%)                          13\n",
              "Phones (per 1000)                      2\n",
              "Arable (%)                             1\n",
              "Crops (%)                              1\n",
              "Other (%)                              1\n",
              "Climate                               18\n",
              "Birthrate                              1\n",
              "Deathrate                              2\n",
              "Agriculture                            0\n",
              "Industry                               1\n",
              "Service                                1\n",
              "dtype: int64"
            ]
          },
          "metadata": {
            "tags": []
          },
          "execution_count": 17
        }
      ]
    },
    {
      "cell_type": "markdown",
      "metadata": {
        "id": "oeA7uLsNt4PE"
      },
      "source": [
        "**TASK: Notice climate is missing for a few countries, but not the Region! Let's use this to our advantage. Fill in the missing Climate values based on the mean climate value for its region.**\n",
        "\n",
        "Hints on how to do this: https://stackoverflow.com/questions/19966018/pandas-filling-missing-values-by-mean-in-each-group\n"
      ]
    },
    {
      "cell_type": "code",
      "metadata": {
        "id": "z5M2tCVft4PG"
      },
      "source": [
        "# https://stackoverflow.com/questions/19966018/pandas-filling-missing-values-by-mean-in-each-group\n",
        "df['Climate'] = df['Climate'].fillna(df.groupby('Region')['Climate'].transform('mean'))"
      ],
      "execution_count": 18,
      "outputs": []
    },
    {
      "cell_type": "markdown",
      "metadata": {
        "id": "N0RPRpdft4PH"
      },
      "source": [
        "**TASK: Check again on many elements are missing:**"
      ]
    },
    {
      "cell_type": "code",
      "metadata": {
        "colab": {
          "base_uri": "https://localhost:8080/"
        },
        "id": "lYh32B5ht4PJ",
        "outputId": "e25a7b89-7f76-45e9-8058-a5336e548cce"
      },
      "source": [
        "df.isnull().sum()"
      ],
      "execution_count": 19,
      "outputs": [
        {
          "output_type": "execute_result",
          "data": {
            "text/plain": [
              "Country                                0\n",
              "Region                                 0\n",
              "Population                             0\n",
              "Area (sq. mi.)                         0\n",
              "Pop. Density (per sq. mi.)             0\n",
              "Coastline (coast/area ratio)           0\n",
              "Net migration                          1\n",
              "Infant mortality (per 1000 births)     1\n",
              "GDP ($ per capita)                     0\n",
              "Literacy (%)                          13\n",
              "Phones (per 1000)                      2\n",
              "Arable (%)                             1\n",
              "Crops (%)                              1\n",
              "Other (%)                              1\n",
              "Climate                                0\n",
              "Birthrate                              1\n",
              "Deathrate                              2\n",
              "Agriculture                            0\n",
              "Industry                               1\n",
              "Service                                1\n",
              "dtype: int64"
            ]
          },
          "metadata": {
            "tags": []
          },
          "execution_count": 19
        }
      ]
    },
    {
      "cell_type": "markdown",
      "metadata": {
        "id": "seXzLSlLt4PK"
      },
      "source": [
        "**TASK: It looks like Literacy percentage is missing. Use the same tactic as we did with Climate missing values and fill in any missing Literacy % values with the mean Literacy % of the Region.**"
      ]
    },
    {
      "cell_type": "code",
      "metadata": {
        "colab": {
          "base_uri": "https://localhost:8080/",
          "height": 744
        },
        "id": "EDqO2cfzt4PL",
        "outputId": "d0c37255-e4ed-44d1-cdd5-2ee9200c056c"
      },
      "source": [
        "df[df['Literacy (%)'].isnull()]"
      ],
      "execution_count": 20,
      "outputs": [
        {
          "output_type": "execute_result",
          "data": {
            "text/html": [
              "<div>\n",
              "<style scoped>\n",
              "    .dataframe tbody tr th:only-of-type {\n",
              "        vertical-align: middle;\n",
              "    }\n",
              "\n",
              "    .dataframe tbody tr th {\n",
              "        vertical-align: top;\n",
              "    }\n",
              "\n",
              "    .dataframe thead th {\n",
              "        text-align: right;\n",
              "    }\n",
              "</style>\n",
              "<table border=\"1\" class=\"dataframe\">\n",
              "  <thead>\n",
              "    <tr style=\"text-align: right;\">\n",
              "      <th></th>\n",
              "      <th>Country</th>\n",
              "      <th>Region</th>\n",
              "      <th>Population</th>\n",
              "      <th>Area (sq. mi.)</th>\n",
              "      <th>Pop. Density (per sq. mi.)</th>\n",
              "      <th>Coastline (coast/area ratio)</th>\n",
              "      <th>Net migration</th>\n",
              "      <th>Infant mortality (per 1000 births)</th>\n",
              "      <th>GDP ($ per capita)</th>\n",
              "      <th>Literacy (%)</th>\n",
              "      <th>Phones (per 1000)</th>\n",
              "      <th>Arable (%)</th>\n",
              "      <th>Crops (%)</th>\n",
              "      <th>Other (%)</th>\n",
              "      <th>Climate</th>\n",
              "      <th>Birthrate</th>\n",
              "      <th>Deathrate</th>\n",
              "      <th>Agriculture</th>\n",
              "      <th>Industry</th>\n",
              "      <th>Service</th>\n",
              "    </tr>\n",
              "  </thead>\n",
              "  <tbody>\n",
              "    <tr>\n",
              "      <th>25</th>\n",
              "      <td>Bosnia &amp; Herzegovina</td>\n",
              "      <td>EASTERN EUROPE</td>\n",
              "      <td>4498976</td>\n",
              "      <td>51129</td>\n",
              "      <td>88.0</td>\n",
              "      <td>0.04</td>\n",
              "      <td>0.31</td>\n",
              "      <td>21.05</td>\n",
              "      <td>6100.0</td>\n",
              "      <td>NaN</td>\n",
              "      <td>215.4</td>\n",
              "      <td>13.60</td>\n",
              "      <td>2.96</td>\n",
              "      <td>83.44</td>\n",
              "      <td>4.000000</td>\n",
              "      <td>8.77</td>\n",
              "      <td>8.27</td>\n",
              "      <td>0.142</td>\n",
              "      <td>0.308</td>\n",
              "      <td>0.550</td>\n",
              "    </tr>\n",
              "    <tr>\n",
              "      <th>66</th>\n",
              "      <td>Faroe Islands</td>\n",
              "      <td>WESTERN EUROPE</td>\n",
              "      <td>47246</td>\n",
              "      <td>1399</td>\n",
              "      <td>33.8</td>\n",
              "      <td>79.84</td>\n",
              "      <td>1.41</td>\n",
              "      <td>6.24</td>\n",
              "      <td>22000.0</td>\n",
              "      <td>NaN</td>\n",
              "      <td>503.8</td>\n",
              "      <td>2.14</td>\n",
              "      <td>0.00</td>\n",
              "      <td>97.86</td>\n",
              "      <td>2.826087</td>\n",
              "      <td>14.05</td>\n",
              "      <td>8.70</td>\n",
              "      <td>0.270</td>\n",
              "      <td>0.110</td>\n",
              "      <td>0.620</td>\n",
              "    </tr>\n",
              "    <tr>\n",
              "      <th>74</th>\n",
              "      <td>Gaza Strip</td>\n",
              "      <td>NEAR EAST</td>\n",
              "      <td>1428757</td>\n",
              "      <td>360</td>\n",
              "      <td>3968.8</td>\n",
              "      <td>11.11</td>\n",
              "      <td>1.60</td>\n",
              "      <td>22.93</td>\n",
              "      <td>600.0</td>\n",
              "      <td>NaN</td>\n",
              "      <td>244.3</td>\n",
              "      <td>28.95</td>\n",
              "      <td>21.05</td>\n",
              "      <td>50.00</td>\n",
              "      <td>3.000000</td>\n",
              "      <td>39.45</td>\n",
              "      <td>3.80</td>\n",
              "      <td>0.030</td>\n",
              "      <td>0.283</td>\n",
              "      <td>0.687</td>\n",
              "    </tr>\n",
              "    <tr>\n",
              "      <th>85</th>\n",
              "      <td>Guernsey</td>\n",
              "      <td>WESTERN EUROPE</td>\n",
              "      <td>65409</td>\n",
              "      <td>78</td>\n",
              "      <td>838.6</td>\n",
              "      <td>64.10</td>\n",
              "      <td>3.84</td>\n",
              "      <td>4.71</td>\n",
              "      <td>20000.0</td>\n",
              "      <td>NaN</td>\n",
              "      <td>842.4</td>\n",
              "      <td>NaN</td>\n",
              "      <td>NaN</td>\n",
              "      <td>NaN</td>\n",
              "      <td>3.000000</td>\n",
              "      <td>8.81</td>\n",
              "      <td>10.01</td>\n",
              "      <td>0.030</td>\n",
              "      <td>0.100</td>\n",
              "      <td>0.870</td>\n",
              "    </tr>\n",
              "    <tr>\n",
              "      <th>99</th>\n",
              "      <td>Isle of Man</td>\n",
              "      <td>WESTERN EUROPE</td>\n",
              "      <td>75441</td>\n",
              "      <td>572</td>\n",
              "      <td>131.9</td>\n",
              "      <td>27.97</td>\n",
              "      <td>5.36</td>\n",
              "      <td>5.93</td>\n",
              "      <td>21000.0</td>\n",
              "      <td>NaN</td>\n",
              "      <td>676.0</td>\n",
              "      <td>9.00</td>\n",
              "      <td>0.00</td>\n",
              "      <td>91.00</td>\n",
              "      <td>3.000000</td>\n",
              "      <td>11.05</td>\n",
              "      <td>11.19</td>\n",
              "      <td>0.010</td>\n",
              "      <td>0.130</td>\n",
              "      <td>0.860</td>\n",
              "    </tr>\n",
              "    <tr>\n",
              "      <th>104</th>\n",
              "      <td>Jersey</td>\n",
              "      <td>WESTERN EUROPE</td>\n",
              "      <td>91084</td>\n",
              "      <td>116</td>\n",
              "      <td>785.2</td>\n",
              "      <td>60.34</td>\n",
              "      <td>2.76</td>\n",
              "      <td>5.24</td>\n",
              "      <td>24800.0</td>\n",
              "      <td>NaN</td>\n",
              "      <td>811.3</td>\n",
              "      <td>0.00</td>\n",
              "      <td>0.00</td>\n",
              "      <td>100.00</td>\n",
              "      <td>3.000000</td>\n",
              "      <td>9.30</td>\n",
              "      <td>9.28</td>\n",
              "      <td>0.050</td>\n",
              "      <td>0.020</td>\n",
              "      <td>0.930</td>\n",
              "    </tr>\n",
              "    <tr>\n",
              "      <th>108</th>\n",
              "      <td>Kiribati</td>\n",
              "      <td>OCEANIA</td>\n",
              "      <td>105432</td>\n",
              "      <td>811</td>\n",
              "      <td>130.0</td>\n",
              "      <td>140.94</td>\n",
              "      <td>0.00</td>\n",
              "      <td>48.52</td>\n",
              "      <td>800.0</td>\n",
              "      <td>NaN</td>\n",
              "      <td>42.7</td>\n",
              "      <td>2.74</td>\n",
              "      <td>50.68</td>\n",
              "      <td>46.58</td>\n",
              "      <td>2.000000</td>\n",
              "      <td>30.65</td>\n",
              "      <td>8.26</td>\n",
              "      <td>0.089</td>\n",
              "      <td>0.242</td>\n",
              "      <td>0.668</td>\n",
              "    </tr>\n",
              "    <tr>\n",
              "      <th>123</th>\n",
              "      <td>Macedonia</td>\n",
              "      <td>EASTERN EUROPE</td>\n",
              "      <td>2050554</td>\n",
              "      <td>25333</td>\n",
              "      <td>80.9</td>\n",
              "      <td>0.00</td>\n",
              "      <td>-1.45</td>\n",
              "      <td>10.09</td>\n",
              "      <td>6700.0</td>\n",
              "      <td>NaN</td>\n",
              "      <td>260.0</td>\n",
              "      <td>22.26</td>\n",
              "      <td>1.81</td>\n",
              "      <td>75.93</td>\n",
              "      <td>3.000000</td>\n",
              "      <td>12.02</td>\n",
              "      <td>8.77</td>\n",
              "      <td>0.118</td>\n",
              "      <td>0.319</td>\n",
              "      <td>0.563</td>\n",
              "    </tr>\n",
              "    <tr>\n",
              "      <th>185</th>\n",
              "      <td>Slovakia</td>\n",
              "      <td>EASTERN EUROPE</td>\n",
              "      <td>5439448</td>\n",
              "      <td>48845</td>\n",
              "      <td>111.4</td>\n",
              "      <td>0.00</td>\n",
              "      <td>0.30</td>\n",
              "      <td>7.41</td>\n",
              "      <td>13300.0</td>\n",
              "      <td>NaN</td>\n",
              "      <td>220.1</td>\n",
              "      <td>30.16</td>\n",
              "      <td>2.62</td>\n",
              "      <td>67.22</td>\n",
              "      <td>3.000000</td>\n",
              "      <td>10.65</td>\n",
              "      <td>9.45</td>\n",
              "      <td>0.035</td>\n",
              "      <td>0.294</td>\n",
              "      <td>0.672</td>\n",
              "    </tr>\n",
              "    <tr>\n",
              "      <th>187</th>\n",
              "      <td>Solomon Islands</td>\n",
              "      <td>OCEANIA</td>\n",
              "      <td>552438</td>\n",
              "      <td>28450</td>\n",
              "      <td>19.4</td>\n",
              "      <td>18.67</td>\n",
              "      <td>0.00</td>\n",
              "      <td>21.29</td>\n",
              "      <td>1700.0</td>\n",
              "      <td>NaN</td>\n",
              "      <td>13.4</td>\n",
              "      <td>0.64</td>\n",
              "      <td>2.00</td>\n",
              "      <td>97.36</td>\n",
              "      <td>2.000000</td>\n",
              "      <td>30.01</td>\n",
              "      <td>3.92</td>\n",
              "      <td>0.420</td>\n",
              "      <td>0.110</td>\n",
              "      <td>0.470</td>\n",
              "    </tr>\n",
              "    <tr>\n",
              "      <th>209</th>\n",
              "      <td>Tuvalu</td>\n",
              "      <td>OCEANIA</td>\n",
              "      <td>11810</td>\n",
              "      <td>26</td>\n",
              "      <td>454.2</td>\n",
              "      <td>92.31</td>\n",
              "      <td>0.00</td>\n",
              "      <td>20.03</td>\n",
              "      <td>1100.0</td>\n",
              "      <td>NaN</td>\n",
              "      <td>59.3</td>\n",
              "      <td>0.00</td>\n",
              "      <td>0.00</td>\n",
              "      <td>100.00</td>\n",
              "      <td>2.000000</td>\n",
              "      <td>22.18</td>\n",
              "      <td>7.11</td>\n",
              "      <td>0.166</td>\n",
              "      <td>0.272</td>\n",
              "      <td>0.562</td>\n",
              "    </tr>\n",
              "    <tr>\n",
              "      <th>220</th>\n",
              "      <td>Virgin Islands</td>\n",
              "      <td>LATIN AMER. &amp; CARIB</td>\n",
              "      <td>108605</td>\n",
              "      <td>1910</td>\n",
              "      <td>56.9</td>\n",
              "      <td>9.84</td>\n",
              "      <td>-8.94</td>\n",
              "      <td>8.03</td>\n",
              "      <td>17200.0</td>\n",
              "      <td>NaN</td>\n",
              "      <td>652.8</td>\n",
              "      <td>11.76</td>\n",
              "      <td>2.94</td>\n",
              "      <td>85.30</td>\n",
              "      <td>2.000000</td>\n",
              "      <td>13.96</td>\n",
              "      <td>6.43</td>\n",
              "      <td>0.010</td>\n",
              "      <td>0.190</td>\n",
              "      <td>0.800</td>\n",
              "    </tr>\n",
              "    <tr>\n",
              "      <th>222</th>\n",
              "      <td>West Bank</td>\n",
              "      <td>NEAR EAST</td>\n",
              "      <td>2460492</td>\n",
              "      <td>5860</td>\n",
              "      <td>419.9</td>\n",
              "      <td>0.00</td>\n",
              "      <td>2.98</td>\n",
              "      <td>19.62</td>\n",
              "      <td>800.0</td>\n",
              "      <td>NaN</td>\n",
              "      <td>145.2</td>\n",
              "      <td>16.90</td>\n",
              "      <td>18.97</td>\n",
              "      <td>64.13</td>\n",
              "      <td>3.000000</td>\n",
              "      <td>31.67</td>\n",
              "      <td>3.92</td>\n",
              "      <td>0.090</td>\n",
              "      <td>0.280</td>\n",
              "      <td>0.630</td>\n",
              "    </tr>\n",
              "  </tbody>\n",
              "</table>\n",
              "</div>"
            ],
            "text/plain": [
              "                  Country  ... Service\n",
              "25   Bosnia & Herzegovina  ...   0.550\n",
              "66          Faroe Islands  ...   0.620\n",
              "74             Gaza Strip  ...   0.687\n",
              "85               Guernsey  ...   0.870\n",
              "99            Isle of Man  ...   0.860\n",
              "104                Jersey  ...   0.930\n",
              "108              Kiribati  ...   0.668\n",
              "123             Macedonia  ...   0.563\n",
              "185              Slovakia  ...   0.672\n",
              "187       Solomon Islands  ...   0.470\n",
              "209                Tuvalu  ...   0.562\n",
              "220        Virgin Islands  ...   0.800\n",
              "222             West Bank  ...   0.630\n",
              "\n",
              "[13 rows x 20 columns]"
            ]
          },
          "metadata": {
            "tags": []
          },
          "execution_count": 20
        }
      ]
    },
    {
      "cell_type": "code",
      "metadata": {
        "id": "zOzxrgngt4PM"
      },
      "source": [
        "# https://stackoverflow.com/questions/19966018/pandas-filling-missing-values-by-mean-in-each-group\n",
        "df['Literacy (%)'] = df['Literacy (%)'].fillna(df.groupby('Region')['Literacy (%)'].transform('mean'))"
      ],
      "execution_count": 21,
      "outputs": []
    },
    {
      "cell_type": "markdown",
      "metadata": {
        "id": "O6Q5bpDet4PN"
      },
      "source": [
        "**TASK: Check again on the remaining missing values:**"
      ]
    },
    {
      "cell_type": "code",
      "metadata": {
        "colab": {
          "base_uri": "https://localhost:8080/"
        },
        "id": "1IKk6IZFt4PO",
        "outputId": "e5760415-6d52-4281-8593-2283522f82ce"
      },
      "source": [
        "df.isnull().sum()"
      ],
      "execution_count": 22,
      "outputs": [
        {
          "output_type": "execute_result",
          "data": {
            "text/plain": [
              "Country                               0\n",
              "Region                                0\n",
              "Population                            0\n",
              "Area (sq. mi.)                        0\n",
              "Pop. Density (per sq. mi.)            0\n",
              "Coastline (coast/area ratio)          0\n",
              "Net migration                         1\n",
              "Infant mortality (per 1000 births)    1\n",
              "GDP ($ per capita)                    0\n",
              "Literacy (%)                          0\n",
              "Phones (per 1000)                     2\n",
              "Arable (%)                            1\n",
              "Crops (%)                             1\n",
              "Other (%)                             1\n",
              "Climate                               0\n",
              "Birthrate                             1\n",
              "Deathrate                             2\n",
              "Agriculture                           0\n",
              "Industry                              1\n",
              "Service                               1\n",
              "dtype: int64"
            ]
          },
          "metadata": {
            "tags": []
          },
          "execution_count": 22
        }
      ]
    },
    {
      "cell_type": "markdown",
      "metadata": {
        "id": "lJ3ycff0t4PP"
      },
      "source": [
        "**TASK: Optional: We are now missing values for only a few countries. We can either drop these countries OR fill in these last few remaining values with any preferred methodology. For simplicity, we will drop these.**"
      ]
    },
    {
      "cell_type": "code",
      "metadata": {
        "id": "BuuroHnht4PQ"
      },
      "source": [
        "df = df.dropna()"
      ],
      "execution_count": 23,
      "outputs": []
    },
    {
      "cell_type": "markdown",
      "metadata": {
        "id": "x3RI1DOxt4PR"
      },
      "source": [
        "## Data Feature Preparation"
      ]
    },
    {
      "cell_type": "markdown",
      "metadata": {
        "id": "BvoMTbmMt4PS"
      },
      "source": [
        "**TASK: It is now time to prepare the data for clustering. The Country column is still a unique identifier string, so it won't be useful for clustering, since its unique for each point. We will drop the Country column.**"
      ]
    },
    {
      "cell_type": "code",
      "metadata": {
        "id": "Yyq_hNZwt4PT"
      },
      "source": [
        "X = df.drop(\"Country\",axis=1)"
      ],
      "execution_count": 24,
      "outputs": []
    },
    {
      "cell_type": "markdown",
      "metadata": {
        "id": "67_81WRXt4PU"
      },
      "source": [
        "**TASK: Now let's create the X array of features, the Region column is still categorical strings, we will use Pandas to create dummy variables from this column to create a finalzed X matrix of continuous features along with the dummy variables for the Regions.**"
      ]
    },
    {
      "cell_type": "code",
      "metadata": {
        "id": "DH2gvipkt4PX"
      },
      "source": [
        "X = pd.get_dummies(X)"
      ],
      "execution_count": 25,
      "outputs": []
    },
    {
      "cell_type": "code",
      "metadata": {
        "colab": {
          "base_uri": "https://localhost:8080/",
          "height": 292
        },
        "id": "0X2gJvTGt4PY",
        "outputId": "2be03a8a-99b4-4d23-cf13-cc64914f6161"
      },
      "source": [
        "X.head()"
      ],
      "execution_count": 26,
      "outputs": [
        {
          "output_type": "execute_result",
          "data": {
            "text/html": [
              "<div>\n",
              "<style scoped>\n",
              "    .dataframe tbody tr th:only-of-type {\n",
              "        vertical-align: middle;\n",
              "    }\n",
              "\n",
              "    .dataframe tbody tr th {\n",
              "        vertical-align: top;\n",
              "    }\n",
              "\n",
              "    .dataframe thead th {\n",
              "        text-align: right;\n",
              "    }\n",
              "</style>\n",
              "<table border=\"1\" class=\"dataframe\">\n",
              "  <thead>\n",
              "    <tr style=\"text-align: right;\">\n",
              "      <th></th>\n",
              "      <th>Population</th>\n",
              "      <th>Area (sq. mi.)</th>\n",
              "      <th>Pop. Density (per sq. mi.)</th>\n",
              "      <th>Coastline (coast/area ratio)</th>\n",
              "      <th>Net migration</th>\n",
              "      <th>Infant mortality (per 1000 births)</th>\n",
              "      <th>GDP ($ per capita)</th>\n",
              "      <th>Literacy (%)</th>\n",
              "      <th>Phones (per 1000)</th>\n",
              "      <th>Arable (%)</th>\n",
              "      <th>Crops (%)</th>\n",
              "      <th>Other (%)</th>\n",
              "      <th>Climate</th>\n",
              "      <th>Birthrate</th>\n",
              "      <th>Deathrate</th>\n",
              "      <th>Agriculture</th>\n",
              "      <th>Industry</th>\n",
              "      <th>Service</th>\n",
              "      <th>Region_ASIA (EX. NEAR EAST)</th>\n",
              "      <th>Region_BALTICS</th>\n",
              "      <th>Region_C.W. OF IND. STATES</th>\n",
              "      <th>Region_EASTERN EUROPE</th>\n",
              "      <th>Region_LATIN AMER. &amp; CARIB</th>\n",
              "      <th>Region_NEAR EAST</th>\n",
              "      <th>Region_NORTHERN AFRICA</th>\n",
              "      <th>Region_NORTHERN AMERICA</th>\n",
              "      <th>Region_OCEANIA</th>\n",
              "      <th>Region_SUB-SAHARAN AFRICA</th>\n",
              "      <th>Region_WESTERN EUROPE</th>\n",
              "    </tr>\n",
              "  </thead>\n",
              "  <tbody>\n",
              "    <tr>\n",
              "      <th>0</th>\n",
              "      <td>31056997</td>\n",
              "      <td>647500</td>\n",
              "      <td>48.0</td>\n",
              "      <td>0.00</td>\n",
              "      <td>23.06</td>\n",
              "      <td>163.07</td>\n",
              "      <td>700.0</td>\n",
              "      <td>36.0</td>\n",
              "      <td>3.2</td>\n",
              "      <td>12.13</td>\n",
              "      <td>0.22</td>\n",
              "      <td>87.65</td>\n",
              "      <td>1.0</td>\n",
              "      <td>46.60</td>\n",
              "      <td>20.34</td>\n",
              "      <td>0.380</td>\n",
              "      <td>0.240</td>\n",
              "      <td>0.380</td>\n",
              "      <td>1</td>\n",
              "      <td>0</td>\n",
              "      <td>0</td>\n",
              "      <td>0</td>\n",
              "      <td>0</td>\n",
              "      <td>0</td>\n",
              "      <td>0</td>\n",
              "      <td>0</td>\n",
              "      <td>0</td>\n",
              "      <td>0</td>\n",
              "      <td>0</td>\n",
              "    </tr>\n",
              "    <tr>\n",
              "      <th>1</th>\n",
              "      <td>3581655</td>\n",
              "      <td>28748</td>\n",
              "      <td>124.6</td>\n",
              "      <td>1.26</td>\n",
              "      <td>-4.93</td>\n",
              "      <td>21.52</td>\n",
              "      <td>4500.0</td>\n",
              "      <td>86.5</td>\n",
              "      <td>71.2</td>\n",
              "      <td>21.09</td>\n",
              "      <td>4.42</td>\n",
              "      <td>74.49</td>\n",
              "      <td>3.0</td>\n",
              "      <td>15.11</td>\n",
              "      <td>5.22</td>\n",
              "      <td>0.232</td>\n",
              "      <td>0.188</td>\n",
              "      <td>0.579</td>\n",
              "      <td>0</td>\n",
              "      <td>0</td>\n",
              "      <td>0</td>\n",
              "      <td>1</td>\n",
              "      <td>0</td>\n",
              "      <td>0</td>\n",
              "      <td>0</td>\n",
              "      <td>0</td>\n",
              "      <td>0</td>\n",
              "      <td>0</td>\n",
              "      <td>0</td>\n",
              "    </tr>\n",
              "    <tr>\n",
              "      <th>2</th>\n",
              "      <td>32930091</td>\n",
              "      <td>2381740</td>\n",
              "      <td>13.8</td>\n",
              "      <td>0.04</td>\n",
              "      <td>-0.39</td>\n",
              "      <td>31.00</td>\n",
              "      <td>6000.0</td>\n",
              "      <td>70.0</td>\n",
              "      <td>78.1</td>\n",
              "      <td>3.22</td>\n",
              "      <td>0.25</td>\n",
              "      <td>96.53</td>\n",
              "      <td>1.0</td>\n",
              "      <td>17.14</td>\n",
              "      <td>4.61</td>\n",
              "      <td>0.101</td>\n",
              "      <td>0.600</td>\n",
              "      <td>0.298</td>\n",
              "      <td>0</td>\n",
              "      <td>0</td>\n",
              "      <td>0</td>\n",
              "      <td>0</td>\n",
              "      <td>0</td>\n",
              "      <td>0</td>\n",
              "      <td>1</td>\n",
              "      <td>0</td>\n",
              "      <td>0</td>\n",
              "      <td>0</td>\n",
              "      <td>0</td>\n",
              "    </tr>\n",
              "    <tr>\n",
              "      <th>3</th>\n",
              "      <td>57794</td>\n",
              "      <td>199</td>\n",
              "      <td>290.4</td>\n",
              "      <td>58.29</td>\n",
              "      <td>-20.71</td>\n",
              "      <td>9.27</td>\n",
              "      <td>8000.0</td>\n",
              "      <td>97.0</td>\n",
              "      <td>259.5</td>\n",
              "      <td>10.00</td>\n",
              "      <td>15.00</td>\n",
              "      <td>75.00</td>\n",
              "      <td>2.0</td>\n",
              "      <td>22.46</td>\n",
              "      <td>3.27</td>\n",
              "      <td>0.000</td>\n",
              "      <td>0.000</td>\n",
              "      <td>0.000</td>\n",
              "      <td>0</td>\n",
              "      <td>0</td>\n",
              "      <td>0</td>\n",
              "      <td>0</td>\n",
              "      <td>0</td>\n",
              "      <td>0</td>\n",
              "      <td>0</td>\n",
              "      <td>0</td>\n",
              "      <td>1</td>\n",
              "      <td>0</td>\n",
              "      <td>0</td>\n",
              "    </tr>\n",
              "    <tr>\n",
              "      <th>4</th>\n",
              "      <td>71201</td>\n",
              "      <td>468</td>\n",
              "      <td>152.1</td>\n",
              "      <td>0.00</td>\n",
              "      <td>6.60</td>\n",
              "      <td>4.05</td>\n",
              "      <td>19000.0</td>\n",
              "      <td>100.0</td>\n",
              "      <td>497.2</td>\n",
              "      <td>2.22</td>\n",
              "      <td>0.00</td>\n",
              "      <td>97.78</td>\n",
              "      <td>3.0</td>\n",
              "      <td>8.71</td>\n",
              "      <td>6.25</td>\n",
              "      <td>0.000</td>\n",
              "      <td>0.000</td>\n",
              "      <td>0.000</td>\n",
              "      <td>0</td>\n",
              "      <td>0</td>\n",
              "      <td>0</td>\n",
              "      <td>0</td>\n",
              "      <td>0</td>\n",
              "      <td>0</td>\n",
              "      <td>0</td>\n",
              "      <td>0</td>\n",
              "      <td>0</td>\n",
              "      <td>0</td>\n",
              "      <td>1</td>\n",
              "    </tr>\n",
              "  </tbody>\n",
              "</table>\n",
              "</div>"
            ],
            "text/plain": [
              "   Population  ...  Region_WESTERN EUROPE                     \n",
              "0    31056997  ...                                           0\n",
              "1     3581655  ...                                           0\n",
              "2    32930091  ...                                           0\n",
              "3       57794  ...                                           0\n",
              "4       71201  ...                                           1\n",
              "\n",
              "[5 rows x 29 columns]"
            ]
          },
          "metadata": {
            "tags": []
          },
          "execution_count": 26
        }
      ]
    },
    {
      "cell_type": "markdown",
      "metadata": {
        "id": "nsx2a2EXt4PZ"
      },
      "source": [
        "### Scaling"
      ]
    },
    {
      "cell_type": "markdown",
      "metadata": {
        "id": "aF12GS_Wt4PZ"
      },
      "source": [
        "**TASK: Due to some measurements being in terms of percentages and other metrics being total counts (population), we should scale this data first. Use Sklearn to scale the X feature matrics.**"
      ]
    },
    {
      "cell_type": "code",
      "metadata": {
        "id": "ufMpWMaut4Pb"
      },
      "source": [
        "from sklearn.preprocessing import StandardScaler"
      ],
      "execution_count": 27,
      "outputs": []
    },
    {
      "cell_type": "code",
      "metadata": {
        "id": "0ZSmTat5t4Pc"
      },
      "source": [
        "scaler = StandardScaler()\n",
        "scaled_X = scaler.fit_transform(X)"
      ],
      "execution_count": 28,
      "outputs": []
    },
    {
      "cell_type": "code",
      "metadata": {
        "colab": {
          "base_uri": "https://localhost:8080/"
        },
        "id": "8zUAI317t4Pc",
        "outputId": "30a2d45f-be8f-455e-be27-56f4986774b0"
      },
      "source": [
        "scaled_X"
      ],
      "execution_count": 29,
      "outputs": [
        {
          "output_type": "execute_result",
          "data": {
            "text/plain": [
              "array([[ 0.0133285 ,  0.01855412, -0.20308668, ..., -0.31544015,\n",
              "        -0.54772256, -0.36514837],\n",
              "       [-0.21730118, -0.32370888, -0.14378531, ..., -0.31544015,\n",
              "        -0.54772256, -0.36514837],\n",
              "       [ 0.02905136,  0.97784988, -0.22956327, ..., -0.31544015,\n",
              "        -0.54772256, -0.36514837],\n",
              "       ...,\n",
              "       [-0.06726127, -0.04756396, -0.20881553, ..., -0.31544015,\n",
              "        -0.54772256, -0.36514837],\n",
              "       [-0.15081724,  0.07669798, -0.22840201, ..., -0.31544015,\n",
              "         1.82574186, -0.36514837],\n",
              "       [-0.14464933, -0.12356132, -0.2160153 , ..., -0.31544015,\n",
              "         1.82574186, -0.36514837]])"
            ]
          },
          "metadata": {
            "tags": []
          },
          "execution_count": 29
        }
      ]
    },
    {
      "cell_type": "markdown",
      "metadata": {
        "id": "9BdSygnat4Pd"
      },
      "source": [
        "### Creating and Fitting Kmeans Model\n",
        "\n",
        "\n"
      ]
    },
    {
      "cell_type": "markdown",
      "metadata": {
        "id": "fs1Ez4Ezt4Pe"
      },
      "source": [
        "**TASK: Use a for loop to create and fit multiple KMeans models, testing from K=2-30 clusters. Keep track of the Sum of Squared Distances for each K value, then plot this out to create an \"elbow\" plot of K versus SSD. Optional: You may also want to create a bar plot showing the SSD difference from the previous cluster.**"
      ]
    },
    {
      "cell_type": "code",
      "metadata": {
        "id": "SST-1Jxdt4Pg"
      },
      "source": [
        "from sklearn.cluster import KMeans"
      ],
      "execution_count": 30,
      "outputs": []
    },
    {
      "cell_type": "code",
      "metadata": {
        "id": "ctX98jp6t4Pg"
      },
      "source": [
        "ssd = []\n",
        "\n",
        "for k in range(2,30):\n",
        "    \n",
        "    model = KMeans(n_clusters=k)\n",
        "    \n",
        "    \n",
        "    model.fit(scaled_X)\n",
        "    \n",
        "    #Sum of squared distances of samples to their closest cluster center.\n",
        "    ssd.append(model.inertia_)"
      ],
      "execution_count": 31,
      "outputs": []
    },
    {
      "cell_type": "code",
      "metadata": {
        "colab": {
          "base_uri": "https://localhost:8080/",
          "height": 296
        },
        "id": "W9C_gOvvt4Ph",
        "outputId": "719813db-4028-4220-a552-9e28efc25596"
      },
      "source": [
        "plt.plot(range(2,30),ssd,'o--')\n",
        "plt.xlabel(\"K Value\")\n",
        "plt.ylabel(\" Sum of Squared Distances\")"
      ],
      "execution_count": 32,
      "outputs": [
        {
          "output_type": "execute_result",
          "data": {
            "text/plain": [
              "Text(0, 0.5, ' Sum of Squared Distances')"
            ]
          },
          "metadata": {
            "tags": []
          },
          "execution_count": 32
        },
        {
          "output_type": "display_data",
          "data": {
            "image/png": "[encoded data removed]",
            "text/plain": [
              "<Figure size 432x288 with 1 Axes>"
            ]
          },
          "metadata": {
            "tags": [],
            "needs_background": "light"
          }
        }
      ]
    },
    {
      "cell_type": "code",
      "metadata": {
        "colab": {
          "base_uri": "https://localhost:8080/",
          "height": 289
        },
        "id": "F9-huYZ7t4Pj",
        "outputId": "cfe3fec6-4698-4c99-f40e-1cedd838d60d"
      },
      "source": [
        "pd.Series(ssd).diff().plot(kind='bar')"
      ],
      "execution_count": 33,
      "outputs": [
        {
          "output_type": "execute_result",
          "data": {
            "text/plain": [
              "<matplotlib.axes._subplots.AxesSubplot at 0x7f8ce1dbcdd0>"
            ]
          },
          "metadata": {
            "tags": []
          },
          "execution_count": 33
        },
        {
          "output_type": "display_data",
          "data": {
            "image/png": "[encoded data removed]",
            "text/plain": [
              "<Figure size 432x288 with 1 Axes>"
            ]
          },
          "metadata": {
            "tags": [],
            "needs_background": "light"
          }
        }
      ]
    },
    {
      "cell_type": "markdown",
      "metadata": {
        "id": "jGsbAh41t4Pk"
      },
      "source": [
        "-----"
      ]
    },
    {
      "cell_type": "markdown",
      "metadata": {
        "id": "Q9TQS7R9t4Pl"
      },
      "source": [
        "# Model Interpretation\n",
        "\n",
        "\n",
        "**TASK: What K value is a good choice? Are there multiple reasonable choices? What features are helping define these cluster choices. As this is unsupervised learning, there is no 100% correct answer here.**"
      ]
    },
    {
      "cell_type": "code",
      "metadata": {
        "id": "06rNdXuHt4Pm"
      },
      "source": [
        "# Nothing to really code here, but we can choose a K value and see what features \n",
        "# are most correlated to belonging to a particular cluster!\n",
        "# Remember, there is no 100% correct answer here!"
      ],
      "execution_count": 34,
      "outputs": []
    },
    {
      "cell_type": "markdown",
      "metadata": {
        "id": "UYpIY7xPt4Pn"
      },
      "source": [
        "-----\n",
        "\n",
        "\n",
        "#### Example Interpretation: Choosing K=3\n",
        "\n",
        "**One could say that there is a significant drop off in SSD difference at K=3 (although we can see it continues to drop off past this). What would an analysis look like for K=3? Let's explore which features are important in the decision of 3 clusters!**"
      ]
    },
    {
      "cell_type": "code",
      "metadata": {
        "colab": {
          "base_uri": "https://localhost:8080/"
        },
        "id": "lXUnOrhbt4Po",
        "outputId": "1d1fe41f-2b50-4d2c-9ba5-d3a7986f76ef"
      },
      "source": [
        "model = KMeans(n_clusters=3)\n",
        "model.fit(scaled_X)"
      ],
      "execution_count": 93,
      "outputs": [
        {
          "output_type": "execute_result",
          "data": {
            "text/plain": [
              "KMeans(algorithm='auto', copy_x=True, init='k-means++', max_iter=300,\n",
              "       n_clusters=3, n_init=10, n_jobs=None, precompute_distances='auto',\n",
              "       random_state=None, tol=0.0001, verbose=0)"
            ]
          },
          "metadata": {
            "tags": []
          },
          "execution_count": 93
        }
      ]
    },
    {
      "cell_type": "code",
      "metadata": {
        "colab": {
          "base_uri": "https://localhost:8080/"
        },
        "id": "s6ynLKvzt4Pq",
        "outputId": "2d5e5e32-9caa-45d4-eeee-d176b3d7d84e"
      },
      "source": [
        "model.labels_"
      ],
      "execution_count": 94,
      "outputs": [
        {
          "output_type": "execute_result",
          "data": {
            "text/plain": [
              "array([0, 1, 1, 1, 2, 0, 1, 1, 1, 1, 2, 2, 2, 1, 1, 1, 1, 2, 2, 2, 1, 0,\n",
              "       2, 0, 1, 2, 0, 1, 2, 1, 2, 0, 1, 0, 1, 0, 2, 1, 2, 0, 0, 1, 1, 1,\n",
              "       0, 0, 0, 1, 0, 2, 1, 2, 2, 0, 1, 1, 1, 1, 1, 0, 0, 2, 0, 2, 1, 2,\n",
              "       2, 1, 1, 0, 0, 1, 1, 2, 0, 2, 2, 1, 1, 1, 1, 1, 0, 0, 1, 1, 1, 2,\n",
              "       2, 2, 1, 1, 1, 1, 2, 2, 2, 2, 1, 2, 2, 1, 1, 0, 1, 1, 2, 1, 1, 0,\n",
              "       2, 1, 0, 0, 1, 2, 2, 2, 2, 2, 0, 0, 1, 1, 0, 2, 1, 1, 0, 1, 0, 1,\n",
              "       1, 1, 1, 1, 1, 0, 0, 1, 0, 2, 1, 1, 2, 1, 0, 0, 1, 2, 1, 1, 1, 1,\n",
              "       1, 1, 1, 1, 2, 2, 1, 1, 1, 2, 2, 0, 1, 1, 1, 1, 1, 1, 2, 1, 1, 0,\n",
              "       1, 0, 2, 2, 2, 1, 0, 0, 2, 1, 0, 1, 0, 2, 2, 1, 2, 1, 0, 1, 0, 1,\n",
              "       1, 1, 1, 1, 1, 1, 0, 1, 1, 2, 2, 1, 1, 1, 1, 1, 1, 1, 1, 1, 1, 0,\n",
              "       0], dtype=int32)"
            ]
          },
          "metadata": {
            "tags": []
          },
          "execution_count": 94
        }
      ]
    },
    {
      "cell_type": "code",
      "metadata": {
        "id": "-zrKkt9Ut4Pr"
      },
      "source": [
        "X['K=3 Clusters'] = model.labels_"
      ],
      "execution_count": 95,
      "outputs": []
    },
    {
      "cell_type": "code",
      "metadata": {
        "colab": {
          "base_uri": "https://localhost:8080/"
        },
        "id": "vwd7gARBt4Pr",
        "outputId": "60800327-2070-4353-ac04-c5b66798ccc2"
      },
      "source": [
        "X.corr()['K=3 Clusters'].sort_values()"
      ],
      "execution_count": 55,
      "outputs": [
        {
          "output_type": "execute_result",
          "data": {
            "text/plain": [
              "Deathrate                                    -0.714500\n",
              "Region_SUB-SAHARAN AFRICA                    -0.645156\n",
              "Infant mortality (per 1000 births)           -0.580502\n",
              "K=3 Clusters                                 -0.540374\n",
              "Agriculture                                  -0.470115\n",
              "Birthrate                                    -0.441299\n",
              "Region_EASTERN EUROPE                        -0.198216\n",
              "Arable (%)                                   -0.132577\n",
              "Net migration                                -0.129752\n",
              "Region_WESTERN EUROPE                        -0.108855\n",
              "Climate                                      -0.084640\n",
              "Region_ASIA (EX. NEAR EAST)                  -0.017044\n",
              "Pop. Density (per sq. mi.)                   -0.003510\n",
              "Region_NORTHERN AMERICA                       0.023773\n",
              "Area (sq. mi.)                                0.046542\n",
              "Population                                    0.061560\n",
              "Other (%)                                     0.070996\n",
              "Coastline (coast/area ratio)                  0.075135\n",
              "Region_OCEANIA                                0.076162\n",
              "GDP ($ per capita)                            0.096061\n",
              "Region_BALTICS                                0.098282\n",
              "Industry                                      0.131822\n",
              "Region_C.W. OF IND. STATES                    0.132705\n",
              "Crops (%)                                     0.139252\n",
              "Service                                       0.146610\n",
              "Phones (per 1000)                             0.219742\n",
              "Region_NORTHERN AFRICA                        0.234837\n",
              "Literacy (%)                                  0.360752\n",
              "Region_NEAR EAST                              0.379334\n",
              "Region_LATIN AMER. & CARIB                    0.385342\n",
              "K=6 Clusters                                  1.000000\n",
              "Name: K=6 Clusters, dtype: float64"
            ]
          },
          "metadata": {
            "tags": []
          },
          "execution_count": 55
        }
      ]
    },
    {
      "cell_type": "markdown",
      "metadata": {
        "id": "ZL7ziP95t4Ps"
      },
      "source": [
        "------------\n",
        "-------------\n",
        "## Geographical Model Interpretation"
      ]
    },
    {
      "cell_type": "markdown",
      "metadata": {
        "id": "Sa1sm8qMt4Pt"
      },
      "source": [
        "The best way to interpret this model is through visualizing the clusters of countries on a map!\n",
        "----\n",
        "----"
      ]
    },
    {
      "cell_type": "code",
      "metadata": {
        "colab": {
          "base_uri": "https://localhost:8080/"
        },
        "id": "x65hDIlzHWQ3",
        "outputId": "31285075-4306-42a3-eb9a-6859a948517a"
      },
      "source": [
        "pip install plotly===4.14.3"
      ],
      "execution_count": 56,
      "outputs": [
        {
          "output_type": "stream",
          "text": [
            "Requirement already satisfied: plotly===4.14.3 in /usr/local/lib/python3.7/dist-packages (4.14.3)\n",
            "Requirement already satisfied: six in /usr/local/lib/python3.7/dist-packages (from plotly===4.14.3) (1.15.0)\n",
            "Requirement already satisfied: retrying>=1.3.3 in /usr/local/lib/python3.7/dist-packages (from plotly===4.14.3) (1.3.3)\n"
          ],
          "name": "stdout"
        }
      ]
    },
    {
      "cell_type": "markdown",
      "metadata": {
        "id": "qYhHBk_yt4Pu"
      },
      "source": [
        "**TASK: Create cluster labels for a chosen K value. Based on the solutions, we believe either K=3 or K=15 are reasonable choices.**"
      ]
    },
    {
      "cell_type": "code",
      "metadata": {
        "colab": {
          "base_uri": "https://localhost:8080/"
        },
        "id": "fHtErnBat4Pv",
        "outputId": "b9da3770-2d15-40c7-cc39-cb2ab9efa912"
      },
      "source": [
        "model = KMeans(n_clusters=15)\n",
        "    \n",
        "model.fit(scaled_X) "
      ],
      "execution_count": 57,
      "outputs": [
        {
          "output_type": "execute_result",
          "data": {
            "text/plain": [
              "KMeans(algorithm='auto', copy_x=True, init='k-means++', max_iter=300,\n",
              "       n_clusters=15, n_init=10, n_jobs=None, precompute_distances='auto',\n",
              "       random_state=None, tol=0.0001, verbose=0)"
            ]
          },
          "metadata": {
            "tags": []
          },
          "execution_count": 57
        }
      ]
    },
    {
      "cell_type": "code",
      "metadata": {
        "colab": {
          "base_uri": "https://localhost:8080/"
        },
        "id": "9wc4TIC9t4Pw",
        "outputId": "aeb831fa-ea4a-4fe7-fe9d-cdbcc549e755"
      },
      "source": [
        "model = KMeans(n_clusters=3)\n",
        "    \n",
        "model.fit(scaled_X)"
      ],
      "execution_count": 96,
      "outputs": [
        {
          "output_type": "execute_result",
          "data": {
            "text/plain": [
              "KMeans(algorithm='auto', copy_x=True, init='k-means++', max_iter=300,\n",
              "       n_clusters=3, n_init=10, n_jobs=None, precompute_distances='auto',\n",
              "       random_state=None, tol=0.0001, verbose=0)"
            ]
          },
          "metadata": {
            "tags": []
          },
          "execution_count": 96
        }
      ]
    },
    {
      "cell_type": "markdown",
      "metadata": {
        "id": "3T16zfW8t4Px"
      },
      "source": [
        "**TASK: Let's present a real world scenario! Your boss just asked you to plot out these clusters on a country level choropleth map, can you figure out how to do this? You'll need to do the following:**\n",
        "\n",
        "1. Figure out how to install plotly library: https://plotly.com/python/getting-started/\n",
        "\n",
        "2. Figure out how to create a geographical choropleth map using plotly: https://plotly.com/python/choropleth-maps/#using-builtin-country-and-state-geometries\n",
        "\n",
        "3. You will need ISO Codes for this. Either use the wikipedia page, or use our provided file for this: **\"../DATA/country_iso_codes.csv\"**\n",
        "\n",
        "4. Combine the cluster labels, ISO Codes, and Country Names to create a world map plot with plotly given what you learned in Step 1 and Step 2.\n",
        "\n",
        "\n",
        "**Note: This is meant to be a more realistic project, where you have a clear objective of what you need to create and accomplish and the necessary online documentation. It's up to you to piece everything together to figure it out! If you get stuck, no worries! Check out the solution lecture.**\n",
        "\n"
      ]
    },
    {
      "cell_type": "code",
      "metadata": {
        "id": "N1oTHvsXt4Py"
      },
      "source": [
        "iso_codes = pd.read_csv(\"country-iso-codes.csv\")"
      ],
      "execution_count": 97,
      "outputs": []
    },
    {
      "cell_type": "code",
      "metadata": {
        "colab": {
          "base_uri": "https://localhost:8080/",
          "height": 419
        },
        "id": "kbwr7Dskt4P_",
        "outputId": "63418fda-dee4-463f-9747-a6481b90782c"
      },
      "source": [
        "iso_codes"
      ],
      "execution_count": 98,
      "outputs": [
        {
          "output_type": "execute_result",
          "data": {
            "text/html": [
              "<div>\n",
              "<style scoped>\n",
              "    .dataframe tbody tr th:only-of-type {\n",
              "        vertical-align: middle;\n",
              "    }\n",
              "\n",
              "    .dataframe tbody tr th {\n",
              "        vertical-align: top;\n",
              "    }\n",
              "\n",
              "    .dataframe thead th {\n",
              "        text-align: right;\n",
              "    }\n",
              "</style>\n",
              "<table border=\"1\" class=\"dataframe\">\n",
              "  <thead>\n",
              "    <tr style=\"text-align: right;\">\n",
              "      <th></th>\n",
              "      <th>Country</th>\n",
              "      <th>ISO Code</th>\n",
              "    </tr>\n",
              "  </thead>\n",
              "  <tbody>\n",
              "    <tr>\n",
              "      <th>0</th>\n",
              "      <td>Afghanistan</td>\n",
              "      <td>AFG</td>\n",
              "    </tr>\n",
              "    <tr>\n",
              "      <th>1</th>\n",
              "      <td>Akrotiri and Dhekelia – See United Kingdom, The</td>\n",
              "      <td>Akrotiri and Dhekelia – See United Kingdom, The</td>\n",
              "    </tr>\n",
              "    <tr>\n",
              "      <th>2</th>\n",
              "      <td>Åland Islands</td>\n",
              "      <td>ALA</td>\n",
              "    </tr>\n",
              "    <tr>\n",
              "      <th>3</th>\n",
              "      <td>Albania</td>\n",
              "      <td>ALB</td>\n",
              "    </tr>\n",
              "    <tr>\n",
              "      <th>4</th>\n",
              "      <td>Algeria</td>\n",
              "      <td>DZA</td>\n",
              "    </tr>\n",
              "    <tr>\n",
              "      <th>...</th>\n",
              "      <td>...</td>\n",
              "      <td>...</td>\n",
              "    </tr>\n",
              "    <tr>\n",
              "      <th>296</th>\n",
              "      <td>Congo, Dem. Rep.</td>\n",
              "      <td>COD</td>\n",
              "    </tr>\n",
              "    <tr>\n",
              "      <th>297</th>\n",
              "      <td>Congo, Repub. of the</td>\n",
              "      <td>COG</td>\n",
              "    </tr>\n",
              "    <tr>\n",
              "      <th>298</th>\n",
              "      <td>Tanzania</td>\n",
              "      <td>TZA</td>\n",
              "    </tr>\n",
              "    <tr>\n",
              "      <th>299</th>\n",
              "      <td>Central African Rep.</td>\n",
              "      <td>CAF</td>\n",
              "    </tr>\n",
              "    <tr>\n",
              "      <th>300</th>\n",
              "      <td>Cote d'Ivoire</td>\n",
              "      <td>CIV</td>\n",
              "    </tr>\n",
              "  </tbody>\n",
              "</table>\n",
              "<p>301 rows × 2 columns</p>\n",
              "</div>"
            ],
            "text/plain": [
              "                                             Country                                         ISO Code\n",
              "0                                        Afghanistan                                              AFG\n",
              "1    Akrotiri and Dhekelia – See United Kingdom, The  Akrotiri and Dhekelia – See United Kingdom, The\n",
              "2                                      Åland Islands                                              ALA\n",
              "3                                            Albania                                              ALB\n",
              "4                                            Algeria                                              DZA\n",
              "..                                               ...                                              ...\n",
              "296                                 Congo, Dem. Rep.                                              COD\n",
              "297                             Congo, Repub. of the                                              COG\n",
              "298                                         Tanzania                                              TZA\n",
              "299                             Central African Rep.                                              CAF\n",
              "300                                    Cote d'Ivoire                                              CIV\n",
              "\n",
              "[301 rows x 2 columns]"
            ]
          },
          "metadata": {
            "tags": []
          },
          "execution_count": 98
        }
      ]
    },
    {
      "cell_type": "code",
      "metadata": {
        "id": "HBCC7T7nt4QA"
      },
      "source": [
        "iso_mapping = iso_codes.set_index('Country')['ISO Code'].to_dict()"
      ],
      "execution_count": 99,
      "outputs": []
    },
    {
      "cell_type": "code",
      "metadata": {
        "colab": {
          "base_uri": "https://localhost:8080/"
        },
        "id": "fdFipoTit4QB",
        "outputId": "eb98326a-07dc-4aea-a986-74ce1e02965d"
      },
      "source": [
        "iso_mapping"
      ],
      "execution_count": 100,
      "outputs": [
        {
          "output_type": "execute_result",
          "data": {
            "text/plain": [
              "{'Afghanistan': 'AFG',\n",
              " 'Akrotiri and Dhekelia – See United Kingdom, The': 'Akrotiri and Dhekelia – See United Kingdom, The',\n",
              " 'Albania': 'ALB',\n",
              " 'Algeria': 'DZA',\n",
              " 'American Samoa': 'ASM',\n",
              " 'Andorra': 'AND',\n",
              " 'Angola': 'AGO',\n",
              " 'Anguilla': 'AIA',\n",
              " 'Antarctica\\u200a[a]': 'ATA',\n",
              " 'Antigua and Barbuda': 'ATG',\n",
              " 'Argentina': 'ARG',\n",
              " 'Armenia': 'ARM',\n",
              " 'Aruba': 'ABW',\n",
              " 'Ashmore and Cartier Islands – See Australia.': 'Ashmore and Cartier Islands – See Australia.',\n",
              " 'Australia': 'AUS',\n",
              " 'Australia\\u200a[b]': 'AUS',\n",
              " 'Austria': 'AUT',\n",
              " 'Azerbaijan': 'AZE',\n",
              " 'Bahamas (the)': 'BHS',\n",
              " 'Bahrain': 'BHR',\n",
              " 'Bangladesh': 'BGD',\n",
              " 'Barbados': 'BRB',\n",
              " 'Belarus': 'BLR',\n",
              " 'Belgium': 'BEL',\n",
              " 'Belize': 'BLZ',\n",
              " 'Benin': 'BEN',\n",
              " 'Bermuda': 'BMU',\n",
              " 'Bhutan': 'BTN',\n",
              " 'Bolivia': 'BOL',\n",
              " 'Bolivia (Plurinational State of)': 'BOL',\n",
              " 'Bonaire\\xa0Sint Eustatius\\xa0Saba': 'BES',\n",
              " 'Bosnia and Herzegovina': 'BIH',\n",
              " 'Botswana': 'BWA',\n",
              " 'Bouvet Island': 'BVT',\n",
              " 'Brazil': 'BRA',\n",
              " 'British Indian Ocean Territory (the)': 'IOT',\n",
              " 'British Virgin Islands – See Virgin Islands (British).': 'British Virgin Islands – See Virgin Islands (British).',\n",
              " 'Brunei Darussalam\\u200a[e]': 'BRN',\n",
              " 'Bulgaria': 'BGR',\n",
              " 'Burkina Faso': 'BFA',\n",
              " 'Burma': 'MMR',\n",
              " 'Burma – See Myanmar.': 'Burma – See Myanmar.',\n",
              " 'Burundi': 'BDI',\n",
              " 'Cabo Verde\\u200a[f]': 'CPV',\n",
              " 'Cambodia': 'KHM',\n",
              " 'Cameroon': 'CMR',\n",
              " 'Canada': 'CAN',\n",
              " 'Cape Verde – See Cabo Verde.': 'Cape Verde – See Cabo Verde.',\n",
              " 'Caribbean Netherlands – See Bonaire, Sint Eustatius and Saba.': 'Caribbean Netherlands – See Bonaire, Sint Eustatius and Saba.',\n",
              " 'Cayman Islands (the)': 'CYM',\n",
              " 'Central African Rep.': 'CAF',\n",
              " 'Central African Republic (the)': 'CAF',\n",
              " 'Chad': 'TCD',\n",
              " 'Chile': 'CHL',\n",
              " 'China': 'CHN',\n",
              " 'China, The Republic of – See Taiwan (Province of China).': 'China, The Republic of – See Taiwan (Province of China).',\n",
              " 'Christmas Island': 'CXR',\n",
              " 'Clipperton Island – See France.': 'Clipperton Island – See France.',\n",
              " 'Cocos (Keeling) Islands (the)': 'CCK',\n",
              " 'Colombia': 'COL',\n",
              " 'Comoros (the)': 'COM',\n",
              " 'Congo (the Democratic Republic of the)': 'COD',\n",
              " 'Congo (the)\\u200a[g]': 'COG',\n",
              " 'Congo, Dem. Rep.': 'COD',\n",
              " 'Congo, Repub. of the': 'COG',\n",
              " 'Cook Islands (the)': 'COK',\n",
              " 'Coral Sea Islands – See Australia.': 'Coral Sea Islands – See Australia.',\n",
              " 'Costa Rica': 'CRI',\n",
              " \"Cote d'Ivoire\": 'CIV',\n",
              " 'Croatia': 'HRV',\n",
              " 'Cuba': 'CUB',\n",
              " 'Curaçao': 'CUW',\n",
              " 'Cyprus': 'CYP',\n",
              " 'Czechia\\u200a[i]': 'CZE',\n",
              " \"Côte d'Ivoire\\u200a[h]\": 'CIV',\n",
              " \"Democratic People's Republic of Korea – See Korea, The Democratic People's Republic of.\": \"Democratic People's Republic of Korea – See Korea, The Democratic People's Republic of.\",\n",
              " 'Democratic Republic of the Congo – See Congo, The Democratic Republic of the.': 'Democratic Republic of the Congo – See Congo, The Democratic Republic of the.',\n",
              " 'Denmark': 'DNK',\n",
              " 'Djibouti': 'DJI',\n",
              " 'Dominica': 'DMA',\n",
              " 'Dominican Republic (the)': 'DOM',\n",
              " 'East Timor – See Timor-Leste.': 'East Timor – See Timor-Leste.',\n",
              " 'Ecuador': 'ECU',\n",
              " 'Egypt': 'EGY',\n",
              " 'El Salvador': 'SLV',\n",
              " 'England – See United Kingdom, The.': 'England – See United Kingdom, The.',\n",
              " 'Equatorial Guinea': 'GNQ',\n",
              " 'Eritrea': 'ERI',\n",
              " 'Estonia': 'EST',\n",
              " 'Eswatini\\u200a[j]': 'SWZ',\n",
              " 'Ethiopia': 'ETH',\n",
              " 'Falkland Islands (the) [Malvinas]\\u200a[k]': 'FLK',\n",
              " 'Faroe Islands (the)': 'FRO',\n",
              " 'Fiji': 'FJI',\n",
              " 'Finland': 'FIN',\n",
              " 'France': 'FRA',\n",
              " 'France\\u200a[l]': 'FRA',\n",
              " 'French Guiana': 'GUF',\n",
              " 'French Polynesia': 'PYF',\n",
              " 'French Southern Territories (the)\\u200a[m]': 'ATF',\n",
              " 'Gabon': 'GAB',\n",
              " 'Gambia (the)': 'GMB',\n",
              " 'Georgia': 'GEO',\n",
              " 'Germany': 'DEU',\n",
              " 'Ghana': 'GHA',\n",
              " 'Gibraltar': 'GIB',\n",
              " 'Great Britain – See United Kingdom, The.': 'Great Britain – See United Kingdom, The.',\n",
              " 'Greece': 'GRC',\n",
              " 'Greenland': 'GRL',\n",
              " 'Grenada': 'GRD',\n",
              " 'Guadeloupe': 'GLP',\n",
              " 'Guam': 'GUM',\n",
              " 'Guatemala': 'GTM',\n",
              " 'Guernsey': 'GGY',\n",
              " 'Guinea': 'GIN',\n",
              " 'Guinea-Bissau': 'GNB',\n",
              " 'Guyana': 'GUY',\n",
              " 'Haiti': 'HTI',\n",
              " 'Hawaiian Islands – See United States of America, The.': 'Hawaiian Islands – See United States of America, The.',\n",
              " 'Heard Island and McDonald Islands': 'HMD',\n",
              " 'Holy See (the)\\u200a[n]': 'VAT',\n",
              " 'Honduras': 'HND',\n",
              " 'Hong Kong': 'HKG',\n",
              " 'Hungary': 'HUN',\n",
              " 'Iceland': 'ISL',\n",
              " 'India': 'IND',\n",
              " 'Indonesia': 'IDN',\n",
              " 'Iran': 'IRN',\n",
              " 'Iran (Islamic Republic of)': 'IRN',\n",
              " 'Iraq': 'IRQ',\n",
              " 'Ireland': 'IRL',\n",
              " 'Isle of Man': 'IMN',\n",
              " 'Israel': 'ISR',\n",
              " 'Italy': 'ITA',\n",
              " \"Ivory Coast – See Côte d'Ivoire.\": \"Ivory Coast – See Côte d'Ivoire.\",\n",
              " 'Jamaica': 'JAM',\n",
              " 'Jan Mayen – See Svalbard and Jan Mayen.': 'Jan Mayen – See Svalbard and Jan Mayen.',\n",
              " 'Japan': 'JPN',\n",
              " 'Jersey': 'JEY',\n",
              " 'Jordan': 'JOR',\n",
              " 'Kazakhstan': 'KAZ',\n",
              " 'Kenya': 'KEN',\n",
              " 'Kiribati': 'KIR',\n",
              " \"Korea (the Democratic People's Republic of)\\u200a[o]\": 'PRK',\n",
              " 'Korea (the Republic of)\\u200a[p]': 'KOR',\n",
              " 'Korea, North': 'PRK',\n",
              " 'Korea, South': 'KOR',\n",
              " 'Kuwait': 'KWT',\n",
              " 'Kyrgyzstan': 'KGZ',\n",
              " \"Lao People's Democratic Republic (the)\\u200a[q]\": 'LAO',\n",
              " 'Laos': 'LAO',\n",
              " 'Latvia': 'LVA',\n",
              " 'Lebanon': 'LBN',\n",
              " 'Lesotho': 'LSO',\n",
              " 'Liberia': 'LBR',\n",
              " 'Libya': 'LBY',\n",
              " 'Liechtenstein': 'LIE',\n",
              " 'Lithuania': 'LTU',\n",
              " 'Luxembourg': 'LUX',\n",
              " 'Macao\\u200a[r]': 'MAC',\n",
              " 'Madagascar': 'MDG',\n",
              " 'Malawi': 'MWI',\n",
              " 'Malaysia': 'MYS',\n",
              " 'Maldives': 'MDV',\n",
              " 'Mali': 'MLI',\n",
              " 'Malta': 'MLT',\n",
              " 'Marshall Islands (the)': 'MHL',\n",
              " 'Martinique': 'MTQ',\n",
              " 'Mauritania': 'MRT',\n",
              " 'Mauritius': 'MUS',\n",
              " 'Mayotte': 'MYT',\n",
              " 'Mexico': 'MEX',\n",
              " 'Micronesia (Federated States of)': 'FSM',\n",
              " 'Moldova (the Republic of)': 'MDA',\n",
              " 'Monaco': 'MCO',\n",
              " 'Mongolia': 'MNG',\n",
              " 'Montenegro': 'MNE',\n",
              " 'Montserrat': 'MSR',\n",
              " 'Morocco': 'MAR',\n",
              " 'Mozambique': 'MOZ',\n",
              " 'Myanmar': 'MMR',\n",
              " 'Myanmar\\u200a[t]': 'MMR',\n",
              " 'Namibia': 'NAM',\n",
              " 'Nauru': 'NRU',\n",
              " 'Nepal': 'NPL',\n",
              " 'Netherlands (the)': 'NLD',\n",
              " 'New Caledonia': 'NCL',\n",
              " 'New Zealand': 'NZL',\n",
              " 'Nicaragua': 'NIC',\n",
              " 'Niger': 'NER',\n",
              " 'Niger (the)': 'NER',\n",
              " 'Nigeria': 'NGA',\n",
              " 'Niue': 'NIU',\n",
              " 'Norfolk Island': 'NFK',\n",
              " \"North Korea – See Korea, The Democratic People's Republic of.\": \"North Korea – See Korea, The Democratic People's Republic of.\",\n",
              " 'North Macedonia\\u200a[s]': 'MKD',\n",
              " 'Northern Ireland – See United Kingdom, The.': 'Northern Ireland – See United Kingdom, The.',\n",
              " 'Northern Mariana Islands (the)': 'MNP',\n",
              " 'Norway': 'NOR',\n",
              " 'Oman': 'OMN',\n",
              " 'Pakistan': 'PAK',\n",
              " 'Palau': 'PLW',\n",
              " 'Palestine, State of': 'PSE',\n",
              " 'Panama': 'PAN',\n",
              " 'Papua New Guinea': 'PNG',\n",
              " 'Paraguay': 'PRY',\n",
              " \"People's Republic of China – See China.\": \"People's Republic of China – See China.\",\n",
              " 'Peru': 'PER',\n",
              " 'Philippines (the)': 'PHL',\n",
              " 'Pitcairn\\u200a[u]': 'PCN',\n",
              " 'Poland': 'POL',\n",
              " 'Portugal': 'PRT',\n",
              " 'Puerto Rico': 'PRI',\n",
              " 'Qatar': 'QAT',\n",
              " 'Republic of China – See Taiwan (Province of China).': 'Republic of China – See Taiwan (Province of China).',\n",
              " 'Republic of Korea – See Korea, The Republic of.': 'Republic of Korea – See Korea, The Republic of.',\n",
              " 'Republic of the Congo – See Congo, The.': 'Republic of the Congo – See Congo, The.',\n",
              " 'Romania': 'ROU',\n",
              " 'Russia': 'RUS',\n",
              " 'Russian Federation (the)\\u200a[v]': 'RUS',\n",
              " 'Rwanda': 'RWA',\n",
              " 'Réunion': 'REU',\n",
              " 'Saba – See Bonaire, Sint Eustatius and Saba.': 'Saba – See Bonaire, Sint Eustatius and Saba.',\n",
              " 'Sahrawi Arab Democratic Republic – See Western Sahara.': 'Sahrawi Arab Democratic Republic – See Western Sahara.',\n",
              " 'Saint Barthélemy': 'BLM',\n",
              " 'Saint Helena\\xa0Ascension Island\\xa0Tristan da Cunha': 'SHN',\n",
              " 'Saint Kitts and Nevis': 'KNA',\n",
              " 'Saint Lucia': 'LCA',\n",
              " 'Saint Martin (French part)': 'MAF',\n",
              " 'Saint Pierre and Miquelon': 'SPM',\n",
              " 'Saint Vincent and the Grenadines': 'VCT',\n",
              " 'Samoa': 'WSM',\n",
              " 'San Marino': 'SMR',\n",
              " 'Sao Tome and Principe': 'STP',\n",
              " 'Saudi Arabia': 'SAU',\n",
              " 'Scotland – See United Kingdom, The.': 'Scotland – See United Kingdom, The.',\n",
              " 'Senegal': 'SEN',\n",
              " 'Serbia': 'SRB',\n",
              " 'Seychelles': 'SYC',\n",
              " 'Sierra Leone': 'SLE',\n",
              " 'Singapore': 'SGP',\n",
              " 'Sint Eustatius – See Bonaire, Sint Eustatius and Saba.': 'Sint Eustatius – See Bonaire, Sint Eustatius and Saba.',\n",
              " 'Sint Maarten (Dutch part)': 'SXM',\n",
              " 'Slovakia': 'SVK',\n",
              " 'Slovenia': 'SVN',\n",
              " 'Solomon Islands': 'SLB',\n",
              " 'Somalia': 'SOM',\n",
              " 'South Africa': 'ZAF',\n",
              " 'South Georgia and the South Sandwich Islands': 'SGS',\n",
              " 'South Korea – See Korea, The Republic of.': 'South Korea – See Korea, The Republic of.',\n",
              " 'South Sudan': 'SSD',\n",
              " 'Spain': 'ESP',\n",
              " 'Sri Lanka': 'LKA',\n",
              " 'Sudan': 'SDN',\n",
              " 'Sudan (the)': 'SDN',\n",
              " 'Suriname': 'SUR',\n",
              " 'Svalbard\\xa0Jan Mayen': 'SJM',\n",
              " 'Sweden': 'SWE',\n",
              " 'Switzerland': 'CHE',\n",
              " 'Syrian Arab Republic (the)\\u200a[x]': 'SYR',\n",
              " 'Taiwan (Province of China)\\u200a[y]': 'TWN',\n",
              " 'Tajikistan': 'TJK',\n",
              " 'Tanzania': 'TZA',\n",
              " 'Tanzania, the United Republic of': 'TZA',\n",
              " 'Thailand': 'THA',\n",
              " 'Timor-Leste\\u200a[aa]': 'TLS',\n",
              " 'Togo': 'TGO',\n",
              " 'Tokelau': 'TKL',\n",
              " 'Tonga': 'TON',\n",
              " 'Trinidad and Tobago': 'TTO',\n",
              " 'Tunisia': 'TUN',\n",
              " 'Turkey': 'TUR',\n",
              " 'Turkmenistan': 'TKM',\n",
              " 'Turks and Caicos Islands (the)': 'TCA',\n",
              " 'Tuvalu': 'TUV',\n",
              " 'Uganda': 'UGA',\n",
              " 'Ukraine': 'UKR',\n",
              " 'United Arab Emirates (the)': 'ARE',\n",
              " 'United Kingdom': 'GBR',\n",
              " 'United Kingdom of Great Britain and Northern Ireland (the)': 'GBR',\n",
              " 'United States': 'USA',\n",
              " 'United States Minor Outlying Islands (the)\\u200a[ac]': 'UMI',\n",
              " 'United States Virgin Islands – See Virgin Islands (U.S.).': 'United States Virgin Islands – See Virgin Islands (U.S.).',\n",
              " 'United States of America (the)': 'USA',\n",
              " 'Uruguay': 'URY',\n",
              " 'Uzbekistan': 'UZB',\n",
              " 'Vanuatu': 'VUT',\n",
              " 'Vatican City – See Holy See, The.': 'Vatican City – See Holy See, The.',\n",
              " 'Venezuela': 'VEN',\n",
              " 'Venezuela (Bolivarian Republic of)': 'VEN',\n",
              " 'Viet Nam\\u200a[ae]': 'VNM',\n",
              " 'Vietnam': 'VNM',\n",
              " 'Virgin Islands (British)\\u200a[af]': 'VGB',\n",
              " 'Virgin Islands (U.S.)\\u200a[ag]': 'VIR',\n",
              " 'Wales – See United Kingdom, The.': 'Wales – See United Kingdom, The.',\n",
              " 'Wallis and Futuna': 'WLF',\n",
              " 'Western Sahara\\u200a[ah]': 'ESH',\n",
              " 'Yemen': 'YEM',\n",
              " 'Zambia': 'ZMB',\n",
              " 'Zimbabwe': 'ZWE',\n",
              " 'Åland Islands': 'ALA'}"
            ]
          },
          "metadata": {
            "tags": []
          },
          "execution_count": 100
        }
      ]
    },
    {
      "cell_type": "code",
      "metadata": {
        "id": "qeKySftTt4QC"
      },
      "source": [
        "df['ISO Code'] = df['Country'].map(iso_mapping)"
      ],
      "execution_count": 101,
      "outputs": []
    },
    {
      "cell_type": "code",
      "metadata": {
        "id": "yWsN9KKYt4QD"
      },
      "source": [
        "df['Cluster'] = model.labels_"
      ],
      "execution_count": 102,
      "outputs": []
    },
    {
      "cell_type": "code",
      "metadata": {
        "colab": {
          "base_uri": "https://localhost:8080/",
          "height": 542
        },
        "id": "u96kIQ6pt4QE",
        "outputId": "e128c814-770a-4962-82e2-d1d88c3f8a49"
      },
      "source": [
        "import plotly.express as px\n",
        "\n",
        "fig = px.choropleth(df, locations=\"ISO Code\",\n",
        "                    color=\"Cluster\", # lifeExp is a column of gapminder\n",
        "                    hover_name=\"Country\", # column to add to hover information\n",
        "                    color_continuous_scale=px.colors.sequential.Plasma\n",
        "                    )\n",
        "fig.show()"
      ],
      "execution_count": 103,
      "outputs": [
        {
          "output_type": "display_data",
          "data": {
            "text/html": [
              "<html>\n",
              "<head><meta charset=\"utf-8\" /></head>\n",
              "<body>\n",
              "    <div>            <script src=\"https://cdnjs.cloudflare.com/ajax/libs/mathjax/2.7.5/MathJax.js?config=TeX-AMS-MML_SVG\"></script><script type=\"text/javascript\">if (window.MathJax) {MathJax.Hub.Config({SVG: {font: \"STIX-Web\"}});}</script>                <script type=\"text/javascript\">window.PlotlyConfig = {MathJaxConfig: 'local'};</script>\n",
              "        <script src=\"https://cdn.plot.ly/plotly-latest.min.js\"></script>                <div id=\"70c39352-f971-43b1-8ad6-fb085c772602\" class=\"plotly-graph-div\" style=\"height:525px; width:100%;\"></div>            <script type=\"text/javascript\">                                    window.PLOTLYENV=window.PLOTLYENV || {};                                    if (document.getElementById(\"70c39352-f971-43b1-8ad6-fb085c772602\")) {                    Plotly.newPlot(                        \"70c39352-f971-43b1-8ad6-fb085c772602\",                        [{\"coloraxis\": \"coloraxis\", \"geo\": \"geo\", \"hovertemplate\": \"<b>%{hovertext}</b><br><br>ISO Code=%{location}<br>Cluster=%{z}<extra></extra>\", \"hovertext\": [\"Afghanistan\", \"Albania\", \"Algeria\", \"American Samoa\", \"Andorra\", \"Angola\", \"Anguilla\", \"Antigua & Barbuda\", \"Argentina\", \"Armenia\", \"Aruba\", \"Australia\", \"Austria\", \"Azerbaijan\", \"Bahamas, The\", \"Bahrain\", \"Bangladesh\", \"Barbados\", \"Belarus\", \"Belgium\", \"Belize\", \"Benin\", \"Bermuda\", \"Bhutan\", \"Bolivia\", \"Bosnia & Herzegovina\", \"Botswana\", \"Brazil\", \"British Virgin Is.\", \"Brunei\", \"Bulgaria\", \"Burkina Faso\", \"Burma\", \"Burundi\", \"Cambodia\", \"Cameroon\", \"Canada\", \"Cape Verde\", \"Cayman Islands\", \"Central African Rep.\", \"Chad\", \"Chile\", \"China\", \"Colombia\", \"Comoros\", \"Congo, Dem. Rep.\", \"Congo, Repub. of the\", \"Costa Rica\", \"Cote d'Ivoire\", \"Croatia\", \"Cuba\", \"Czech Republic\", \"Denmark\", \"Djibouti\", \"Dominica\", \"Dominican Republic\", \"Ecuador\", \"Egypt\", \"El Salvador\", \"Equatorial Guinea\", \"Eritrea\", \"Estonia\", \"Ethiopia\", \"Faroe Islands\", \"Fiji\", \"Finland\", \"France\", \"French Guiana\", \"French Polynesia\", \"Gabon\", \"Gambia, The\", \"Gaza Strip\", \"Georgia\", \"Germany\", \"Ghana\", \"Gibraltar\", \"Greece\", \"Greenland\", \"Grenada\", \"Guadeloupe\", \"Guam\", \"Guatemala\", \"Guinea\", \"Guinea-Bissau\", \"Guyana\", \"Haiti\", \"Honduras\", \"Hong Kong\", \"Hungary\", \"Iceland\", \"India\", \"Indonesia\", \"Iran\", \"Iraq\", \"Ireland\", \"Isle of Man\", \"Israel\", \"Italy\", \"Jamaica\", \"Japan\", \"Jersey\", \"Jordan\", \"Kazakhstan\", \"Kenya\", \"Kiribati\", \"Korea, North\", \"Korea, South\", \"Kuwait\", \"Kyrgyzstan\", \"Laos\", \"Latvia\", \"Lebanon\", \"Lesotho\", \"Liberia\", \"Libya\", \"Liechtenstein\", \"Lithuania\", \"Luxembourg\", \"Macau\", \"Macedonia\", \"Madagascar\", \"Malawi\", \"Malaysia\", \"Maldives\", \"Mali\", \"Malta\", \"Marshall Islands\", \"Martinique\", \"Mauritania\", \"Mauritius\", \"Mayotte\", \"Mexico\", \"Micronesia, Fed. St.\", \"Moldova\", \"Mongolia\", \"Montserrat\", \"Morocco\", \"Mozambique\", \"Namibia\", \"Nauru\", \"Nepal\", \"Netherlands\", \"Netherlands Antilles\", \"New Caledonia\", \"New Zealand\", \"Nicaragua\", \"Niger\", \"Nigeria\", \"N. Mariana Islands\", \"Norway\", \"Oman\", \"Pakistan\", \"Palau\", \"Panama\", \"Papua New Guinea\", \"Paraguay\", \"Peru\", \"Philippines\", \"Poland\", \"Portugal\", \"Puerto Rico\", \"Qatar\", \"Reunion\", \"Romania\", \"Russia\", \"Rwanda\", \"Saint Helena\", \"Saint Kitts & Nevis\", \"Saint Lucia\", \"St Pierre & Miquelon\", \"Saint Vincent and the Grenadines\", \"Samoa\", \"San Marino\", \"Sao Tome & Principe\", \"Saudi Arabia\", \"Senegal\", \"Seychelles\", \"Sierra Leone\", \"Singapore\", \"Slovakia\", \"Slovenia\", \"Solomon Islands\", \"Somalia\", \"South Africa\", \"Spain\", \"Sri Lanka\", \"Sudan\", \"Suriname\", \"Swaziland\", \"Sweden\", \"Switzerland\", \"Syria\", \"Taiwan\", \"Tajikistan\", \"Tanzania\", \"Thailand\", \"Togo\", \"Tonga\", \"Trinidad & Tobago\", \"Tunisia\", \"Turkey\", \"Turkmenistan\", \"Turks & Caicos Is\", \"Tuvalu\", \"Uganda\", \"Ukraine\", \"United Arab Emirates\", \"United Kingdom\", \"United States\", \"Uruguay\", \"Uzbekistan\", \"Vanuatu\", \"Venezuela\", \"Vietnam\", \"Virgin Islands\", \"Wallis and Futuna\", \"West Bank\", \"Western Sahara\", \"Yemen\", \"Zambia\", \"Zimbabwe\"], \"locations\": [\"AFG\", \"ALB\", \"DZA\", \"ASM\", \"AND\", \"AGO\", \"AIA\", null, \"ARG\", \"ARM\", \"ABW\", \"AUS\", \"AUT\", \"AZE\", null, \"BHR\", \"BGD\", \"BRB\", \"BLR\", \"BEL\", \"BLZ\", \"BEN\", \"BMU\", \"BTN\", \"BOL\", null, \"BWA\", \"BRA\", null, null, \"BGR\", \"BFA\", \"MMR\", \"BDI\", \"KHM\", \"CMR\", \"CAN\", null, null, \"CAF\", \"TCD\", \"CHL\", \"CHN\", \"COL\", null, \"COD\", \"COG\", \"CRI\", \"CIV\", \"HRV\", \"CUB\", null, \"DNK\", \"DJI\", \"DMA\", null, \"ECU\", \"EGY\", \"SLV\", \"GNQ\", \"ERI\", \"EST\", \"ETH\", null, \"FJI\", \"FIN\", \"FRA\", \"GUF\", \"PYF\", \"GAB\", null, null, \"GEO\", \"DEU\", \"GHA\", \"GIB\", \"GRC\", \"GRL\", \"GRD\", \"GLP\", \"GUM\", \"GTM\", \"GIN\", \"GNB\", \"GUY\", \"HTI\", \"HND\", \"HKG\", \"HUN\", \"ISL\", \"IND\", \"IDN\", \"IRN\", \"IRQ\", \"IRL\", \"IMN\", \"ISR\", \"ITA\", \"JAM\", \"JPN\", \"JEY\", \"JOR\", \"KAZ\", \"KEN\", \"KIR\", \"PRK\", \"KOR\", \"KWT\", \"KGZ\", \"LAO\", \"LVA\", \"LBN\", \"LSO\", \"LBR\", \"LBY\", \"LIE\", \"LTU\", \"LUX\", null, null, \"MDG\", \"MWI\", \"MYS\", \"MDV\", \"MLI\", \"MLT\", null, \"MTQ\", \"MRT\", \"MUS\", \"MYT\", \"MEX\", null, null, \"MNG\", \"MSR\", \"MAR\", \"MOZ\", \"NAM\", \"NRU\", \"NPL\", null, null, \"NCL\", \"NZL\", \"NIC\", \"NER\", \"NGA\", null, \"NOR\", \"OMN\", \"PAK\", \"PLW\", \"PAN\", \"PNG\", \"PRY\", \"PER\", null, \"POL\", \"PRT\", \"PRI\", \"QAT\", null, \"ROU\", \"RUS\", \"RWA\", null, null, \"LCA\", null, \"VCT\", \"WSM\", \"SMR\", null, \"SAU\", \"SEN\", \"SYC\", \"SLE\", \"SGP\", \"SVK\", \"SVN\", \"SLB\", \"SOM\", \"ZAF\", \"ESP\", \"LKA\", \"SDN\", \"SUR\", null, \"SWE\", \"CHE\", null, null, \"TJK\", \"TZA\", \"THA\", \"TGO\", \"TON\", null, \"TUN\", \"TUR\", \"TKM\", null, \"TUV\", \"UGA\", \"UKR\", null, \"GBR\", \"USA\", \"URY\", \"UZB\", \"VUT\", \"VEN\", \"VNM\", null, \"WLF\", null, null, \"YEM\", \"ZMB\", \"ZWE\"], \"name\": \"\", \"type\": \"choropleth\", \"z\": [1, 2, 2, 2, 0, 1, 2, 2, 2, 2, 0, 0, 0, 2, 2, 2, 2, 0, 0, 0, 2, 1, 0, 1, 2, 0, 1, 2, 0, 2, 0, 1, 2, 1, 2, 1, 0, 2, 0, 1, 1, 2, 2, 2, 1, 1, 1, 2, 1, 0, 2, 0, 0, 1, 2, 2, 2, 2, 2, 1, 1, 0, 1, 0, 2, 0, 0, 2, 2, 1, 1, 2, 2, 0, 1, 0, 0, 2, 2, 2, 2, 2, 1, 1, 2, 2, 2, 0, 0, 0, 2, 2, 2, 2, 0, 0, 0, 0, 2, 0, 0, 2, 2, 1, 2, 2, 0, 2, 2, 1, 0, 2, 1, 1, 2, 0, 0, 0, 0, 0, 1, 1, 2, 2, 1, 0, 2, 2, 1, 0, 1, 2, 2, 2, 2, 2, 2, 1, 1, 2, 1, 0, 2, 2, 0, 2, 1, 1, 2, 0, 2, 2, 2, 2, 2, 2, 2, 2, 0, 0, 2, 2, 2, 0, 2, 1, 2, 2, 2, 2, 2, 2, 0, 2, 2, 1, 2, 1, 0, 0, 0, 2, 1, 1, 0, 2, 1, 2, 1, 0, 0, 2, 0, 2, 1, 2, 1, 2, 2, 2, 2, 2, 2, 2, 1, 2, 2, 0, 0, 2, 2, 2, 2, 2, 2, 2, 2, 2, 2, 1, 1]}],                        {\"coloraxis\": {\"colorbar\": {\"title\": {\"text\": \"Cluster\"}}, \"colorscale\": [[0.0, \"#0d0887\"], [0.1111111111111111, \"#46039f\"], [0.2222222222222222, \"#7201a8\"], [0.3333333333333333, \"#9c179e\"], [0.4444444444444444, \"#bd3786\"], [0.5555555555555556, \"#d8576b\"], [0.6666666666666666, \"#ed7953\"], [0.7777777777777778, \"#fb9f3a\"], [0.8888888888888888, \"#fdca26\"], [1.0, \"#f0f921\"]]}, \"geo\": {\"center\": {}, \"domain\": {\"x\": [0.0, 1.0], \"y\": [0.0, 1.0]}}, \"legend\": {\"tracegroupgap\": 0}, \"margin\": {\"t\": 60}, \"template\": {\"data\": {\"bar\": [{\"error_x\": {\"color\": \"#2a3f5f\"}, \"error_y\": {\"color\": \"#2a3f5f\"}, \"marker\": {\"line\": {\"color\": \"#E5ECF6\", \"width\": 0.5}}, \"type\": \"bar\"}], \"barpolar\": [{\"marker\": {\"line\": {\"color\": \"#E5ECF6\", \"width\": 0.5}}, \"type\": \"barpolar\"}], \"carpet\": [{\"aaxis\": {\"endlinecolor\": \"#2a3f5f\", \"gridcolor\": \"white\", \"linecolor\": \"white\", \"minorgridcolor\": \"white\", \"startlinecolor\": \"#2a3f5f\"}, \"baxis\": {\"endlinecolor\": \"#2a3f5f\", \"gridcolor\": \"white\", \"linecolor\": \"white\", \"minorgridcolor\": \"white\", \"startlinecolor\": \"#2a3f5f\"}, \"type\": \"carpet\"}], \"choropleth\": [{\"colorbar\": {\"outlinewidth\": 0, \"ticks\": \"\"}, \"type\": \"choropleth\"}], \"contour\": [{\"colorbar\": {\"outlinewidth\": 0, \"ticks\": \"\"}, \"colorscale\": [[0.0, \"#0d0887\"], [0.1111111111111111, \"#46039f\"], [0.2222222222222222, \"#7201a8\"], [0.3333333333333333, \"#9c179e\"], [0.4444444444444444, \"#bd3786\"], [0.5555555555555556, \"#d8576b\"], [0.6666666666666666, \"#ed7953\"], [0.7777777777777778, \"#fb9f3a\"], [0.8888888888888888, \"#fdca26\"], [1.0, \"#f0f921\"]], \"type\": \"contour\"}], \"contourcarpet\": [{\"colorbar\": {\"outlinewidth\": 0, \"ticks\": \"\"}, \"type\": \"contourcarpet\"}], \"heatmap\": [{\"colorbar\": {\"outlinewidth\": 0, \"ticks\": \"\"}, \"colorscale\": [[0.0, \"#0d0887\"], [0.1111111111111111, \"#46039f\"], [0.2222222222222222, \"#7201a8\"], [0.3333333333333333, \"#9c179e\"], [0.4444444444444444, \"#bd3786\"], [0.5555555555555556, \"#d8576b\"], [0.6666666666666666, \"#ed7953\"], [0.7777777777777778, \"#fb9f3a\"], [0.8888888888888888, \"#fdca26\"], [1.0, \"#f0f921\"]], \"type\": \"heatmap\"}], \"heatmapgl\": [{\"colorbar\": {\"outlinewidth\": 0, \"ticks\": \"\"}, \"colorscale\": [[0.0, \"#0d0887\"], [0.1111111111111111, \"#46039f\"], [0.2222222222222222, \"#7201a8\"], [0.3333333333333333, \"#9c179e\"], [0.4444444444444444, \"#bd3786\"], [0.5555555555555556, \"#d8576b\"], [0.6666666666666666, \"#ed7953\"], [0.7777777777777778, \"#fb9f3a\"], [0.8888888888888888, \"#fdca26\"], [1.0, \"#f0f921\"]], \"type\": \"heatmapgl\"}], \"histogram\": [{\"marker\": {\"colorbar\": {\"outlinewidth\": 0, \"ticks\": \"\"}}, \"type\": \"histogram\"}], \"histogram2d\": [{\"colorbar\": {\"outlinewidth\": 0, \"ticks\": \"\"}, \"colorscale\": [[0.0, \"#0d0887\"], [0.1111111111111111, \"#46039f\"], [0.2222222222222222, \"#7201a8\"], [0.3333333333333333, \"#9c179e\"], [0.4444444444444444, \"#bd3786\"], [0.5555555555555556, \"#d8576b\"], [0.6666666666666666, \"#ed7953\"], [0.7777777777777778, \"#fb9f3a\"], [0.8888888888888888, \"#fdca26\"], [1.0, \"#f0f921\"]], \"type\": \"histogram2d\"}], \"histogram2dcontour\": [{\"colorbar\": {\"outlinewidth\": 0, \"ticks\": \"\"}, \"colorscale\": [[0.0, \"#0d0887\"], [0.1111111111111111, \"#46039f\"], [0.2222222222222222, \"#7201a8\"], [0.3333333333333333, \"#9c179e\"], [0.4444444444444444, \"#bd3786\"], [0.5555555555555556, \"#d8576b\"], [0.6666666666666666, \"#ed7953\"], [0.7777777777777778, \"#fb9f3a\"], [0.8888888888888888, \"#fdca26\"], [1.0, \"#f0f921\"]], \"type\": \"histogram2dcontour\"}], \"mesh3d\": [{\"colorbar\": {\"outlinewidth\": 0, \"ticks\": \"\"}, \"type\": \"mesh3d\"}], \"parcoords\": [{\"line\": {\"colorbar\": {\"outlinewidth\": 0, \"ticks\": \"\"}}, \"type\": \"parcoords\"}], \"pie\": [{\"automargin\": true, \"type\": \"pie\"}], \"scatter\": [{\"marker\": {\"colorbar\": {\"outlinewidth\": 0, \"ticks\": \"\"}}, \"type\": \"scatter\"}], \"scatter3d\": [{\"line\": {\"colorbar\": {\"outlinewidth\": 0, \"ticks\": \"\"}}, \"marker\": {\"colorbar\": {\"outlinewidth\": 0, \"ticks\": \"\"}}, \"type\": \"scatter3d\"}], \"scattercarpet\": [{\"marker\": {\"colorbar\": {\"outlinewidth\": 0, \"ticks\": \"\"}}, \"type\": \"scattercarpet\"}], \"scattergeo\": [{\"marker\": {\"colorbar\": {\"outlinewidth\": 0, \"ticks\": \"\"}}, \"type\": \"scattergeo\"}], \"scattergl\": [{\"marker\": {\"colorbar\": {\"outlinewidth\": 0, \"ticks\": \"\"}}, \"type\": \"scattergl\"}], \"scattermapbox\": [{\"marker\": {\"colorbar\": {\"outlinewidth\": 0, \"ticks\": \"\"}}, \"type\": \"scattermapbox\"}], \"scatterpolar\": [{\"marker\": {\"colorbar\": {\"outlinewidth\": 0, \"ticks\": \"\"}}, \"type\": \"scatterpolar\"}], \"scatterpolargl\": [{\"marker\": {\"colorbar\": {\"outlinewidth\": 0, \"ticks\": \"\"}}, \"type\": \"scatterpolargl\"}], \"scatterternary\": [{\"marker\": {\"colorbar\": {\"outlinewidth\": 0, \"ticks\": \"\"}}, \"type\": \"scatterternary\"}], \"surface\": [{\"colorbar\": {\"outlinewidth\": 0, \"ticks\": \"\"}, \"colorscale\": [[0.0, \"#0d0887\"], [0.1111111111111111, \"#46039f\"], [0.2222222222222222, \"#7201a8\"], [0.3333333333333333, \"#9c179e\"], [0.4444444444444444, \"#bd3786\"], [0.5555555555555556, \"#d8576b\"], [0.6666666666666666, \"#ed7953\"], [0.7777777777777778, \"#fb9f3a\"], [0.8888888888888888, \"#fdca26\"], [1.0, \"#f0f921\"]], \"type\": \"surface\"}], \"table\": [{\"cells\": {\"fill\": {\"color\": \"#EBF0F8\"}, \"line\": {\"color\": \"white\"}}, \"header\": {\"fill\": {\"color\": \"#C8D4E3\"}, \"line\": {\"color\": \"white\"}}, \"type\": \"table\"}]}, \"layout\": {\"annotationdefaults\": {\"arrowcolor\": \"#2a3f5f\", \"arrowhead\": 0, \"arrowwidth\": 1}, \"autotypenumbers\": \"strict\", \"coloraxis\": {\"colorbar\": {\"outlinewidth\": 0, \"ticks\": \"\"}}, \"colorscale\": {\"diverging\": [[0, \"#8e0152\"], [0.1, \"#c51b7d\"], [0.2, \"#de77ae\"], [0.3, \"#f1b6da\"], [0.4, \"#fde0ef\"], [0.5, \"#f7f7f7\"], [0.6, \"#e6f5d0\"], [0.7, \"#b8e186\"], [0.8, \"#7fbc41\"], [0.9, \"#4d9221\"], [1, \"#276419\"]], \"sequential\": [[0.0, \"#0d0887\"], [0.1111111111111111, \"#46039f\"], [0.2222222222222222, \"#7201a8\"], [0.3333333333333333, \"#9c179e\"], [0.4444444444444444, \"#bd3786\"], [0.5555555555555556, \"#d8576b\"], [0.6666666666666666, \"#ed7953\"], [0.7777777777777778, \"#fb9f3a\"], [0.8888888888888888, \"#fdca26\"], [1.0, \"#f0f921\"]], \"sequentialminus\": [[0.0, \"#0d0887\"], [0.1111111111111111, \"#46039f\"], [0.2222222222222222, \"#7201a8\"], [0.3333333333333333, \"#9c179e\"], [0.4444444444444444, \"#bd3786\"], [0.5555555555555556, \"#d8576b\"], [0.6666666666666666, \"#ed7953\"], [0.7777777777777778, \"#fb9f3a\"], [0.8888888888888888, \"#fdca26\"], [1.0, \"#f0f921\"]]}, \"colorway\": [\"#636efa\", \"#EF553B\", \"#00cc96\", \"#ab63fa\", \"#FFA15A\", \"#19d3f3\", \"#FF6692\", \"#B6E880\", \"#FF97FF\", \"#FECB52\"], \"font\": {\"color\": \"#2a3f5f\"}, \"geo\": {\"bgcolor\": \"white\", \"lakecolor\": \"white\", \"landcolor\": \"#E5ECF6\", \"showlakes\": true, \"showland\": true, \"subunitcolor\": \"white\"}, \"hoverlabel\": {\"align\": \"left\"}, \"hovermode\": \"closest\", \"mapbox\": {\"style\": \"light\"}, \"paper_bgcolor\": \"white\", \"plot_bgcolor\": \"#E5ECF6\", \"polar\": {\"angularaxis\": {\"gridcolor\": \"white\", \"linecolor\": \"white\", \"ticks\": \"\"}, \"bgcolor\": \"#E5ECF6\", \"radialaxis\": {\"gridcolor\": \"white\", \"linecolor\": \"white\", \"ticks\": \"\"}}, \"scene\": {\"xaxis\": {\"backgroundcolor\": \"#E5ECF6\", \"gridcolor\": \"white\", \"gridwidth\": 2, \"linecolor\": \"white\", \"showbackground\": true, \"ticks\": \"\", \"zerolinecolor\": \"white\"}, \"yaxis\": {\"backgroundcolor\": \"#E5ECF6\", \"gridcolor\": \"white\", \"gridwidth\": 2, \"linecolor\": \"white\", \"showbackground\": true, \"ticks\": \"\", \"zerolinecolor\": \"white\"}, \"zaxis\": {\"backgroundcolor\": \"#E5ECF6\", \"gridcolor\": \"white\", \"gridwidth\": 2, \"linecolor\": \"white\", \"showbackground\": true, \"ticks\": \"\", \"zerolinecolor\": \"white\"}}, \"shapedefaults\": {\"line\": {\"color\": \"#2a3f5f\"}}, \"ternary\": {\"aaxis\": {\"gridcolor\": \"white\", \"linecolor\": \"white\", \"ticks\": \"\"}, \"baxis\": {\"gridcolor\": \"white\", \"linecolor\": \"white\", \"ticks\": \"\"}, \"bgcolor\": \"#E5ECF6\", \"caxis\": {\"gridcolor\": \"white\", \"linecolor\": \"white\", \"ticks\": \"\"}}, \"title\": {\"x\": 0.05}, \"xaxis\": {\"automargin\": true, \"gridcolor\": \"white\", \"linecolor\": \"white\", \"ticks\": \"\", \"title\": {\"standoff\": 15}, \"zerolinecolor\": \"white\", \"zerolinewidth\": 2}, \"yaxis\": {\"automargin\": true, \"gridcolor\": \"white\", \"linecolor\": \"white\", \"ticks\": \"\", \"title\": {\"standoff\": 15}, \"zerolinecolor\": \"white\", \"zerolinewidth\": 2}}}},                        {\"responsive\": true}                    ).then(function(){\n",
              "                            \n",
              "var gd = document.getElementById('70c39352-f971-43b1-8ad6-fb085c772602');\n",
              "var x = new MutationObserver(function (mutations, observer) {{\n",
              "        var display = window.getComputedStyle(gd).display;\n",
              "        if (!display || display === 'none') {{\n",
              "            console.log([gd, 'removed!']);\n",
              "            Plotly.purge(gd);\n",
              "            observer.disconnect();\n",
              "        }}\n",
              "}});\n",
              "\n",
              "// Listen for the removal of the full notebook cells\n",
              "var notebookContainer = gd.closest('#notebook-container');\n",
              "if (notebookContainer) {{\n",
              "    x.observe(notebookContainer, {childList: true});\n",
              "}}\n",
              "\n",
              "// Listen for the clearing of the current output cell\n",
              "var outputEl = gd.closest('.output');\n",
              "if (outputEl) {{\n",
              "    x.observe(outputEl, {childList: true});\n",
              "}}\n",
              "\n",
              "                        })                };                            </script>        </div>\n",
              "</body>\n",
              "</html>"
            ]
          },
          "metadata": {
            "tags": []
          }
        }
      ]
    },
    {
      "cell_type": "markdown",
      "metadata": {
        "id": "GdigcNJMt4QF"
      },
      "source": [
        "---"
      ]
    }
  ]
}