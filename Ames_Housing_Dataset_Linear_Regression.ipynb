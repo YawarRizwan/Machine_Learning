{
  "nbformat": 4,
  "nbformat_minor": 0,
  "metadata": {
    "kernelspec": {
      "display_name": "Python 3",
      "language": "python",
      "name": "python3"
    },
    "language_info": {
      "codemirror_mode": {
        "name": "ipython",
        "version": 3
      },
      "file_extension": ".py",
      "mimetype": "text/x-python",
      "name": "python",
      "nbconvert_exporter": "python",
      "pygments_lexer": "ipython3",
      "version": "3.7.6"
    },
    "colab": {
      "name": "Ames Housing Dataset_Linear-Regression.ipynb",
      "provenance": [],
      "include_colab_link": true
    }
  },
  "cells": [
    {
      "cell_type": "markdown",
      "metadata": {
        "id": "view-in-github",
        "colab_type": "text"
      },
      "source": [
        "<a href=\"https://colab.research.google.com/github/YawarRizwan/Machine_Learning/blob/main/Ames_Housing_Dataset_Linear_Regression.ipynb\" target=\"_parent\"><img src=\"https://colab.research.google.com/assets/colab-badge.svg\" alt=\"Open In Colab\"/></a>"
      ]
    },
    {
      "cell_type": "markdown",
      "metadata": {
        "id": "c35WhhiANWj_"
      },
      "source": [
        "# Ames Housing Dataset_Linear-Regression"
      ]
    },
    {
      "cell_type": "markdown",
      "metadata": {
        "id": "ETa7UlCCNWkC"
      },
      "source": [
        "Ames Housing dataset will be used here. Your goal will be to create a Linear Regression Model, train it on the data with the optimal parameters using a grid search, and then evaluate the model's capabilities on a test set."
      ]
    },
    {
      "cell_type": "markdown",
      "metadata": {
        "id": "n5rKrXSkNWkG"
      },
      "source": [
        "---\n",
        "---\n",
        "---\n",
        "## Complete the tasks in bold\n",
        "\n",
        "**TASK: Run the cells under the Imports and Data section to make sure you have imported the correct general libraries as well as the correct datasets. Later on you may need to run further imports from scikit-learn.**\n",
        "\n",
        "### Imports"
      ]
    },
    {
      "cell_type": "code",
      "metadata": {
        "id": "Qm8JKr5CNWkK"
      },
      "source": [
        "import numpy as np\n",
        "import pandas as pd\n",
        "import matplotlib.pyplot as plt\n",
        "import seaborn as sns"
      ],
      "execution_count": 1,
      "outputs": []
    },
    {
      "cell_type": "markdown",
      "metadata": {
        "id": "x5Zl82lkNWkV"
      },
      "source": [
        "### Data"
      ]
    },
    {
      "cell_type": "code",
      "metadata": {
        "id": "JqV55PzKNWkY"
      },
      "source": [
        "df = pd.read_csv(\"AMES_Final_DF.csv\")"
      ],
      "execution_count": 2,
      "outputs": []
    },
    {
      "cell_type": "code",
      "metadata": {
        "colab": {
          "base_uri": "https://localhost:8080/",
          "height": 304
        },
        "id": "zvfoRB2fNWku",
        "outputId": "971dc857-bf37-4d39-88ca-d486b6c595b2"
      },
      "source": [
        "df.head()"
      ],
      "execution_count": 3,
      "outputs": [
        {
          "output_type": "execute_result",
          "data": {
            "text/html": [
              "<div>\n",
              "<style scoped>\n",
              "    .dataframe tbody tr th:only-of-type {\n",
              "        vertical-align: middle;\n",
              "    }\n",
              "\n",
              "    .dataframe tbody tr th {\n",
              "        vertical-align: top;\n",
              "    }\n",
              "\n",
              "    .dataframe thead th {\n",
              "        text-align: right;\n",
              "    }\n",
              "</style>\n",
              "<table border=\"1\" class=\"dataframe\">\n",
              "  <thead>\n",
              "    <tr style=\"text-align: right;\">\n",
              "      <th></th>\n",
              "      <th>Lot Frontage</th>\n",
              "      <th>Lot Area</th>\n",
              "      <th>Overall Qual</th>\n",
              "      <th>Overall Cond</th>\n",
              "      <th>Year Built</th>\n",
              "      <th>Year Remod/Add</th>\n",
              "      <th>Mas Vnr Area</th>\n",
              "      <th>BsmtFin SF 1</th>\n",
              "      <th>BsmtFin SF 2</th>\n",
              "      <th>Bsmt Unf SF</th>\n",
              "      <th>Total Bsmt SF</th>\n",
              "      <th>1st Flr SF</th>\n",
              "      <th>2nd Flr SF</th>\n",
              "      <th>Low Qual Fin SF</th>\n",
              "      <th>Gr Liv Area</th>\n",
              "      <th>Bsmt Full Bath</th>\n",
              "      <th>Bsmt Half Bath</th>\n",
              "      <th>Full Bath</th>\n",
              "      <th>Half Bath</th>\n",
              "      <th>Bedroom AbvGr</th>\n",
              "      <th>Kitchen AbvGr</th>\n",
              "      <th>TotRms AbvGrd</th>\n",
              "      <th>Fireplaces</th>\n",
              "      <th>Garage Yr Blt</th>\n",
              "      <th>Garage Cars</th>\n",
              "      <th>Garage Area</th>\n",
              "      <th>Wood Deck SF</th>\n",
              "      <th>Open Porch SF</th>\n",
              "      <th>Enclosed Porch</th>\n",
              "      <th>3Ssn Porch</th>\n",
              "      <th>Screen Porch</th>\n",
              "      <th>Pool Area</th>\n",
              "      <th>Misc Val</th>\n",
              "      <th>Mo Sold</th>\n",
              "      <th>Yr Sold</th>\n",
              "      <th>SalePrice</th>\n",
              "      <th>MS SubClass_150</th>\n",
              "      <th>MS SubClass_160</th>\n",
              "      <th>MS SubClass_180</th>\n",
              "      <th>MS SubClass_190</th>\n",
              "      <th>...</th>\n",
              "      <th>Fireplace Qu_Fa</th>\n",
              "      <th>Fireplace Qu_Gd</th>\n",
              "      <th>Fireplace Qu_None</th>\n",
              "      <th>Fireplace Qu_Po</th>\n",
              "      <th>Fireplace Qu_TA</th>\n",
              "      <th>Garage Type_Attchd</th>\n",
              "      <th>Garage Type_Basment</th>\n",
              "      <th>Garage Type_BuiltIn</th>\n",
              "      <th>Garage Type_CarPort</th>\n",
              "      <th>Garage Type_Detchd</th>\n",
              "      <th>Garage Type_None</th>\n",
              "      <th>Garage Finish_None</th>\n",
              "      <th>Garage Finish_RFn</th>\n",
              "      <th>Garage Finish_Unf</th>\n",
              "      <th>Garage Qual_Fa</th>\n",
              "      <th>Garage Qual_Gd</th>\n",
              "      <th>Garage Qual_None</th>\n",
              "      <th>Garage Qual_Po</th>\n",
              "      <th>Garage Qual_TA</th>\n",
              "      <th>Garage Cond_Fa</th>\n",
              "      <th>Garage Cond_Gd</th>\n",
              "      <th>Garage Cond_None</th>\n",
              "      <th>Garage Cond_Po</th>\n",
              "      <th>Garage Cond_TA</th>\n",
              "      <th>Paved Drive_P</th>\n",
              "      <th>Paved Drive_Y</th>\n",
              "      <th>Sale Type_CWD</th>\n",
              "      <th>Sale Type_Con</th>\n",
              "      <th>Sale Type_ConLD</th>\n",
              "      <th>Sale Type_ConLI</th>\n",
              "      <th>Sale Type_ConLw</th>\n",
              "      <th>Sale Type_New</th>\n",
              "      <th>Sale Type_Oth</th>\n",
              "      <th>Sale Type_VWD</th>\n",
              "      <th>Sale Type_WD</th>\n",
              "      <th>Sale Condition_AdjLand</th>\n",
              "      <th>Sale Condition_Alloca</th>\n",
              "      <th>Sale Condition_Family</th>\n",
              "      <th>Sale Condition_Normal</th>\n",
              "      <th>Sale Condition_Partial</th>\n",
              "    </tr>\n",
              "  </thead>\n",
              "  <tbody>\n",
              "    <tr>\n",
              "      <th>0</th>\n",
              "      <td>141.0</td>\n",
              "      <td>31770</td>\n",
              "      <td>6</td>\n",
              "      <td>5</td>\n",
              "      <td>1960</td>\n",
              "      <td>1960</td>\n",
              "      <td>112.0</td>\n",
              "      <td>639.0</td>\n",
              "      <td>0.0</td>\n",
              "      <td>441.0</td>\n",
              "      <td>1080.0</td>\n",
              "      <td>1656</td>\n",
              "      <td>0</td>\n",
              "      <td>0</td>\n",
              "      <td>1656</td>\n",
              "      <td>1.0</td>\n",
              "      <td>0.0</td>\n",
              "      <td>1</td>\n",
              "      <td>0</td>\n",
              "      <td>3</td>\n",
              "      <td>1</td>\n",
              "      <td>7</td>\n",
              "      <td>2</td>\n",
              "      <td>1960.0</td>\n",
              "      <td>2.0</td>\n",
              "      <td>528.0</td>\n",
              "      <td>210</td>\n",
              "      <td>62</td>\n",
              "      <td>0</td>\n",
              "      <td>0</td>\n",
              "      <td>0</td>\n",
              "      <td>0</td>\n",
              "      <td>0</td>\n",
              "      <td>5</td>\n",
              "      <td>2010</td>\n",
              "      <td>215000</td>\n",
              "      <td>0</td>\n",
              "      <td>0</td>\n",
              "      <td>0</td>\n",
              "      <td>0</td>\n",
              "      <td>...</td>\n",
              "      <td>0</td>\n",
              "      <td>1</td>\n",
              "      <td>0</td>\n",
              "      <td>0</td>\n",
              "      <td>0</td>\n",
              "      <td>1</td>\n",
              "      <td>0</td>\n",
              "      <td>0</td>\n",
              "      <td>0</td>\n",
              "      <td>0</td>\n",
              "      <td>0</td>\n",
              "      <td>0</td>\n",
              "      <td>0</td>\n",
              "      <td>0</td>\n",
              "      <td>0</td>\n",
              "      <td>0</td>\n",
              "      <td>0</td>\n",
              "      <td>0</td>\n",
              "      <td>1</td>\n",
              "      <td>0</td>\n",
              "      <td>0</td>\n",
              "      <td>0</td>\n",
              "      <td>0</td>\n",
              "      <td>1</td>\n",
              "      <td>1</td>\n",
              "      <td>0</td>\n",
              "      <td>0</td>\n",
              "      <td>0</td>\n",
              "      <td>0</td>\n",
              "      <td>0</td>\n",
              "      <td>0</td>\n",
              "      <td>0</td>\n",
              "      <td>0</td>\n",
              "      <td>0</td>\n",
              "      <td>1</td>\n",
              "      <td>0</td>\n",
              "      <td>0</td>\n",
              "      <td>0</td>\n",
              "      <td>1</td>\n",
              "      <td>0</td>\n",
              "    </tr>\n",
              "    <tr>\n",
              "      <th>1</th>\n",
              "      <td>80.0</td>\n",
              "      <td>11622</td>\n",
              "      <td>5</td>\n",
              "      <td>6</td>\n",
              "      <td>1961</td>\n",
              "      <td>1961</td>\n",
              "      <td>0.0</td>\n",
              "      <td>468.0</td>\n",
              "      <td>144.0</td>\n",
              "      <td>270.0</td>\n",
              "      <td>882.0</td>\n",
              "      <td>896</td>\n",
              "      <td>0</td>\n",
              "      <td>0</td>\n",
              "      <td>896</td>\n",
              "      <td>0.0</td>\n",
              "      <td>0.0</td>\n",
              "      <td>1</td>\n",
              "      <td>0</td>\n",
              "      <td>2</td>\n",
              "      <td>1</td>\n",
              "      <td>5</td>\n",
              "      <td>0</td>\n",
              "      <td>1961.0</td>\n",
              "      <td>1.0</td>\n",
              "      <td>730.0</td>\n",
              "      <td>140</td>\n",
              "      <td>0</td>\n",
              "      <td>0</td>\n",
              "      <td>0</td>\n",
              "      <td>120</td>\n",
              "      <td>0</td>\n",
              "      <td>0</td>\n",
              "      <td>6</td>\n",
              "      <td>2010</td>\n",
              "      <td>105000</td>\n",
              "      <td>0</td>\n",
              "      <td>0</td>\n",
              "      <td>0</td>\n",
              "      <td>0</td>\n",
              "      <td>...</td>\n",
              "      <td>0</td>\n",
              "      <td>0</td>\n",
              "      <td>1</td>\n",
              "      <td>0</td>\n",
              "      <td>0</td>\n",
              "      <td>1</td>\n",
              "      <td>0</td>\n",
              "      <td>0</td>\n",
              "      <td>0</td>\n",
              "      <td>0</td>\n",
              "      <td>0</td>\n",
              "      <td>0</td>\n",
              "      <td>0</td>\n",
              "      <td>1</td>\n",
              "      <td>0</td>\n",
              "      <td>0</td>\n",
              "      <td>0</td>\n",
              "      <td>0</td>\n",
              "      <td>1</td>\n",
              "      <td>0</td>\n",
              "      <td>0</td>\n",
              "      <td>0</td>\n",
              "      <td>0</td>\n",
              "      <td>1</td>\n",
              "      <td>0</td>\n",
              "      <td>1</td>\n",
              "      <td>0</td>\n",
              "      <td>0</td>\n",
              "      <td>0</td>\n",
              "      <td>0</td>\n",
              "      <td>0</td>\n",
              "      <td>0</td>\n",
              "      <td>0</td>\n",
              "      <td>0</td>\n",
              "      <td>1</td>\n",
              "      <td>0</td>\n",
              "      <td>0</td>\n",
              "      <td>0</td>\n",
              "      <td>1</td>\n",
              "      <td>0</td>\n",
              "    </tr>\n",
              "    <tr>\n",
              "      <th>2</th>\n",
              "      <td>81.0</td>\n",
              "      <td>14267</td>\n",
              "      <td>6</td>\n",
              "      <td>6</td>\n",
              "      <td>1958</td>\n",
              "      <td>1958</td>\n",
              "      <td>108.0</td>\n",
              "      <td>923.0</td>\n",
              "      <td>0.0</td>\n",
              "      <td>406.0</td>\n",
              "      <td>1329.0</td>\n",
              "      <td>1329</td>\n",
              "      <td>0</td>\n",
              "      <td>0</td>\n",
              "      <td>1329</td>\n",
              "      <td>0.0</td>\n",
              "      <td>0.0</td>\n",
              "      <td>1</td>\n",
              "      <td>1</td>\n",
              "      <td>3</td>\n",
              "      <td>1</td>\n",
              "      <td>6</td>\n",
              "      <td>0</td>\n",
              "      <td>1958.0</td>\n",
              "      <td>1.0</td>\n",
              "      <td>312.0</td>\n",
              "      <td>393</td>\n",
              "      <td>36</td>\n",
              "      <td>0</td>\n",
              "      <td>0</td>\n",
              "      <td>0</td>\n",
              "      <td>0</td>\n",
              "      <td>12500</td>\n",
              "      <td>6</td>\n",
              "      <td>2010</td>\n",
              "      <td>172000</td>\n",
              "      <td>0</td>\n",
              "      <td>0</td>\n",
              "      <td>0</td>\n",
              "      <td>0</td>\n",
              "      <td>...</td>\n",
              "      <td>0</td>\n",
              "      <td>0</td>\n",
              "      <td>1</td>\n",
              "      <td>0</td>\n",
              "      <td>0</td>\n",
              "      <td>1</td>\n",
              "      <td>0</td>\n",
              "      <td>0</td>\n",
              "      <td>0</td>\n",
              "      <td>0</td>\n",
              "      <td>0</td>\n",
              "      <td>0</td>\n",
              "      <td>0</td>\n",
              "      <td>1</td>\n",
              "      <td>0</td>\n",
              "      <td>0</td>\n",
              "      <td>0</td>\n",
              "      <td>0</td>\n",
              "      <td>1</td>\n",
              "      <td>0</td>\n",
              "      <td>0</td>\n",
              "      <td>0</td>\n",
              "      <td>0</td>\n",
              "      <td>1</td>\n",
              "      <td>0</td>\n",
              "      <td>1</td>\n",
              "      <td>0</td>\n",
              "      <td>0</td>\n",
              "      <td>0</td>\n",
              "      <td>0</td>\n",
              "      <td>0</td>\n",
              "      <td>0</td>\n",
              "      <td>0</td>\n",
              "      <td>0</td>\n",
              "      <td>1</td>\n",
              "      <td>0</td>\n",
              "      <td>0</td>\n",
              "      <td>0</td>\n",
              "      <td>1</td>\n",
              "      <td>0</td>\n",
              "    </tr>\n",
              "    <tr>\n",
              "      <th>3</th>\n",
              "      <td>93.0</td>\n",
              "      <td>11160</td>\n",
              "      <td>7</td>\n",
              "      <td>5</td>\n",
              "      <td>1968</td>\n",
              "      <td>1968</td>\n",
              "      <td>0.0</td>\n",
              "      <td>1065.0</td>\n",
              "      <td>0.0</td>\n",
              "      <td>1045.0</td>\n",
              "      <td>2110.0</td>\n",
              "      <td>2110</td>\n",
              "      <td>0</td>\n",
              "      <td>0</td>\n",
              "      <td>2110</td>\n",
              "      <td>1.0</td>\n",
              "      <td>0.0</td>\n",
              "      <td>2</td>\n",
              "      <td>1</td>\n",
              "      <td>3</td>\n",
              "      <td>1</td>\n",
              "      <td>8</td>\n",
              "      <td>2</td>\n",
              "      <td>1968.0</td>\n",
              "      <td>2.0</td>\n",
              "      <td>522.0</td>\n",
              "      <td>0</td>\n",
              "      <td>0</td>\n",
              "      <td>0</td>\n",
              "      <td>0</td>\n",
              "      <td>0</td>\n",
              "      <td>0</td>\n",
              "      <td>0</td>\n",
              "      <td>4</td>\n",
              "      <td>2010</td>\n",
              "      <td>244000</td>\n",
              "      <td>0</td>\n",
              "      <td>0</td>\n",
              "      <td>0</td>\n",
              "      <td>0</td>\n",
              "      <td>...</td>\n",
              "      <td>0</td>\n",
              "      <td>0</td>\n",
              "      <td>0</td>\n",
              "      <td>0</td>\n",
              "      <td>1</td>\n",
              "      <td>1</td>\n",
              "      <td>0</td>\n",
              "      <td>0</td>\n",
              "      <td>0</td>\n",
              "      <td>0</td>\n",
              "      <td>0</td>\n",
              "      <td>0</td>\n",
              "      <td>0</td>\n",
              "      <td>0</td>\n",
              "      <td>0</td>\n",
              "      <td>0</td>\n",
              "      <td>0</td>\n",
              "      <td>0</td>\n",
              "      <td>1</td>\n",
              "      <td>0</td>\n",
              "      <td>0</td>\n",
              "      <td>0</td>\n",
              "      <td>0</td>\n",
              "      <td>1</td>\n",
              "      <td>0</td>\n",
              "      <td>1</td>\n",
              "      <td>0</td>\n",
              "      <td>0</td>\n",
              "      <td>0</td>\n",
              "      <td>0</td>\n",
              "      <td>0</td>\n",
              "      <td>0</td>\n",
              "      <td>0</td>\n",
              "      <td>0</td>\n",
              "      <td>1</td>\n",
              "      <td>0</td>\n",
              "      <td>0</td>\n",
              "      <td>0</td>\n",
              "      <td>1</td>\n",
              "      <td>0</td>\n",
              "    </tr>\n",
              "    <tr>\n",
              "      <th>4</th>\n",
              "      <td>74.0</td>\n",
              "      <td>13830</td>\n",
              "      <td>5</td>\n",
              "      <td>5</td>\n",
              "      <td>1997</td>\n",
              "      <td>1998</td>\n",
              "      <td>0.0</td>\n",
              "      <td>791.0</td>\n",
              "      <td>0.0</td>\n",
              "      <td>137.0</td>\n",
              "      <td>928.0</td>\n",
              "      <td>928</td>\n",
              "      <td>701</td>\n",
              "      <td>0</td>\n",
              "      <td>1629</td>\n",
              "      <td>0.0</td>\n",
              "      <td>0.0</td>\n",
              "      <td>2</td>\n",
              "      <td>1</td>\n",
              "      <td>3</td>\n",
              "      <td>1</td>\n",
              "      <td>6</td>\n",
              "      <td>1</td>\n",
              "      <td>1997.0</td>\n",
              "      <td>2.0</td>\n",
              "      <td>482.0</td>\n",
              "      <td>212</td>\n",
              "      <td>34</td>\n",
              "      <td>0</td>\n",
              "      <td>0</td>\n",
              "      <td>0</td>\n",
              "      <td>0</td>\n",
              "      <td>0</td>\n",
              "      <td>3</td>\n",
              "      <td>2010</td>\n",
              "      <td>189900</td>\n",
              "      <td>0</td>\n",
              "      <td>0</td>\n",
              "      <td>0</td>\n",
              "      <td>0</td>\n",
              "      <td>...</td>\n",
              "      <td>0</td>\n",
              "      <td>0</td>\n",
              "      <td>0</td>\n",
              "      <td>0</td>\n",
              "      <td>1</td>\n",
              "      <td>1</td>\n",
              "      <td>0</td>\n",
              "      <td>0</td>\n",
              "      <td>0</td>\n",
              "      <td>0</td>\n",
              "      <td>0</td>\n",
              "      <td>0</td>\n",
              "      <td>0</td>\n",
              "      <td>0</td>\n",
              "      <td>0</td>\n",
              "      <td>0</td>\n",
              "      <td>0</td>\n",
              "      <td>0</td>\n",
              "      <td>1</td>\n",
              "      <td>0</td>\n",
              "      <td>0</td>\n",
              "      <td>0</td>\n",
              "      <td>0</td>\n",
              "      <td>1</td>\n",
              "      <td>0</td>\n",
              "      <td>1</td>\n",
              "      <td>0</td>\n",
              "      <td>0</td>\n",
              "      <td>0</td>\n",
              "      <td>0</td>\n",
              "      <td>0</td>\n",
              "      <td>0</td>\n",
              "      <td>0</td>\n",
              "      <td>0</td>\n",
              "      <td>1</td>\n",
              "      <td>0</td>\n",
              "      <td>0</td>\n",
              "      <td>0</td>\n",
              "      <td>1</td>\n",
              "      <td>0</td>\n",
              "    </tr>\n",
              "  </tbody>\n",
              "</table>\n",
              "<p>5 rows × 274 columns</p>\n",
              "</div>"
            ],
            "text/plain": [
              "   Lot Frontage  Lot Area  ...  Sale Condition_Normal  Sale Condition_Partial\n",
              "0         141.0     31770  ...                      1                       0\n",
              "1          80.0     11622  ...                      1                       0\n",
              "2          81.0     14267  ...                      1                       0\n",
              "3          93.0     11160  ...                      1                       0\n",
              "4          74.0     13830  ...                      1                       0\n",
              "\n",
              "[5 rows x 274 columns]"
            ]
          },
          "metadata": {
            "tags": []
          },
          "execution_count": 3
        }
      ]
    },
    {
      "cell_type": "code",
      "metadata": {
        "colab": {
          "base_uri": "https://localhost:8080/"
        },
        "id": "BhVlN5SZNWlt",
        "outputId": "e5a71a2e-4814-4e18-f4d1-cb7b4c7ef447"
      },
      "source": [
        "df.info()"
      ],
      "execution_count": 4,
      "outputs": [
        {
          "output_type": "stream",
          "text": [
            "<class 'pandas.core.frame.DataFrame'>\n",
            "RangeIndex: 2925 entries, 0 to 2924\n",
            "Columns: 274 entries, Lot Frontage to Sale Condition_Partial\n",
            "dtypes: float64(11), int64(263)\n",
            "memory usage: 6.1 MB\n"
          ],
          "name": "stdout"
        }
      ]
    },
    {
      "cell_type": "markdown",
      "metadata": {
        "id": "8wmQ3xgKNWlw"
      },
      "source": [
        "**TASK: The label we are trying to predict is the SalePrice column. Separate out the data into X features and y labels**"
      ]
    },
    {
      "cell_type": "code",
      "metadata": {
        "id": "X8fwZblTNWlz"
      },
      "source": [
        "X = df.drop('SalePrice',axis=1)\n",
        "y = df['SalePrice']"
      ],
      "execution_count": 5,
      "outputs": []
    },
    {
      "cell_type": "markdown",
      "metadata": {
        "id": "dvfRrTxmNWl4"
      },
      "source": [
        "**TASK: Use scikit-learn to split up X and y into a training set and test set. Since we will later be using a Grid Search strategy, set your test proportion to 10%. To get the same data split as the solutions notebook, you can specify random_state = 101**"
      ]
    },
    {
      "cell_type": "code",
      "metadata": {
        "id": "sqydmaEmNWl7"
      },
      "source": [
        "from sklearn.model_selection import train_test_split"
      ],
      "execution_count": 6,
      "outputs": []
    },
    {
      "cell_type": "code",
      "metadata": {
        "id": "wLQtNXdlNWl9"
      },
      "source": [
        "X_train, X_test, y_train, y_test = train_test_split(X, y, test_size=0.10, random_state=101)"
      ],
      "execution_count": 7,
      "outputs": []
    },
    {
      "cell_type": "markdown",
      "metadata": {
        "id": "nw8qhaq4NWl_"
      },
      "source": [
        "**TASK: The dataset features has a variety of scales and units. For optimal regression performance, scale the X features. Take carefuly note of what to use for .fit() vs what to use for .transform()**"
      ]
    },
    {
      "cell_type": "code",
      "metadata": {
        "id": "4b-YmEKwNWmA"
      },
      "source": [
        "from sklearn.preprocessing import MinMaxScaler"
      ],
      "execution_count": 24,
      "outputs": []
    },
    {
      "cell_type": "code",
      "metadata": {
        "id": "5pIsZndjNWmC"
      },
      "source": [
        "scaler = StandardScaler()"
      ],
      "execution_count": 25,
      "outputs": []
    },
    {
      "cell_type": "code",
      "metadata": {
        "id": "q5hkeQk-NWmE"
      },
      "source": [
        "scaled_X_train = scaler.fit_transform(X_train)\n",
        "scaled_X_test = scaler.transform(X_test)"
      ],
      "execution_count": 26,
      "outputs": []
    },
    {
      "cell_type": "markdown",
      "metadata": {
        "id": "BoBFIJj7NWmG"
      },
      "source": [
        "**TASK: We will use an Elastic Net model. Create an instance of default ElasticNet model with scikit-learn**"
      ]
    },
    {
      "cell_type": "code",
      "metadata": {
        "id": "531gKMNoNWmI"
      },
      "source": [
        "from sklearn.linear_model import ElasticNet"
      ],
      "execution_count": 27,
      "outputs": []
    },
    {
      "cell_type": "code",
      "metadata": {
        "id": "Uv1V8vW0NWmJ"
      },
      "source": [
        "base_elastic_model = ElasticNet()"
      ],
      "execution_count": 28,
      "outputs": []
    },
    {
      "cell_type": "markdown",
      "metadata": {
        "id": "riATBug3NWmL"
      },
      "source": [
        "**TASK:  The Elastic Net model has two main parameters, alpha and the L1 ratio. Create a dictionary parameter grid of values for the ElasticNet**"
      ]
    },
    {
      "cell_type": "code",
      "metadata": {
        "id": "hVcj-lDXNWmN"
      },
      "source": [
        "param_grid = {'alpha':[0.1,1,5,10,50,100],\n",
        "              'l1_ratio':[.1, .5, .7, .9, .95, .99, 1]}"
      ],
      "execution_count": 29,
      "outputs": []
    },
    {
      "cell_type": "markdown",
      "metadata": {
        "id": "ac5AxE6wNWmP"
      },
      "source": [
        "**TASK: Using scikit-learn create a GridSearchCV object and run a grid search for the best parameters for your model based on your scaled training data. [In case you are curious about the warnings you may recieve for certain parameter combinations](https://stackoverflow.com/questions/20681864/lasso-on-sklearn-does-not-converge)**"
      ]
    },
    {
      "cell_type": "code",
      "metadata": {
        "id": "NI0mxf3fNWmR"
      },
      "source": [
        "from sklearn.model_selection import GridSearchCV\n",
        "!pip install Optuna"
      ],
      "execution_count": null,
      "outputs": []
    },
    {
      "cell_type": "code",
      "metadata": {
        "id": "pbGwOuQdNWmS"
      },
      "source": [
        "# verbose number a personal preference\n",
        "grid_model = GridSearchCV(estimator=base_elastic_model,\n",
        "                          param_grid=param_grid,\n",
        "                          scoring='neg_mean_squared_error',\n",
        "                          cv=5,\n",
        "                          verbose=1)"
      ],
      "execution_count": 31,
      "outputs": []
    },
    {
      "cell_type": "code",
      "metadata": {
        "colab": {
          "base_uri": "https://localhost:8080/"
        },
        "id": "Ijct0EHMNWmU",
        "outputId": "f74a65d8-27d3-4f1d-bb48-f466fcb59365"
      },
      "source": [
        "grid_model.fit(scaled_X_train,y_train)"
      ],
      "execution_count": 32,
      "outputs": [
        {
          "output_type": "stream",
          "text": [
            "Fitting 5 folds for each of 42 candidates, totalling 210 fits\n"
          ],
          "name": "stdout"
        },
        {
          "output_type": "stream",
          "text": [
            "[Parallel(n_jobs=1)]: Using backend SequentialBackend with 1 concurrent workers.\n",
            "/usr/local/lib/python3.7/dist-packages/sklearn/linear_model/_coordinate_descent.py:476: ConvergenceWarning: Objective did not converge. You might want to increase the number of iterations. Duality gap: 139422008253.771, tolerance: 1355206692.5276787\n",
            "  positive)\n",
            "/usr/local/lib/python3.7/dist-packages/sklearn/linear_model/_coordinate_descent.py:476: ConvergenceWarning: Objective did not converge. You might want to increase the number of iterations. Duality gap: 165405536738.3816, tolerance: 1307913805.6588457\n",
            "  positive)\n",
            "/usr/local/lib/python3.7/dist-packages/sklearn/linear_model/_coordinate_descent.py:476: ConvergenceWarning: Objective did not converge. You might want to increase the number of iterations. Duality gap: 132401459345.80408, tolerance: 1415056940.0061066\n",
            "  positive)\n",
            "/usr/local/lib/python3.7/dist-packages/sklearn/linear_model/_coordinate_descent.py:476: ConvergenceWarning: Objective did not converge. You might want to increase the number of iterations. Duality gap: 198623915721.2173, tolerance: 1438198040.088288\n",
            "  positive)\n",
            "/usr/local/lib/python3.7/dist-packages/sklearn/linear_model/_coordinate_descent.py:476: ConvergenceWarning: Objective did not converge. You might want to increase the number of iterations. Duality gap: 155332691866.2165, tolerance: 1345680018.2551236\n",
            "  positive)\n",
            "/usr/local/lib/python3.7/dist-packages/sklearn/linear_model/_coordinate_descent.py:476: ConvergenceWarning: Objective did not converge. You might want to increase the number of iterations. Duality gap: 323508201435.6844, tolerance: 1355206692.5276787\n",
            "  positive)\n",
            "/usr/local/lib/python3.7/dist-packages/sklearn/linear_model/_coordinate_descent.py:476: ConvergenceWarning: Objective did not converge. You might want to increase the number of iterations. Duality gap: 336948879951.125, tolerance: 1307913805.6588457\n",
            "  positive)\n",
            "/usr/local/lib/python3.7/dist-packages/sklearn/linear_model/_coordinate_descent.py:476: ConvergenceWarning: Objective did not converge. You might want to increase the number of iterations. Duality gap: 357509968449.6958, tolerance: 1415056940.0061066\n",
            "  positive)\n",
            "/usr/local/lib/python3.7/dist-packages/sklearn/linear_model/_coordinate_descent.py:476: ConvergenceWarning: Objective did not converge. You might want to increase the number of iterations. Duality gap: 388683651672.2949, tolerance: 1438198040.088288\n",
            "  positive)\n",
            "/usr/local/lib/python3.7/dist-packages/sklearn/linear_model/_coordinate_descent.py:476: ConvergenceWarning: Objective did not converge. You might want to increase the number of iterations. Duality gap: 292809907400.37354, tolerance: 1345680018.2551236\n",
            "  positive)\n",
            "/usr/local/lib/python3.7/dist-packages/sklearn/linear_model/_coordinate_descent.py:476: ConvergenceWarning: Objective did not converge. You might want to increase the number of iterations. Duality gap: 354244712120.8137, tolerance: 1355206692.5276787\n",
            "  positive)\n",
            "/usr/local/lib/python3.7/dist-packages/sklearn/linear_model/_coordinate_descent.py:476: ConvergenceWarning: Objective did not converge. You might want to increase the number of iterations. Duality gap: 363490863623.8183, tolerance: 1307913805.6588457\n",
            "  positive)\n",
            "/usr/local/lib/python3.7/dist-packages/sklearn/linear_model/_coordinate_descent.py:476: ConvergenceWarning: Objective did not converge. You might want to increase the number of iterations. Duality gap: 408539308800.79504, tolerance: 1415056940.0061066\n",
            "  positive)\n",
            "/usr/local/lib/python3.7/dist-packages/sklearn/linear_model/_coordinate_descent.py:476: ConvergenceWarning: Objective did not converge. You might want to increase the number of iterations. Duality gap: 407083927692.8738, tolerance: 1438198040.088288\n",
            "  positive)\n",
            "/usr/local/lib/python3.7/dist-packages/sklearn/linear_model/_coordinate_descent.py:476: ConvergenceWarning: Objective did not converge. You might want to increase the number of iterations. Duality gap: 355296428563.4154, tolerance: 1345680018.2551236\n",
            "  positive)\n",
            "/usr/local/lib/python3.7/dist-packages/sklearn/linear_model/_coordinate_descent.py:476: ConvergenceWarning: Objective did not converge. You might want to increase the number of iterations. Duality gap: 349811975084.8027, tolerance: 1355206692.5276787\n",
            "  positive)\n",
            "/usr/local/lib/python3.7/dist-packages/sklearn/linear_model/_coordinate_descent.py:476: ConvergenceWarning: Objective did not converge. You might want to increase the number of iterations. Duality gap: 359107413789.82935, tolerance: 1307913805.6588457\n",
            "  positive)\n",
            "/usr/local/lib/python3.7/dist-packages/sklearn/linear_model/_coordinate_descent.py:476: ConvergenceWarning: Objective did not converge. You might want to increase the number of iterations. Duality gap: 406611694447.3535, tolerance: 1415056940.0061066\n",
            "  positive)\n",
            "/usr/local/lib/python3.7/dist-packages/sklearn/linear_model/_coordinate_descent.py:476: ConvergenceWarning: Objective did not converge. You might want to increase the number of iterations. Duality gap: 402834204598.12885, tolerance: 1438198040.088288\n",
            "  positive)\n",
            "/usr/local/lib/python3.7/dist-packages/sklearn/linear_model/_coordinate_descent.py:476: ConvergenceWarning: Objective did not converge. You might want to increase the number of iterations. Duality gap: 368658319394.3744, tolerance: 1345680018.2551236\n",
            "  positive)\n",
            "/usr/local/lib/python3.7/dist-packages/sklearn/linear_model/_coordinate_descent.py:476: ConvergenceWarning: Objective did not converge. You might want to increase the number of iterations. Duality gap: 302531521066.7681, tolerance: 1355206692.5276787\n",
            "  positive)\n",
            "/usr/local/lib/python3.7/dist-packages/sklearn/linear_model/_coordinate_descent.py:476: ConvergenceWarning: Objective did not converge. You might want to increase the number of iterations. Duality gap: 312733820929.518, tolerance: 1307913805.6588457\n",
            "  positive)\n",
            "/usr/local/lib/python3.7/dist-packages/sklearn/linear_model/_coordinate_descent.py:476: ConvergenceWarning: Objective did not converge. You might want to increase the number of iterations. Duality gap: 347531367248.8534, tolerance: 1415056940.0061066\n",
            "  positive)\n",
            "/usr/local/lib/python3.7/dist-packages/sklearn/linear_model/_coordinate_descent.py:476: ConvergenceWarning: Objective did not converge. You might want to increase the number of iterations. Duality gap: 352595740834.97046, tolerance: 1438198040.088288\n",
            "  positive)\n",
            "/usr/local/lib/python3.7/dist-packages/sklearn/linear_model/_coordinate_descent.py:476: ConvergenceWarning: Objective did not converge. You might want to increase the number of iterations. Duality gap: 255889875128.0997, tolerance: 1345680018.2551236\n",
            "  positive)\n",
            "/usr/local/lib/python3.7/dist-packages/sklearn/linear_model/_coordinate_descent.py:476: ConvergenceWarning: Objective did not converge. You might want to increase the number of iterations. Duality gap: 170731423283.75342, tolerance: 1355206692.5276787\n",
            "  positive)\n",
            "/usr/local/lib/python3.7/dist-packages/sklearn/linear_model/_coordinate_descent.py:476: ConvergenceWarning: Objective did not converge. You might want to increase the number of iterations. Duality gap: 186853289260.33496, tolerance: 1307913805.6588457\n",
            "  positive)\n",
            "/usr/local/lib/python3.7/dist-packages/sklearn/linear_model/_coordinate_descent.py:476: ConvergenceWarning: Objective did not converge. You might want to increase the number of iterations. Duality gap: 196463479537.0419, tolerance: 1415056940.0061066\n",
            "  positive)\n",
            "/usr/local/lib/python3.7/dist-packages/sklearn/linear_model/_coordinate_descent.py:476: ConvergenceWarning: Objective did not converge. You might want to increase the number of iterations. Duality gap: 212820336042.76007, tolerance: 1438198040.088288\n",
            "  positive)\n",
            "/usr/local/lib/python3.7/dist-packages/sklearn/linear_model/_coordinate_descent.py:476: ConvergenceWarning: Objective did not converge. You might want to increase the number of iterations. Duality gap: 4848819954.123901, tolerance: 1345680018.2551236\n",
            "  positive)\n",
            "/usr/local/lib/python3.7/dist-packages/sklearn/linear_model/_coordinate_descent.py:476: ConvergenceWarning: Objective did not converge. You might want to increase the number of iterations. Duality gap: 13130431879.617554, tolerance: 1355206692.5276787\n",
            "  positive)\n",
            "/usr/local/lib/python3.7/dist-packages/sklearn/linear_model/_coordinate_descent.py:476: ConvergenceWarning: Objective did not converge. You might want to increase the number of iterations. Duality gap: 4413768640.779419, tolerance: 1307913805.6588457\n",
            "  positive)\n",
            "/usr/local/lib/python3.7/dist-packages/sklearn/linear_model/_coordinate_descent.py:476: ConvergenceWarning: Objective did not converge. You might want to increase the number of iterations. Duality gap: 36282285999.41675, tolerance: 1415056940.0061066\n",
            "  positive)\n",
            "/usr/local/lib/python3.7/dist-packages/sklearn/linear_model/_coordinate_descent.py:476: ConvergenceWarning: Objective did not converge. You might want to increase the number of iterations. Duality gap: 3970004908.5355225, tolerance: 1438198040.088288\n",
            "  positive)\n",
            "[Parallel(n_jobs=1)]: Done 210 out of 210 | elapsed:   26.8s finished\n"
          ],
          "name": "stderr"
        },
        {
          "output_type": "execute_result",
          "data": {
            "text/plain": [
              "GridSearchCV(cv=5, error_score=nan,\n",
              "             estimator=ElasticNet(alpha=1.0, copy_X=True, fit_intercept=True,\n",
              "                                  l1_ratio=0.5, max_iter=1000, normalize=False,\n",
              "                                  positive=False, precompute=False,\n",
              "                                  random_state=None, selection='cyclic',\n",
              "                                  tol=0.0001, warm_start=False),\n",
              "             iid='deprecated', n_jobs=None,\n",
              "             param_grid={'alpha': [0.1, 1, 5, 10, 50, 100],\n",
              "                         'l1_ratio': [0.1, 0.5, 0.7, 0.9, 0.95, 0.99, 1]},\n",
              "             pre_dispatch='2*n_jobs', refit=True, return_train_score=False,\n",
              "             scoring='neg_mean_squared_error', verbose=1)"
            ]
          },
          "metadata": {
            "tags": []
          },
          "execution_count": 32
        }
      ]
    },
    {
      "cell_type": "markdown",
      "metadata": {
        "id": "xqywtWbaNWmX"
      },
      "source": [
        "**TASK: Display the best combination of parameters for your model**"
      ]
    },
    {
      "cell_type": "code",
      "metadata": {
        "colab": {
          "base_uri": "https://localhost:8080/"
        },
        "id": "s5a07Y-dNWmY",
        "outputId": "813ae64f-649b-4098-ead8-871024b56e32"
      },
      "source": [
        "grid_model.best_params_"
      ],
      "execution_count": 33,
      "outputs": [
        {
          "output_type": "execute_result",
          "data": {
            "text/plain": [
              "{'alpha': 100, 'l1_ratio': 1}"
            ]
          },
          "metadata": {
            "tags": []
          },
          "execution_count": 33
        }
      ]
    },
    {
      "cell_type": "markdown",
      "metadata": {
        "id": "pz5FZRD3NWmb"
      },
      "source": [
        "**TASK: Evaluate your model's performance on the unseen 10% scaled test set**"
      ]
    },
    {
      "cell_type": "code",
      "metadata": {
        "id": "ZZE97aJlNWmc"
      },
      "source": [
        "y_pred = grid_model.predict(scaled_X_test)"
      ],
      "execution_count": 34,
      "outputs": []
    },
    {
      "cell_type": "code",
      "metadata": {
        "id": "hiRXm1KWNWme"
      },
      "source": [
        "from sklearn.metrics import mean_absolute_error,mean_squared_error"
      ],
      "execution_count": 35,
      "outputs": []
    },
    {
      "cell_type": "code",
      "metadata": {
        "colab": {
          "base_uri": "https://localhost:8080/"
        },
        "id": "UkuciOZdNWmf",
        "outputId": "466db1ad-c2bd-4e61-d2a2-a2d65a1d803f"
      },
      "source": [
        "mean_absolute_error(y_test,y_pred)"
      ],
      "execution_count": 36,
      "outputs": [
        {
          "output_type": "execute_result",
          "data": {
            "text/plain": [
              "14195.354900562166"
            ]
          },
          "metadata": {
            "tags": []
          },
          "execution_count": 36
        }
      ]
    },
    {
      "cell_type": "code",
      "metadata": {
        "colab": {
          "base_uri": "https://localhost:8080/"
        },
        "id": "WLbcddPeNWmi",
        "outputId": "79b4c4a8-327a-4e5c-d9fb-ea341caaf631"
      },
      "source": [
        "np.sqrt(mean_squared_error(y_test,y_pred))"
      ],
      "execution_count": 37,
      "outputs": [
        {
          "output_type": "execute_result",
          "data": {
            "text/plain": [
              "20558.508566893164"
            ]
          },
          "metadata": {
            "tags": []
          },
          "execution_count": 37
        }
      ]
    },
    {
      "cell_type": "code",
      "metadata": {
        "colab": {
          "base_uri": "https://localhost:8080/"
        },
        "id": "eOR7sbpkNWmn",
        "outputId": "8351239f-d572-4680-a15b-2cadbdfce125"
      },
      "source": [
        "np.mean(df['SalePrice'])"
      ],
      "execution_count": 38,
      "outputs": [
        {
          "output_type": "execute_result",
          "data": {
            "text/plain": [
              "180815.53743589742"
            ]
          },
          "metadata": {
            "tags": []
          },
          "execution_count": 38
        }
      ]
    },
    {
      "cell_type": "markdown",
      "metadata": {
        "id": "lOkE-A5vNWmp"
      },
      "source": [
        "## Great work!\n",
        "\n",
        "----"
      ]
    }
  ]
}