{
  "nbformat": 4,
  "nbformat_minor": 0,
  "metadata": {
    "kernelspec": {
      "display_name": "Python 3",
      "language": "python",
      "name": "python3"
    },
    "language_info": {
      "codemirror_mode": {
        "name": "ipython",
        "version": 3
      },
      "file_extension": ".py",
      "mimetype": "text/x-python",
      "name": "python",
      "nbconvert_exporter": "python",
      "pygments_lexer": "ipython3",
      "version": "3.6.4"
    },
    "colab": {
      "name": "Predicting_Absenteeism - Logistic_Regression.ipynb",
      "provenance": [],
      "include_colab_link": true
    }
  },
  "cells": [
    {
      "cell_type": "markdown",
      "metadata": {
        "id": "view-in-github",
        "colab_type": "text"
      },
      "source": [
        "<a href=\"https://colab.research.google.com/github/YawarRizwan/Machine_Learning/blob/main/Predicting_Absenteeism_Logistic_Regression.ipynb\" target=\"_parent\"><img src=\"https://colab.research.google.com/assets/colab-badge.svg\" alt=\"Open In Colab\"/></a>"
      ]
    },
    {
      "cell_type": "markdown",
      "metadata": {
        "id": "SVg0YxOGwu8U"
      },
      "source": [
        "# Creating a logistic regression to predict absenteeism"
      ]
    },
    {
      "cell_type": "markdown",
      "metadata": {
        "id": "_YGYBrp5wu8Y"
      },
      "source": [
        "## Import the relevant libraries"
      ]
    },
    {
      "cell_type": "code",
      "metadata": {
        "id": "73pwvo7Bwu8a"
      },
      "source": [
        "# import the relevant libraries\n",
        "import pandas as pd\n",
        "import numpy as np"
      ],
      "execution_count": 6,
      "outputs": []
    },
    {
      "cell_type": "markdown",
      "metadata": {
        "id": "IzNM3RQswu8b"
      },
      "source": [
        "## Load the data"
      ]
    },
    {
      "cell_type": "code",
      "metadata": {
        "id": "1_8DNeEOwu8d"
      },
      "source": [
        "# load the preprocessed CSV data\n",
        "data_preprocessed = pd.read_csv('Absenteeism-preprocessed.csv')"
      ],
      "execution_count": 7,
      "outputs": []
    },
    {
      "cell_type": "code",
      "metadata": {
        "colab": {
          "base_uri": "https://localhost:8080/",
          "height": 238
        },
        "id": "UOKOGQdXwu8e",
        "outputId": "0c1fb31e-7b1a-4baa-caa5-e0add4181c34"
      },
      "source": [
        "# eyeball the data\n",
        "data_preprocessed.head()"
      ],
      "execution_count": 8,
      "outputs": [
        {
          "output_type": "execute_result",
          "data": {
            "text/html": [
              "<div>\n",
              "<style scoped>\n",
              "    .dataframe tbody tr th:only-of-type {\n",
              "        vertical-align: middle;\n",
              "    }\n",
              "\n",
              "    .dataframe tbody tr th {\n",
              "        vertical-align: top;\n",
              "    }\n",
              "\n",
              "    .dataframe thead th {\n",
              "        text-align: right;\n",
              "    }\n",
              "</style>\n",
              "<table border=\"1\" class=\"dataframe\">\n",
              "  <thead>\n",
              "    <tr style=\"text-align: right;\">\n",
              "      <th></th>\n",
              "      <th>Reason_1</th>\n",
              "      <th>Reason_2</th>\n",
              "      <th>Reason_3</th>\n",
              "      <th>Reason_4</th>\n",
              "      <th>Month Value</th>\n",
              "      <th>Day of the Week</th>\n",
              "      <th>Transportation Expense</th>\n",
              "      <th>Distance to Work</th>\n",
              "      <th>Age</th>\n",
              "      <th>Daily Work Load Average</th>\n",
              "      <th>Body Mass Index</th>\n",
              "      <th>Education</th>\n",
              "      <th>Children</th>\n",
              "      <th>Pet</th>\n",
              "      <th>Absenteeism Time in Hours</th>\n",
              "    </tr>\n",
              "  </thead>\n",
              "  <tbody>\n",
              "    <tr>\n",
              "      <th>0</th>\n",
              "      <td>0</td>\n",
              "      <td>0</td>\n",
              "      <td>0</td>\n",
              "      <td>1</td>\n",
              "      <td>7</td>\n",
              "      <td>1</td>\n",
              "      <td>289</td>\n",
              "      <td>36</td>\n",
              "      <td>33</td>\n",
              "      <td>239.554</td>\n",
              "      <td>30</td>\n",
              "      <td>0</td>\n",
              "      <td>2</td>\n",
              "      <td>1</td>\n",
              "      <td>4</td>\n",
              "    </tr>\n",
              "    <tr>\n",
              "      <th>1</th>\n",
              "      <td>0</td>\n",
              "      <td>0</td>\n",
              "      <td>0</td>\n",
              "      <td>0</td>\n",
              "      <td>7</td>\n",
              "      <td>1</td>\n",
              "      <td>118</td>\n",
              "      <td>13</td>\n",
              "      <td>50</td>\n",
              "      <td>239.554</td>\n",
              "      <td>31</td>\n",
              "      <td>0</td>\n",
              "      <td>1</td>\n",
              "      <td>0</td>\n",
              "      <td>0</td>\n",
              "    </tr>\n",
              "    <tr>\n",
              "      <th>2</th>\n",
              "      <td>0</td>\n",
              "      <td>0</td>\n",
              "      <td>0</td>\n",
              "      <td>1</td>\n",
              "      <td>7</td>\n",
              "      <td>2</td>\n",
              "      <td>179</td>\n",
              "      <td>51</td>\n",
              "      <td>38</td>\n",
              "      <td>239.554</td>\n",
              "      <td>31</td>\n",
              "      <td>0</td>\n",
              "      <td>0</td>\n",
              "      <td>0</td>\n",
              "      <td>2</td>\n",
              "    </tr>\n",
              "    <tr>\n",
              "      <th>3</th>\n",
              "      <td>1</td>\n",
              "      <td>0</td>\n",
              "      <td>0</td>\n",
              "      <td>0</td>\n",
              "      <td>7</td>\n",
              "      <td>3</td>\n",
              "      <td>279</td>\n",
              "      <td>5</td>\n",
              "      <td>39</td>\n",
              "      <td>239.554</td>\n",
              "      <td>24</td>\n",
              "      <td>0</td>\n",
              "      <td>2</td>\n",
              "      <td>0</td>\n",
              "      <td>4</td>\n",
              "    </tr>\n",
              "    <tr>\n",
              "      <th>4</th>\n",
              "      <td>0</td>\n",
              "      <td>0</td>\n",
              "      <td>0</td>\n",
              "      <td>1</td>\n",
              "      <td>7</td>\n",
              "      <td>3</td>\n",
              "      <td>289</td>\n",
              "      <td>36</td>\n",
              "      <td>33</td>\n",
              "      <td>239.554</td>\n",
              "      <td>30</td>\n",
              "      <td>0</td>\n",
              "      <td>2</td>\n",
              "      <td>1</td>\n",
              "      <td>2</td>\n",
              "    </tr>\n",
              "  </tbody>\n",
              "</table>\n",
              "</div>"
            ],
            "text/plain": [
              "   Reason_1  Reason_2  Reason_3  ...  Children  Pet  Absenteeism Time in Hours\n",
              "0         0         0         0  ...         2    1                          4\n",
              "1         0         0         0  ...         1    0                          0\n",
              "2         0         0         0  ...         0    0                          2\n",
              "3         1         0         0  ...         2    0                          4\n",
              "4         0         0         0  ...         2    1                          2\n",
              "\n",
              "[5 rows x 15 columns]"
            ]
          },
          "metadata": {
            "tags": []
          },
          "execution_count": 8
        }
      ]
    },
    {
      "cell_type": "markdown",
      "metadata": {
        "id": "DSsOaWbawu8m"
      },
      "source": [
        "## Create the targets"
      ]
    },
    {
      "cell_type": "code",
      "metadata": {
        "colab": {
          "base_uri": "https://localhost:8080/"
        },
        "id": "KZzwWXwNwu8o",
        "outputId": "4dbe61b9-ecc4-4bb0-ad7b-4154b53bf624"
      },
      "source": [
        "# find the median of 'Absenteeism Time in Hours'\n",
        "data_preprocessed['Absenteeism Time in Hours'].median()"
      ],
      "execution_count": 9,
      "outputs": [
        {
          "output_type": "execute_result",
          "data": {
            "text/plain": [
              "3.0"
            ]
          },
          "metadata": {
            "tags": []
          },
          "execution_count": 9
        }
      ]
    },
    {
      "cell_type": "code",
      "metadata": {
        "id": "vt6UNRsQwu8q"
      },
      "source": [
        "# create targets for our logistic regression\n",
        "# they have to be categories and we must find a way to say if someone is 'being absent too much' or not\n",
        "# what we've decided to do is to take the median of the dataset as a cut-off line\n",
        "# in this way the dataset will be balanced (there will be roughly equal number of 0s and 1s for the logistic regression)\n",
        "# as balancing is a great problem for ML, this will work great for us\n",
        "# alternatively, if we had more data, we could have found other ways to deal with the issue \n",
        "# for instance, we could have assigned some arbitrary value as a cut-off line, instead of the median\n",
        "\n",
        "# note that what line does is to assign 1 to anyone who has been absent 4 hours or more (more than 3 hours)\n",
        "# that is the equivalent of taking half a day off\n",
        "\n",
        "# targets = np.where(data_preprocessed['Absenteeism Time in Hours'] > 3, 1, 0)\n",
        "\n",
        "# parameterized code\n",
        "targets = np.where(data_preprocessed['Absenteeism Time in Hours'] > \n",
        "                   data_preprocessed['Absenteeism Time in Hours'].median(), 1, 0)"
      ],
      "execution_count": 10,
      "outputs": []
    },
    {
      "cell_type": "code",
      "metadata": {
        "scrolled": true,
        "colab": {
          "base_uri": "https://localhost:8080/"
        },
        "id": "xysjGhqqwu8s",
        "outputId": "2cf41f7d-0793-45f2-c6c9-4744778fe675"
      },
      "source": [
        "# eyeball the targets\n",
        "targets"
      ],
      "execution_count": 11,
      "outputs": [
        {
          "output_type": "execute_result",
          "data": {
            "text/plain": [
              "array([1, 0, 0, 1, 0, 0, 1, 1, 1, 1, 1, 1, 1, 0, 1, 1, 0, 1, 1, 0, 1, 0,\n",
              "       1, 1, 1, 1, 0, 1, 1, 0, 1, 1, 1, 1, 0, 0, 1, 1, 1, 1, 0, 1, 1, 1,\n",
              "       0, 0, 0, 1, 1, 1, 0, 0, 0, 0, 0, 0, 0, 0, 0, 0, 0, 1, 0, 0, 0, 0,\n",
              "       0, 0, 0, 0, 0, 1, 1, 0, 1, 1, 0, 1, 0, 0, 0, 0, 1, 1, 1, 1, 1, 1,\n",
              "       0, 1, 0, 1, 0, 1, 0, 0, 1, 0, 0, 1, 0, 1, 0, 1, 1, 1, 0, 0, 0, 1,\n",
              "       0, 1, 0, 0, 0, 0, 1, 0, 0, 0, 0, 0, 0, 0, 0, 0, 0, 0, 0, 1, 1, 0,\n",
              "       0, 0, 0, 0, 0, 0, 1, 1, 0, 1, 0, 1, 1, 1, 0, 0, 0, 1, 0, 1, 0, 0,\n",
              "       1, 0, 1, 0, 1, 1, 1, 1, 0, 1, 1, 1, 1, 1, 1, 1, 1, 0, 1, 1, 0, 1,\n",
              "       0, 1, 1, 0, 1, 0, 0, 0, 0, 0, 0, 1, 0, 0, 1, 1, 0, 0, 1, 0, 1, 1,\n",
              "       1, 1, 1, 1, 0, 0, 1, 0, 0, 1, 1, 1, 0, 0, 1, 0, 0, 0, 0, 0, 1, 1,\n",
              "       1, 1, 1, 1, 1, 1, 1, 1, 1, 1, 0, 1, 1, 0, 0, 0, 1, 1, 1, 1, 1, 1,\n",
              "       0, 1, 1, 0, 1, 1, 1, 1, 1, 0, 1, 0, 0, 1, 0, 0, 1, 1, 0, 1, 0, 0,\n",
              "       0, 0, 0, 1, 1, 1, 1, 0, 1, 0, 1, 0, 0, 0, 1, 1, 0, 1, 1, 1, 0, 0,\n",
              "       0, 1, 1, 1, 1, 1, 1, 0, 0, 1, 0, 1, 0, 1, 0, 1, 0, 0, 0, 0, 0, 1,\n",
              "       1, 0, 1, 0, 0, 0, 1, 1, 0, 1, 0, 1, 0, 0, 1, 1, 1, 0, 0, 0, 0, 0,\n",
              "       1, 1, 1, 0, 1, 1, 0, 0, 0, 0, 0, 0, 0, 0, 1, 1, 0, 0, 0, 1, 0, 0,\n",
              "       1, 1, 1, 0, 0, 1, 1, 1, 0, 0, 1, 1, 1, 1, 1, 0, 0, 0, 0, 0, 0, 0,\n",
              "       0, 0, 0, 1, 1, 0, 1, 0, 0, 0, 1, 0, 0, 1, 0, 0, 1, 1, 0, 1, 0, 1,\n",
              "       1, 1, 1, 1, 0, 1, 0, 0, 1, 0, 0, 0, 1, 1, 1, 0, 1, 0, 1, 1, 1, 1,\n",
              "       1, 0, 1, 1, 1, 1, 0, 1, 0, 1, 0, 1, 0, 0, 0, 0, 1, 0, 1, 0, 0, 1,\n",
              "       0, 0, 0, 0, 1, 1, 0, 1, 1, 0, 1, 1, 0, 0, 0, 1, 0, 0, 0, 1, 0, 1,\n",
              "       1, 1, 1, 1, 1, 1, 1, 0, 0, 1, 0, 0, 1, 1, 1, 0, 0, 0, 1, 0, 1, 1,\n",
              "       1, 1, 1, 1, 1, 1, 1, 0, 1, 0, 0, 0, 0, 0, 0, 0, 1, 0, 1, 0, 0, 1,\n",
              "       1, 0, 0, 1, 0, 0, 0, 0, 0, 0, 1, 0, 1, 1, 0, 0, 0, 1, 0, 1, 0, 1,\n",
              "       1, 1, 0, 0, 0, 0, 1, 0, 1, 1, 1, 1, 1, 0, 0, 0, 0, 1, 1, 0, 0, 0,\n",
              "       1, 0, 0, 1, 0, 1, 0, 0, 0, 0, 0, 1, 0, 1, 1, 1, 0, 0, 0, 1, 1, 1,\n",
              "       0, 0, 0, 0, 1, 0, 0, 1, 0, 0, 1, 0, 0, 1, 0, 1, 0, 0, 0, 0, 0, 0,\n",
              "       0, 0, 1, 0, 0, 0, 0, 0, 0, 0, 0, 0, 1, 0, 1, 0, 0, 0, 0, 0, 0, 0,\n",
              "       0, 0, 0, 0, 0, 0, 1, 0, 0, 0, 0, 0, 0, 1, 1, 0, 0, 0, 1, 0, 0, 1,\n",
              "       0, 1, 0, 0, 0, 0, 0, 0, 0, 1, 1, 0, 0, 0, 1, 1, 1, 1, 1, 1, 1, 0,\n",
              "       1, 0, 0, 0, 0, 1, 0, 1, 0, 0, 1, 1, 0, 0, 1, 0, 0, 0, 1, 0, 0, 1,\n",
              "       1, 1, 0, 0, 0, 0, 0, 0, 0, 0, 1, 1, 1, 1, 0, 1, 0, 0])"
            ]
          },
          "metadata": {
            "tags": []
          },
          "execution_count": 11
        }
      ]
    },
    {
      "cell_type": "code",
      "metadata": {
        "id": "tE_-pJgmwu8u"
      },
      "source": [
        "# create a Series in the original data frame that will contain the targets for the regression\n",
        "data_preprocessed['Excessive Absenteeism'] = targets"
      ],
      "execution_count": 12,
      "outputs": []
    },
    {
      "cell_type": "code",
      "metadata": {
        "colab": {
          "base_uri": "https://localhost:8080/",
          "height": 255
        },
        "id": "in5haD2ewu8v",
        "outputId": "57b67c88-8233-4f12-e1c4-05a7c33b2529"
      },
      "source": [
        "data_preprocessed.head()"
      ],
      "execution_count": 13,
      "outputs": [
        {
          "output_type": "execute_result",
          "data": {
            "text/html": [
              "<div>\n",
              "<style scoped>\n",
              "    .dataframe tbody tr th:only-of-type {\n",
              "        vertical-align: middle;\n",
              "    }\n",
              "\n",
              "    .dataframe tbody tr th {\n",
              "        vertical-align: top;\n",
              "    }\n",
              "\n",
              "    .dataframe thead th {\n",
              "        text-align: right;\n",
              "    }\n",
              "</style>\n",
              "<table border=\"1\" class=\"dataframe\">\n",
              "  <thead>\n",
              "    <tr style=\"text-align: right;\">\n",
              "      <th></th>\n",
              "      <th>Reason_1</th>\n",
              "      <th>Reason_2</th>\n",
              "      <th>Reason_3</th>\n",
              "      <th>Reason_4</th>\n",
              "      <th>Month Value</th>\n",
              "      <th>Day of the Week</th>\n",
              "      <th>Transportation Expense</th>\n",
              "      <th>Distance to Work</th>\n",
              "      <th>Age</th>\n",
              "      <th>Daily Work Load Average</th>\n",
              "      <th>Body Mass Index</th>\n",
              "      <th>Education</th>\n",
              "      <th>Children</th>\n",
              "      <th>Pet</th>\n",
              "      <th>Absenteeism Time in Hours</th>\n",
              "      <th>Excessive Absenteeism</th>\n",
              "    </tr>\n",
              "  </thead>\n",
              "  <tbody>\n",
              "    <tr>\n",
              "      <th>0</th>\n",
              "      <td>0</td>\n",
              "      <td>0</td>\n",
              "      <td>0</td>\n",
              "      <td>1</td>\n",
              "      <td>7</td>\n",
              "      <td>1</td>\n",
              "      <td>289</td>\n",
              "      <td>36</td>\n",
              "      <td>33</td>\n",
              "      <td>239.554</td>\n",
              "      <td>30</td>\n",
              "      <td>0</td>\n",
              "      <td>2</td>\n",
              "      <td>1</td>\n",
              "      <td>4</td>\n",
              "      <td>1</td>\n",
              "    </tr>\n",
              "    <tr>\n",
              "      <th>1</th>\n",
              "      <td>0</td>\n",
              "      <td>0</td>\n",
              "      <td>0</td>\n",
              "      <td>0</td>\n",
              "      <td>7</td>\n",
              "      <td>1</td>\n",
              "      <td>118</td>\n",
              "      <td>13</td>\n",
              "      <td>50</td>\n",
              "      <td>239.554</td>\n",
              "      <td>31</td>\n",
              "      <td>0</td>\n",
              "      <td>1</td>\n",
              "      <td>0</td>\n",
              "      <td>0</td>\n",
              "      <td>0</td>\n",
              "    </tr>\n",
              "    <tr>\n",
              "      <th>2</th>\n",
              "      <td>0</td>\n",
              "      <td>0</td>\n",
              "      <td>0</td>\n",
              "      <td>1</td>\n",
              "      <td>7</td>\n",
              "      <td>2</td>\n",
              "      <td>179</td>\n",
              "      <td>51</td>\n",
              "      <td>38</td>\n",
              "      <td>239.554</td>\n",
              "      <td>31</td>\n",
              "      <td>0</td>\n",
              "      <td>0</td>\n",
              "      <td>0</td>\n",
              "      <td>2</td>\n",
              "      <td>0</td>\n",
              "    </tr>\n",
              "    <tr>\n",
              "      <th>3</th>\n",
              "      <td>1</td>\n",
              "      <td>0</td>\n",
              "      <td>0</td>\n",
              "      <td>0</td>\n",
              "      <td>7</td>\n",
              "      <td>3</td>\n",
              "      <td>279</td>\n",
              "      <td>5</td>\n",
              "      <td>39</td>\n",
              "      <td>239.554</td>\n",
              "      <td>24</td>\n",
              "      <td>0</td>\n",
              "      <td>2</td>\n",
              "      <td>0</td>\n",
              "      <td>4</td>\n",
              "      <td>1</td>\n",
              "    </tr>\n",
              "    <tr>\n",
              "      <th>4</th>\n",
              "      <td>0</td>\n",
              "      <td>0</td>\n",
              "      <td>0</td>\n",
              "      <td>1</td>\n",
              "      <td>7</td>\n",
              "      <td>3</td>\n",
              "      <td>289</td>\n",
              "      <td>36</td>\n",
              "      <td>33</td>\n",
              "      <td>239.554</td>\n",
              "      <td>30</td>\n",
              "      <td>0</td>\n",
              "      <td>2</td>\n",
              "      <td>1</td>\n",
              "      <td>2</td>\n",
              "      <td>0</td>\n",
              "    </tr>\n",
              "  </tbody>\n",
              "</table>\n",
              "</div>"
            ],
            "text/plain": [
              "   Reason_1  Reason_2  ...  Absenteeism Time in Hours  Excessive Absenteeism\n",
              "0         0         0  ...                          4                      1\n",
              "1         0         0  ...                          0                      0\n",
              "2         0         0  ...                          2                      0\n",
              "3         1         0  ...                          4                      1\n",
              "4         0         0  ...                          2                      0\n",
              "\n",
              "[5 rows x 16 columns]"
            ]
          },
          "metadata": {
            "tags": []
          },
          "execution_count": 13
        }
      ]
    },
    {
      "cell_type": "markdown",
      "metadata": {
        "id": "KOdrojxtwu8w"
      },
      "source": [
        "## A comment on the targets"
      ]
    },
    {
      "cell_type": "code",
      "metadata": {
        "colab": {
          "base_uri": "https://localhost:8080/"
        },
        "id": "U3N2gaZowu8x",
        "outputId": "27651e1e-b0c4-4118-dbe0-d4ac69cdf1f3"
      },
      "source": [
        "# check if dataset is balanced (what % of targets are 1s)\n",
        "# targets.sum() will give us the number of 1s that there are\n",
        "# the shape[0] will give us the length of the targets array\n",
        "targets.sum() / targets.shape[0]"
      ],
      "execution_count": 14,
      "outputs": [
        {
          "output_type": "execute_result",
          "data": {
            "text/plain": [
              "0.45571428571428574"
            ]
          },
          "metadata": {
            "tags": []
          },
          "execution_count": 14
        }
      ]
    },
    {
      "cell_type": "code",
      "metadata": {
        "id": "Pwq4MCVjwu8y"
      },
      "source": [
        "# create a checkpoint by dropping the unnecessary variables\n",
        "# also drop the variables we 'eliminated' after exploring the weights\n",
        "data_with_targets = data_preprocessed.drop(['Absenteeism Time in Hours','Day of the Week',\n",
        "                                            'Daily Work Load Average','Distance to Work'],axis=1)"
      ],
      "execution_count": 15,
      "outputs": []
    },
    {
      "cell_type": "code",
      "metadata": {
        "colab": {
          "base_uri": "https://localhost:8080/"
        },
        "id": "q-RIacwLwu80",
        "outputId": "2d631ee4-1011-4be4-dfe4-7b053bd45da8"
      },
      "source": [
        "# check if the line above is a checkpoint \n",
        "\n",
        "# if data_with_targets is data_preprocessed = True, then the two are pointing to the same object\n",
        "# if it is False, then the two variables are completely different and this is in fact a checkpoint\n",
        "data_with_targets is data_preprocessed"
      ],
      "execution_count": 16,
      "outputs": [
        {
          "output_type": "execute_result",
          "data": {
            "text/plain": [
              "False"
            ]
          },
          "metadata": {
            "tags": []
          },
          "execution_count": 16
        }
      ]
    },
    {
      "cell_type": "code",
      "metadata": {
        "colab": {
          "base_uri": "https://localhost:8080/",
          "height": 204
        },
        "id": "8R7NKCEGwu81",
        "outputId": "e4f7bb75-3143-4ec6-95ec-55049464a5b6"
      },
      "source": [
        "# check what's inside\n",
        "data_with_targets.head()"
      ],
      "execution_count": 17,
      "outputs": [
        {
          "output_type": "execute_result",
          "data": {
            "text/html": [
              "<div>\n",
              "<style scoped>\n",
              "    .dataframe tbody tr th:only-of-type {\n",
              "        vertical-align: middle;\n",
              "    }\n",
              "\n",
              "    .dataframe tbody tr th {\n",
              "        vertical-align: top;\n",
              "    }\n",
              "\n",
              "    .dataframe thead th {\n",
              "        text-align: right;\n",
              "    }\n",
              "</style>\n",
              "<table border=\"1\" class=\"dataframe\">\n",
              "  <thead>\n",
              "    <tr style=\"text-align: right;\">\n",
              "      <th></th>\n",
              "      <th>Reason_1</th>\n",
              "      <th>Reason_2</th>\n",
              "      <th>Reason_3</th>\n",
              "      <th>Reason_4</th>\n",
              "      <th>Month Value</th>\n",
              "      <th>Transportation Expense</th>\n",
              "      <th>Age</th>\n",
              "      <th>Body Mass Index</th>\n",
              "      <th>Education</th>\n",
              "      <th>Children</th>\n",
              "      <th>Pet</th>\n",
              "      <th>Excessive Absenteeism</th>\n",
              "    </tr>\n",
              "  </thead>\n",
              "  <tbody>\n",
              "    <tr>\n",
              "      <th>0</th>\n",
              "      <td>0</td>\n",
              "      <td>0</td>\n",
              "      <td>0</td>\n",
              "      <td>1</td>\n",
              "      <td>7</td>\n",
              "      <td>289</td>\n",
              "      <td>33</td>\n",
              "      <td>30</td>\n",
              "      <td>0</td>\n",
              "      <td>2</td>\n",
              "      <td>1</td>\n",
              "      <td>1</td>\n",
              "    </tr>\n",
              "    <tr>\n",
              "      <th>1</th>\n",
              "      <td>0</td>\n",
              "      <td>0</td>\n",
              "      <td>0</td>\n",
              "      <td>0</td>\n",
              "      <td>7</td>\n",
              "      <td>118</td>\n",
              "      <td>50</td>\n",
              "      <td>31</td>\n",
              "      <td>0</td>\n",
              "      <td>1</td>\n",
              "      <td>0</td>\n",
              "      <td>0</td>\n",
              "    </tr>\n",
              "    <tr>\n",
              "      <th>2</th>\n",
              "      <td>0</td>\n",
              "      <td>0</td>\n",
              "      <td>0</td>\n",
              "      <td>1</td>\n",
              "      <td>7</td>\n",
              "      <td>179</td>\n",
              "      <td>38</td>\n",
              "      <td>31</td>\n",
              "      <td>0</td>\n",
              "      <td>0</td>\n",
              "      <td>0</td>\n",
              "      <td>0</td>\n",
              "    </tr>\n",
              "    <tr>\n",
              "      <th>3</th>\n",
              "      <td>1</td>\n",
              "      <td>0</td>\n",
              "      <td>0</td>\n",
              "      <td>0</td>\n",
              "      <td>7</td>\n",
              "      <td>279</td>\n",
              "      <td>39</td>\n",
              "      <td>24</td>\n",
              "      <td>0</td>\n",
              "      <td>2</td>\n",
              "      <td>0</td>\n",
              "      <td>1</td>\n",
              "    </tr>\n",
              "    <tr>\n",
              "      <th>4</th>\n",
              "      <td>0</td>\n",
              "      <td>0</td>\n",
              "      <td>0</td>\n",
              "      <td>1</td>\n",
              "      <td>7</td>\n",
              "      <td>289</td>\n",
              "      <td>33</td>\n",
              "      <td>30</td>\n",
              "      <td>0</td>\n",
              "      <td>2</td>\n",
              "      <td>1</td>\n",
              "      <td>0</td>\n",
              "    </tr>\n",
              "  </tbody>\n",
              "</table>\n",
              "</div>"
            ],
            "text/plain": [
              "   Reason_1  Reason_2  Reason_3  ...  Children  Pet  Excessive Absenteeism\n",
              "0         0         0         0  ...         2    1                      1\n",
              "1         0         0         0  ...         1    0                      0\n",
              "2         0         0         0  ...         0    0                      0\n",
              "3         1         0         0  ...         2    0                      1\n",
              "4         0         0         0  ...         2    1                      0\n",
              "\n",
              "[5 rows x 12 columns]"
            ]
          },
          "metadata": {
            "tags": []
          },
          "execution_count": 17
        }
      ]
    },
    {
      "cell_type": "markdown",
      "metadata": {
        "id": "-nlINk8Mwu82"
      },
      "source": [
        "## Select the inputs for the regression"
      ]
    },
    {
      "cell_type": "code",
      "metadata": {
        "colab": {
          "base_uri": "https://localhost:8080/"
        },
        "id": "yJy52DL4wu83",
        "outputId": "ea58170a-6bbe-43ba-a579-e76c2810f367"
      },
      "source": [
        "data_with_targets.shape"
      ],
      "execution_count": 18,
      "outputs": [
        {
          "output_type": "execute_result",
          "data": {
            "text/plain": [
              "(700, 12)"
            ]
          },
          "metadata": {
            "tags": []
          },
          "execution_count": 18
        }
      ]
    },
    {
      "cell_type": "code",
      "metadata": {
        "scrolled": true,
        "colab": {
          "base_uri": "https://localhost:8080/",
          "height": 419
        },
        "id": "qHdS3g2hwu84",
        "outputId": "ce40d6e5-4c05-402d-808d-f569a524e46f"
      },
      "source": [
        "# Selects all rows and all columns until 14 (excluding)\n",
        "data_with_targets.iloc[:,:14]"
      ],
      "execution_count": 19,
      "outputs": [
        {
          "output_type": "execute_result",
          "data": {
            "text/html": [
              "<div>\n",
              "<style scoped>\n",
              "    .dataframe tbody tr th:only-of-type {\n",
              "        vertical-align: middle;\n",
              "    }\n",
              "\n",
              "    .dataframe tbody tr th {\n",
              "        vertical-align: top;\n",
              "    }\n",
              "\n",
              "    .dataframe thead th {\n",
              "        text-align: right;\n",
              "    }\n",
              "</style>\n",
              "<table border=\"1\" class=\"dataframe\">\n",
              "  <thead>\n",
              "    <tr style=\"text-align: right;\">\n",
              "      <th></th>\n",
              "      <th>Reason_1</th>\n",
              "      <th>Reason_2</th>\n",
              "      <th>Reason_3</th>\n",
              "      <th>Reason_4</th>\n",
              "      <th>Month Value</th>\n",
              "      <th>Transportation Expense</th>\n",
              "      <th>Age</th>\n",
              "      <th>Body Mass Index</th>\n",
              "      <th>Education</th>\n",
              "      <th>Children</th>\n",
              "      <th>Pet</th>\n",
              "      <th>Excessive Absenteeism</th>\n",
              "    </tr>\n",
              "  </thead>\n",
              "  <tbody>\n",
              "    <tr>\n",
              "      <th>0</th>\n",
              "      <td>0</td>\n",
              "      <td>0</td>\n",
              "      <td>0</td>\n",
              "      <td>1</td>\n",
              "      <td>7</td>\n",
              "      <td>289</td>\n",
              "      <td>33</td>\n",
              "      <td>30</td>\n",
              "      <td>0</td>\n",
              "      <td>2</td>\n",
              "      <td>1</td>\n",
              "      <td>1</td>\n",
              "    </tr>\n",
              "    <tr>\n",
              "      <th>1</th>\n",
              "      <td>0</td>\n",
              "      <td>0</td>\n",
              "      <td>0</td>\n",
              "      <td>0</td>\n",
              "      <td>7</td>\n",
              "      <td>118</td>\n",
              "      <td>50</td>\n",
              "      <td>31</td>\n",
              "      <td>0</td>\n",
              "      <td>1</td>\n",
              "      <td>0</td>\n",
              "      <td>0</td>\n",
              "    </tr>\n",
              "    <tr>\n",
              "      <th>2</th>\n",
              "      <td>0</td>\n",
              "      <td>0</td>\n",
              "      <td>0</td>\n",
              "      <td>1</td>\n",
              "      <td>7</td>\n",
              "      <td>179</td>\n",
              "      <td>38</td>\n",
              "      <td>31</td>\n",
              "      <td>0</td>\n",
              "      <td>0</td>\n",
              "      <td>0</td>\n",
              "      <td>0</td>\n",
              "    </tr>\n",
              "    <tr>\n",
              "      <th>3</th>\n",
              "      <td>1</td>\n",
              "      <td>0</td>\n",
              "      <td>0</td>\n",
              "      <td>0</td>\n",
              "      <td>7</td>\n",
              "      <td>279</td>\n",
              "      <td>39</td>\n",
              "      <td>24</td>\n",
              "      <td>0</td>\n",
              "      <td>2</td>\n",
              "      <td>0</td>\n",
              "      <td>1</td>\n",
              "    </tr>\n",
              "    <tr>\n",
              "      <th>4</th>\n",
              "      <td>0</td>\n",
              "      <td>0</td>\n",
              "      <td>0</td>\n",
              "      <td>1</td>\n",
              "      <td>7</td>\n",
              "      <td>289</td>\n",
              "      <td>33</td>\n",
              "      <td>30</td>\n",
              "      <td>0</td>\n",
              "      <td>2</td>\n",
              "      <td>1</td>\n",
              "      <td>0</td>\n",
              "    </tr>\n",
              "    <tr>\n",
              "      <th>...</th>\n",
              "      <td>...</td>\n",
              "      <td>...</td>\n",
              "      <td>...</td>\n",
              "      <td>...</td>\n",
              "      <td>...</td>\n",
              "      <td>...</td>\n",
              "      <td>...</td>\n",
              "      <td>...</td>\n",
              "      <td>...</td>\n",
              "      <td>...</td>\n",
              "      <td>...</td>\n",
              "      <td>...</td>\n",
              "    </tr>\n",
              "    <tr>\n",
              "      <th>695</th>\n",
              "      <td>1</td>\n",
              "      <td>0</td>\n",
              "      <td>0</td>\n",
              "      <td>0</td>\n",
              "      <td>5</td>\n",
              "      <td>179</td>\n",
              "      <td>40</td>\n",
              "      <td>22</td>\n",
              "      <td>1</td>\n",
              "      <td>2</td>\n",
              "      <td>0</td>\n",
              "      <td>1</td>\n",
              "    </tr>\n",
              "    <tr>\n",
              "      <th>696</th>\n",
              "      <td>1</td>\n",
              "      <td>0</td>\n",
              "      <td>0</td>\n",
              "      <td>0</td>\n",
              "      <td>5</td>\n",
              "      <td>225</td>\n",
              "      <td>28</td>\n",
              "      <td>24</td>\n",
              "      <td>0</td>\n",
              "      <td>1</td>\n",
              "      <td>2</td>\n",
              "      <td>0</td>\n",
              "    </tr>\n",
              "    <tr>\n",
              "      <th>697</th>\n",
              "      <td>1</td>\n",
              "      <td>0</td>\n",
              "      <td>0</td>\n",
              "      <td>0</td>\n",
              "      <td>5</td>\n",
              "      <td>330</td>\n",
              "      <td>28</td>\n",
              "      <td>25</td>\n",
              "      <td>1</td>\n",
              "      <td>0</td>\n",
              "      <td>0</td>\n",
              "      <td>1</td>\n",
              "    </tr>\n",
              "    <tr>\n",
              "      <th>698</th>\n",
              "      <td>0</td>\n",
              "      <td>0</td>\n",
              "      <td>0</td>\n",
              "      <td>1</td>\n",
              "      <td>5</td>\n",
              "      <td>235</td>\n",
              "      <td>32</td>\n",
              "      <td>25</td>\n",
              "      <td>1</td>\n",
              "      <td>0</td>\n",
              "      <td>0</td>\n",
              "      <td>0</td>\n",
              "    </tr>\n",
              "    <tr>\n",
              "      <th>699</th>\n",
              "      <td>0</td>\n",
              "      <td>0</td>\n",
              "      <td>0</td>\n",
              "      <td>1</td>\n",
              "      <td>5</td>\n",
              "      <td>291</td>\n",
              "      <td>40</td>\n",
              "      <td>25</td>\n",
              "      <td>0</td>\n",
              "      <td>1</td>\n",
              "      <td>1</td>\n",
              "      <td>0</td>\n",
              "    </tr>\n",
              "  </tbody>\n",
              "</table>\n",
              "<p>700 rows × 12 columns</p>\n",
              "</div>"
            ],
            "text/plain": [
              "     Reason_1  Reason_2  Reason_3  ...  Children  Pet  Excessive Absenteeism\n",
              "0           0         0         0  ...         2    1                      1\n",
              "1           0         0         0  ...         1    0                      0\n",
              "2           0         0         0  ...         0    0                      0\n",
              "3           1         0         0  ...         2    0                      1\n",
              "4           0         0         0  ...         2    1                      0\n",
              "..        ...       ...       ...  ...       ...  ...                    ...\n",
              "695         1         0         0  ...         2    0                      1\n",
              "696         1         0         0  ...         1    2                      0\n",
              "697         1         0         0  ...         0    0                      1\n",
              "698         0         0         0  ...         0    0                      0\n",
              "699         0         0         0  ...         1    1                      0\n",
              "\n",
              "[700 rows x 12 columns]"
            ]
          },
          "metadata": {
            "tags": []
          },
          "execution_count": 19
        }
      ]
    },
    {
      "cell_type": "code",
      "metadata": {
        "scrolled": true,
        "colab": {
          "base_uri": "https://localhost:8080/",
          "height": 419
        },
        "id": "9ulSsSiCwu85",
        "outputId": "6e44b897-bc89-435f-a347-2c36df33fc82"
      },
      "source": [
        "# Selects all rows and all columns but the last one (basically the same operation)\n",
        "data_with_targets.iloc[:,:-1]"
      ],
      "execution_count": 20,
      "outputs": [
        {
          "output_type": "execute_result",
          "data": {
            "text/html": [
              "<div>\n",
              "<style scoped>\n",
              "    .dataframe tbody tr th:only-of-type {\n",
              "        vertical-align: middle;\n",
              "    }\n",
              "\n",
              "    .dataframe tbody tr th {\n",
              "        vertical-align: top;\n",
              "    }\n",
              "\n",
              "    .dataframe thead th {\n",
              "        text-align: right;\n",
              "    }\n",
              "</style>\n",
              "<table border=\"1\" class=\"dataframe\">\n",
              "  <thead>\n",
              "    <tr style=\"text-align: right;\">\n",
              "      <th></th>\n",
              "      <th>Reason_1</th>\n",
              "      <th>Reason_2</th>\n",
              "      <th>Reason_3</th>\n",
              "      <th>Reason_4</th>\n",
              "      <th>Month Value</th>\n",
              "      <th>Transportation Expense</th>\n",
              "      <th>Age</th>\n",
              "      <th>Body Mass Index</th>\n",
              "      <th>Education</th>\n",
              "      <th>Children</th>\n",
              "      <th>Pet</th>\n",
              "    </tr>\n",
              "  </thead>\n",
              "  <tbody>\n",
              "    <tr>\n",
              "      <th>0</th>\n",
              "      <td>0</td>\n",
              "      <td>0</td>\n",
              "      <td>0</td>\n",
              "      <td>1</td>\n",
              "      <td>7</td>\n",
              "      <td>289</td>\n",
              "      <td>33</td>\n",
              "      <td>30</td>\n",
              "      <td>0</td>\n",
              "      <td>2</td>\n",
              "      <td>1</td>\n",
              "    </tr>\n",
              "    <tr>\n",
              "      <th>1</th>\n",
              "      <td>0</td>\n",
              "      <td>0</td>\n",
              "      <td>0</td>\n",
              "      <td>0</td>\n",
              "      <td>7</td>\n",
              "      <td>118</td>\n",
              "      <td>50</td>\n",
              "      <td>31</td>\n",
              "      <td>0</td>\n",
              "      <td>1</td>\n",
              "      <td>0</td>\n",
              "    </tr>\n",
              "    <tr>\n",
              "      <th>2</th>\n",
              "      <td>0</td>\n",
              "      <td>0</td>\n",
              "      <td>0</td>\n",
              "      <td>1</td>\n",
              "      <td>7</td>\n",
              "      <td>179</td>\n",
              "      <td>38</td>\n",
              "      <td>31</td>\n",
              "      <td>0</td>\n",
              "      <td>0</td>\n",
              "      <td>0</td>\n",
              "    </tr>\n",
              "    <tr>\n",
              "      <th>3</th>\n",
              "      <td>1</td>\n",
              "      <td>0</td>\n",
              "      <td>0</td>\n",
              "      <td>0</td>\n",
              "      <td>7</td>\n",
              "      <td>279</td>\n",
              "      <td>39</td>\n",
              "      <td>24</td>\n",
              "      <td>0</td>\n",
              "      <td>2</td>\n",
              "      <td>0</td>\n",
              "    </tr>\n",
              "    <tr>\n",
              "      <th>4</th>\n",
              "      <td>0</td>\n",
              "      <td>0</td>\n",
              "      <td>0</td>\n",
              "      <td>1</td>\n",
              "      <td>7</td>\n",
              "      <td>289</td>\n",
              "      <td>33</td>\n",
              "      <td>30</td>\n",
              "      <td>0</td>\n",
              "      <td>2</td>\n",
              "      <td>1</td>\n",
              "    </tr>\n",
              "    <tr>\n",
              "      <th>...</th>\n",
              "      <td>...</td>\n",
              "      <td>...</td>\n",
              "      <td>...</td>\n",
              "      <td>...</td>\n",
              "      <td>...</td>\n",
              "      <td>...</td>\n",
              "      <td>...</td>\n",
              "      <td>...</td>\n",
              "      <td>...</td>\n",
              "      <td>...</td>\n",
              "      <td>...</td>\n",
              "    </tr>\n",
              "    <tr>\n",
              "      <th>695</th>\n",
              "      <td>1</td>\n",
              "      <td>0</td>\n",
              "      <td>0</td>\n",
              "      <td>0</td>\n",
              "      <td>5</td>\n",
              "      <td>179</td>\n",
              "      <td>40</td>\n",
              "      <td>22</td>\n",
              "      <td>1</td>\n",
              "      <td>2</td>\n",
              "      <td>0</td>\n",
              "    </tr>\n",
              "    <tr>\n",
              "      <th>696</th>\n",
              "      <td>1</td>\n",
              "      <td>0</td>\n",
              "      <td>0</td>\n",
              "      <td>0</td>\n",
              "      <td>5</td>\n",
              "      <td>225</td>\n",
              "      <td>28</td>\n",
              "      <td>24</td>\n",
              "      <td>0</td>\n",
              "      <td>1</td>\n",
              "      <td>2</td>\n",
              "    </tr>\n",
              "    <tr>\n",
              "      <th>697</th>\n",
              "      <td>1</td>\n",
              "      <td>0</td>\n",
              "      <td>0</td>\n",
              "      <td>0</td>\n",
              "      <td>5</td>\n",
              "      <td>330</td>\n",
              "      <td>28</td>\n",
              "      <td>25</td>\n",
              "      <td>1</td>\n",
              "      <td>0</td>\n",
              "      <td>0</td>\n",
              "    </tr>\n",
              "    <tr>\n",
              "      <th>698</th>\n",
              "      <td>0</td>\n",
              "      <td>0</td>\n",
              "      <td>0</td>\n",
              "      <td>1</td>\n",
              "      <td>5</td>\n",
              "      <td>235</td>\n",
              "      <td>32</td>\n",
              "      <td>25</td>\n",
              "      <td>1</td>\n",
              "      <td>0</td>\n",
              "      <td>0</td>\n",
              "    </tr>\n",
              "    <tr>\n",
              "      <th>699</th>\n",
              "      <td>0</td>\n",
              "      <td>0</td>\n",
              "      <td>0</td>\n",
              "      <td>1</td>\n",
              "      <td>5</td>\n",
              "      <td>291</td>\n",
              "      <td>40</td>\n",
              "      <td>25</td>\n",
              "      <td>0</td>\n",
              "      <td>1</td>\n",
              "      <td>1</td>\n",
              "    </tr>\n",
              "  </tbody>\n",
              "</table>\n",
              "<p>700 rows × 11 columns</p>\n",
              "</div>"
            ],
            "text/plain": [
              "     Reason_1  Reason_2  Reason_3  ...  Education  Children  Pet\n",
              "0           0         0         0  ...          0         2    1\n",
              "1           0         0         0  ...          0         1    0\n",
              "2           0         0         0  ...          0         0    0\n",
              "3           1         0         0  ...          0         2    0\n",
              "4           0         0         0  ...          0         2    1\n",
              "..        ...       ...       ...  ...        ...       ...  ...\n",
              "695         1         0         0  ...          1         2    0\n",
              "696         1         0         0  ...          0         1    2\n",
              "697         1         0         0  ...          1         0    0\n",
              "698         0         0         0  ...          1         0    0\n",
              "699         0         0         0  ...          0         1    1\n",
              "\n",
              "[700 rows x 11 columns]"
            ]
          },
          "metadata": {
            "tags": []
          },
          "execution_count": 20
        }
      ]
    },
    {
      "cell_type": "code",
      "metadata": {
        "id": "psTolp98wu86"
      },
      "source": [
        "# Create a variable that will contain the inputs (everything without the targets)\n",
        "unscaled_inputs = data_with_targets.iloc[:,:-1]"
      ],
      "execution_count": 21,
      "outputs": []
    },
    {
      "cell_type": "markdown",
      "metadata": {
        "id": "_CE8QnlRwu86"
      },
      "source": [
        "## Standardize the data"
      ]
    },
    {
      "cell_type": "code",
      "metadata": {
        "id": "od__7LRzwu87"
      },
      "source": [
        "# standardize the inputs\n",
        "\n",
        "# standardization is one of the most common preprocessing tools\n",
        "# since data of different magnitude (scale) can be biased towards high values,\n",
        "# we want all inputs to be of similar magnitude\n",
        "# this is a peculiarity of machine learning in general - most (but not all) algorithms do badly with unscaled data\n",
        "\n",
        "# a very useful module we can use is StandardScaler \n",
        "# it has much more capabilities than the straightforward 'preprocessing' method\n",
        "from sklearn.preprocessing import StandardScaler\n",
        "\n",
        "\n",
        "# we will create a variable that will contain the scaling information for this particular dataset\n",
        "# here's the full documentation: http://scikit-learn.org/stable/modules/generated/sklearn.preprocessing.StandardScaler.html\n",
        "\n",
        "# define scaler as an object\n",
        "absenteeism_scaler = StandardScaler()"
      ],
      "execution_count": 22,
      "outputs": []
    },
    {
      "cell_type": "code",
      "metadata": {
        "id": "KNd-ef6Awu89"
      },
      "source": [
        "# import the libraries needed to create the Custom Scaler\n",
        "# note that all of them are a part of the sklearn package\n",
        "# moreover, one of them is actually the StandardScaler module, \n",
        "# so you can imagine that the Custom Scaler is build on it\n",
        "\n",
        "from sklearn.base import BaseEstimator, TransformerMixin\n",
        "from sklearn.preprocessing import StandardScaler\n",
        "\n",
        "# create the Custom Scaler class\n",
        "\n",
        "class CustomScaler(BaseEstimator,TransformerMixin): \n",
        "    \n",
        "    # init or what information we need to declare a CustomScaler object\n",
        "    # and what is calculated/declared as we do\n",
        "    \n",
        "    def __init__(self,columns,copy=True,with_mean=True,with_std=True):\n",
        "        \n",
        "        # scaler is nothing but a Standard Scaler object\n",
        "        self.scaler = StandardScaler(copy,with_mean,with_std)\n",
        "        # with some columns 'twist'\n",
        "        self.columns = columns\n",
        "        self.mean_ = None\n",
        "        self.var_ = None\n",
        "        \n",
        "    \n",
        "    # the fit method, which, again based on StandardScale\n",
        "    \n",
        "    def fit(self, X, y=None):\n",
        "        self.scaler.fit(X[self.columns], y)\n",
        "        self.mean_ = np.mean(X[self.columns])\n",
        "        self.var_ = np.var(X[self.columns])\n",
        "        return self\n",
        "    \n",
        "    # the transform method which does the actual scaling\n",
        "\n",
        "    def transform(self, X, y=None, copy=None):\n",
        "        \n",
        "        # record the initial order of the columns\n",
        "        init_col_order = X.columns\n",
        "        \n",
        "        # scale all features that you chose when creating the instance of the class\n",
        "        X_scaled = pd.DataFrame(self.scaler.transform(X[self.columns]), columns=self.columns)\n",
        "        \n",
        "        # declare a variable containing all information that was not scaled\n",
        "        X_not_scaled = X.loc[:,~X.columns.isin(self.columns)]\n",
        "        \n",
        "        # return a data frame which contains all scaled features and all 'not scaled' features\n",
        "        # use the original order (that you recorded in the beginning)\n",
        "        return pd.concat([X_not_scaled, X_scaled], axis=1)[init_col_order]"
      ],
      "execution_count": 23,
      "outputs": []
    },
    {
      "cell_type": "code",
      "metadata": {
        "colab": {
          "base_uri": "https://localhost:8080/"
        },
        "id": "f_WTkFwewu9A",
        "outputId": "bf7b1443-2f22-42ca-d62b-3d7163cf81c8"
      },
      "source": [
        "# check what are all columns that we've got\n",
        "unscaled_inputs.columns.values"
      ],
      "execution_count": 24,
      "outputs": [
        {
          "output_type": "execute_result",
          "data": {
            "text/plain": [
              "array(['Reason_1', 'Reason_2', 'Reason_3', 'Reason_4', 'Month Value',\n",
              "       'Transportation Expense', 'Age', 'Body Mass Index', 'Education',\n",
              "       'Children', 'Pet'], dtype=object)"
            ]
          },
          "metadata": {
            "tags": []
          },
          "execution_count": 24
        }
      ]
    },
    {
      "cell_type": "code",
      "metadata": {
        "id": "60wmtEdHwu9B"
      },
      "source": [
        "# choose the columns to scale\n",
        "# we later augmented this code and put it in comments\n",
        "# columns_to_scale = ['Month Value','Day of the Week', 'Transportation Expense', 'Distance to Work',\n",
        "       #'Age', 'Daily Work Load Average', 'Body Mass Index', 'Children', 'Pet']\n",
        "    \n",
        "# select the columns to omit\n",
        "columns_to_omit = ['Reason_1', 'Reason_2', 'Reason_3', 'Reason_4','Education']"
      ],
      "execution_count": 25,
      "outputs": []
    },
    {
      "cell_type": "code",
      "metadata": {
        "id": "l8TK_uncwu9C"
      },
      "source": [
        "# create the columns to scale, based on the columns to omit\n",
        "# use list comprehension to iterate over the list\n",
        "columns_to_scale = [x for x in unscaled_inputs.columns.values if x not in columns_to_omit]"
      ],
      "execution_count": 26,
      "outputs": []
    },
    {
      "cell_type": "code",
      "metadata": {
        "id": "y2WWh_sYwu9D"
      },
      "source": [
        "# declare a scaler object, specifying the columns you want to scale\n",
        "absenteeism_scaler = CustomScaler(columns_to_scale)"
      ],
      "execution_count": 27,
      "outputs": []
    },
    {
      "cell_type": "code",
      "metadata": {
        "colab": {
          "base_uri": "https://localhost:8080/"
        },
        "id": "cnIXqYfiwu9E",
        "outputId": "3d33e2ea-7e19-4fa3-e707-e3266f8df31a"
      },
      "source": [
        "# fit the data (calculate mean and standard deviation); they are automatically stored inside the object \n",
        "absenteeism_scaler.fit(unscaled_inputs)"
      ],
      "execution_count": 28,
      "outputs": [
        {
          "output_type": "stream",
          "text": [
            "/usr/local/lib/python3.7/dist-packages/sklearn/base.py:197: FutureWarning: From version 0.24, get_params will raise an AttributeError if a parameter cannot be retrieved as an instance attribute. Previously it would return None.\n",
            "  FutureWarning)\n"
          ],
          "name": "stderr"
        },
        {
          "output_type": "execute_result",
          "data": {
            "text/plain": [
              "CustomScaler(columns=['Month Value', 'Transportation Expense', 'Age',\n",
              "                      'Body Mass Index', 'Children', 'Pet'],\n",
              "             copy=None, with_mean=None, with_std=None)"
            ]
          },
          "metadata": {
            "tags": []
          },
          "execution_count": 28
        }
      ]
    },
    {
      "cell_type": "code",
      "metadata": {
        "id": "PG1GkhIRwu9F"
      },
      "source": [
        "# standardizes the data, using the transform method \n",
        "# in the last line, we fitted the data - in other words\n",
        "# we found the internal parameters of a model that will be used to transform data. \n",
        "# transforming applies these parameters to our data\n",
        "# note that when you get new data, you can just call 'scaler' again and transform it in the same way as now\n",
        "scaled_inputs = absenteeism_scaler.transform(unscaled_inputs)"
      ],
      "execution_count": 29,
      "outputs": []
    },
    {
      "cell_type": "code",
      "metadata": {
        "scrolled": true,
        "colab": {
          "base_uri": "https://localhost:8080/",
          "height": 419
        },
        "id": "5hnZCtcFwu9H",
        "outputId": "99041498-3e62-4d05-aac8-bd701b5c402b"
      },
      "source": [
        "# the scaled_inputs are now an ndarray, because sklearn works with ndarrays\n",
        "scaled_inputs"
      ],
      "execution_count": 30,
      "outputs": [
        {
          "output_type": "execute_result",
          "data": {
            "text/html": [
              "<div>\n",
              "<style scoped>\n",
              "    .dataframe tbody tr th:only-of-type {\n",
              "        vertical-align: middle;\n",
              "    }\n",
              "\n",
              "    .dataframe tbody tr th {\n",
              "        vertical-align: top;\n",
              "    }\n",
              "\n",
              "    .dataframe thead th {\n",
              "        text-align: right;\n",
              "    }\n",
              "</style>\n",
              "<table border=\"1\" class=\"dataframe\">\n",
              "  <thead>\n",
              "    <tr style=\"text-align: right;\">\n",
              "      <th></th>\n",
              "      <th>Reason_1</th>\n",
              "      <th>Reason_2</th>\n",
              "      <th>Reason_3</th>\n",
              "      <th>Reason_4</th>\n",
              "      <th>Month Value</th>\n",
              "      <th>Transportation Expense</th>\n",
              "      <th>Age</th>\n",
              "      <th>Body Mass Index</th>\n",
              "      <th>Education</th>\n",
              "      <th>Children</th>\n",
              "      <th>Pet</th>\n",
              "    </tr>\n",
              "  </thead>\n",
              "  <tbody>\n",
              "    <tr>\n",
              "      <th>0</th>\n",
              "      <td>0</td>\n",
              "      <td>0</td>\n",
              "      <td>0</td>\n",
              "      <td>1</td>\n",
              "      <td>0.030796</td>\n",
              "      <td>1.005844</td>\n",
              "      <td>-0.536062</td>\n",
              "      <td>0.767431</td>\n",
              "      <td>0</td>\n",
              "      <td>0.880469</td>\n",
              "      <td>0.268487</td>\n",
              "    </tr>\n",
              "    <tr>\n",
              "      <th>1</th>\n",
              "      <td>0</td>\n",
              "      <td>0</td>\n",
              "      <td>0</td>\n",
              "      <td>0</td>\n",
              "      <td>0.030796</td>\n",
              "      <td>-1.574681</td>\n",
              "      <td>2.130803</td>\n",
              "      <td>1.002633</td>\n",
              "      <td>0</td>\n",
              "      <td>-0.019280</td>\n",
              "      <td>-0.589690</td>\n",
              "    </tr>\n",
              "    <tr>\n",
              "      <th>2</th>\n",
              "      <td>0</td>\n",
              "      <td>0</td>\n",
              "      <td>0</td>\n",
              "      <td>1</td>\n",
              "      <td>0.030796</td>\n",
              "      <td>-0.654143</td>\n",
              "      <td>0.248310</td>\n",
              "      <td>1.002633</td>\n",
              "      <td>0</td>\n",
              "      <td>-0.919030</td>\n",
              "      <td>-0.589690</td>\n",
              "    </tr>\n",
              "    <tr>\n",
              "      <th>3</th>\n",
              "      <td>1</td>\n",
              "      <td>0</td>\n",
              "      <td>0</td>\n",
              "      <td>0</td>\n",
              "      <td>0.030796</td>\n",
              "      <td>0.854936</td>\n",
              "      <td>0.405184</td>\n",
              "      <td>-0.643782</td>\n",
              "      <td>0</td>\n",
              "      <td>0.880469</td>\n",
              "      <td>-0.589690</td>\n",
              "    </tr>\n",
              "    <tr>\n",
              "      <th>4</th>\n",
              "      <td>0</td>\n",
              "      <td>0</td>\n",
              "      <td>0</td>\n",
              "      <td>1</td>\n",
              "      <td>0.030796</td>\n",
              "      <td>1.005844</td>\n",
              "      <td>-0.536062</td>\n",
              "      <td>0.767431</td>\n",
              "      <td>0</td>\n",
              "      <td>0.880469</td>\n",
              "      <td>0.268487</td>\n",
              "    </tr>\n",
              "    <tr>\n",
              "      <th>...</th>\n",
              "      <td>...</td>\n",
              "      <td>...</td>\n",
              "      <td>...</td>\n",
              "      <td>...</td>\n",
              "      <td>...</td>\n",
              "      <td>...</td>\n",
              "      <td>...</td>\n",
              "      <td>...</td>\n",
              "      <td>...</td>\n",
              "      <td>...</td>\n",
              "      <td>...</td>\n",
              "    </tr>\n",
              "    <tr>\n",
              "      <th>695</th>\n",
              "      <td>1</td>\n",
              "      <td>0</td>\n",
              "      <td>0</td>\n",
              "      <td>0</td>\n",
              "      <td>-0.568019</td>\n",
              "      <td>-0.654143</td>\n",
              "      <td>0.562059</td>\n",
              "      <td>-1.114186</td>\n",
              "      <td>1</td>\n",
              "      <td>0.880469</td>\n",
              "      <td>-0.589690</td>\n",
              "    </tr>\n",
              "    <tr>\n",
              "      <th>696</th>\n",
              "      <td>1</td>\n",
              "      <td>0</td>\n",
              "      <td>0</td>\n",
              "      <td>0</td>\n",
              "      <td>-0.568019</td>\n",
              "      <td>0.040034</td>\n",
              "      <td>-1.320435</td>\n",
              "      <td>-0.643782</td>\n",
              "      <td>0</td>\n",
              "      <td>-0.019280</td>\n",
              "      <td>1.126663</td>\n",
              "    </tr>\n",
              "    <tr>\n",
              "      <th>697</th>\n",
              "      <td>1</td>\n",
              "      <td>0</td>\n",
              "      <td>0</td>\n",
              "      <td>0</td>\n",
              "      <td>-0.568019</td>\n",
              "      <td>1.624567</td>\n",
              "      <td>-1.320435</td>\n",
              "      <td>-0.408580</td>\n",
              "      <td>1</td>\n",
              "      <td>-0.919030</td>\n",
              "      <td>-0.589690</td>\n",
              "    </tr>\n",
              "    <tr>\n",
              "      <th>698</th>\n",
              "      <td>0</td>\n",
              "      <td>0</td>\n",
              "      <td>0</td>\n",
              "      <td>1</td>\n",
              "      <td>-0.568019</td>\n",
              "      <td>0.190942</td>\n",
              "      <td>-0.692937</td>\n",
              "      <td>-0.408580</td>\n",
              "      <td>1</td>\n",
              "      <td>-0.919030</td>\n",
              "      <td>-0.589690</td>\n",
              "    </tr>\n",
              "    <tr>\n",
              "      <th>699</th>\n",
              "      <td>0</td>\n",
              "      <td>0</td>\n",
              "      <td>0</td>\n",
              "      <td>1</td>\n",
              "      <td>-0.568019</td>\n",
              "      <td>1.036026</td>\n",
              "      <td>0.562059</td>\n",
              "      <td>-0.408580</td>\n",
              "      <td>0</td>\n",
              "      <td>-0.019280</td>\n",
              "      <td>0.268487</td>\n",
              "    </tr>\n",
              "  </tbody>\n",
              "</table>\n",
              "<p>700 rows × 11 columns</p>\n",
              "</div>"
            ],
            "text/plain": [
              "     Reason_1  Reason_2  Reason_3  ...  Education  Children       Pet\n",
              "0           0         0         0  ...          0  0.880469  0.268487\n",
              "1           0         0         0  ...          0 -0.019280 -0.589690\n",
              "2           0         0         0  ...          0 -0.919030 -0.589690\n",
              "3           1         0         0  ...          0  0.880469 -0.589690\n",
              "4           0         0         0  ...          0  0.880469  0.268487\n",
              "..        ...       ...       ...  ...        ...       ...       ...\n",
              "695         1         0         0  ...          1  0.880469 -0.589690\n",
              "696         1         0         0  ...          0 -0.019280  1.126663\n",
              "697         1         0         0  ...          1 -0.919030 -0.589690\n",
              "698         0         0         0  ...          1 -0.919030 -0.589690\n",
              "699         0         0         0  ...          0 -0.019280  0.268487\n",
              "\n",
              "[700 rows x 11 columns]"
            ]
          },
          "metadata": {
            "tags": []
          },
          "execution_count": 30
        }
      ]
    },
    {
      "cell_type": "code",
      "metadata": {
        "colab": {
          "base_uri": "https://localhost:8080/"
        },
        "id": "3NIc5Sjcwu9I",
        "outputId": "c67a7d31-0f67-4692-a33f-1799e899f29d"
      },
      "source": [
        "# check the shape of the inputs\n",
        "scaled_inputs.shape"
      ],
      "execution_count": 31,
      "outputs": [
        {
          "output_type": "execute_result",
          "data": {
            "text/plain": [
              "(700, 11)"
            ]
          },
          "metadata": {
            "tags": []
          },
          "execution_count": 31
        }
      ]
    },
    {
      "cell_type": "markdown",
      "metadata": {
        "id": "3eP_W8N3wu9I"
      },
      "source": [
        "## Split the data into train & test and shuffle"
      ]
    },
    {
      "cell_type": "markdown",
      "metadata": {
        "id": "ke7oI4LWwu9J"
      },
      "source": [
        "### Import the relevant module"
      ]
    },
    {
      "cell_type": "code",
      "metadata": {
        "id": "RKuGY17Zwu9K"
      },
      "source": [
        "# import train_test_split so we can split our data into train and test\n",
        "from sklearn.model_selection import train_test_split"
      ],
      "execution_count": 32,
      "outputs": []
    },
    {
      "cell_type": "markdown",
      "metadata": {
        "id": "Ayw0NJ5swu9L"
      },
      "source": [
        "### Split"
      ]
    },
    {
      "cell_type": "code",
      "metadata": {
        "scrolled": true,
        "colab": {
          "base_uri": "https://localhost:8080/"
        },
        "id": "awGtRpFUwu9L",
        "outputId": "0c9cb9a6-ffa8-4ee6-c8b6-215a87060e80"
      },
      "source": [
        "# check how this method works\n",
        "train_test_split(scaled_inputs, targets)"
      ],
      "execution_count": 33,
      "outputs": [
        {
          "output_type": "execute_result",
          "data": {
            "text/plain": [
              "[     Reason_1  Reason_2  Reason_3  ...  Education  Children       Pet\n",
              " 669         0         0         0  ...          1 -0.919030 -0.589690\n",
              " 3           1         0         0  ...          0  0.880469 -0.589690\n",
              " 100         0         0         0  ...          0 -0.019280 -0.589690\n",
              " 12          1         0         0  ...          0  2.679969 -0.589690\n",
              " 87          1         0         0  ...          0 -0.019280  0.268487\n",
              " ..        ...       ...       ...  ...        ...       ...       ...\n",
              " 318         0         0         0  ...          0  0.880469  0.268487\n",
              " 54          0         0         0  ...          0  0.880469  0.268487\n",
              " 53          0         0         0  ...          0 -0.919030 -0.589690\n",
              " 672         1         0         0  ...          0 -0.019280 -0.589690\n",
              " 180         1         0         0  ...          0  0.880469 -0.589690\n",
              " \n",
              " [525 rows x 11 columns],\n",
              "      Reason_1  Reason_2  Reason_3  ...  Education  Children       Pet\n",
              " 190         0         0         0  ...          0  2.679969 -0.589690\n",
              " 182         1         0         0  ...          0  0.880469  0.268487\n",
              " 617         0         0         0  ...          1 -0.919030 -0.589690\n",
              " 86          0         0         0  ...          0  0.880469  1.126663\n",
              " 248         0         0         0  ...          0 -0.919030 -0.589690\n",
              " ..        ...       ...       ...  ...        ...       ...       ...\n",
              " 477         0         0         0  ...          0 -0.919030 -0.589690\n",
              " 331         1         0         0  ...          0 -0.019280  0.268487\n",
              " 217         1         0         0  ...          0 -0.919030 -0.589690\n",
              " 115         0         0         0  ...          0 -0.919030 -0.589690\n",
              " 525         1         0         0  ...          0  1.780219 -0.589690\n",
              " \n",
              " [175 rows x 11 columns],\n",
              " array([0, 1, 0, 1, 1, 1, 0, 1, 0, 0, 0, 0, 0, 0, 1, 1, 1, 0, 0, 0, 0, 0,\n",
              "        0, 1, 0, 0, 0, 0, 1, 0, 0, 1, 1, 1, 1, 1, 1, 0, 0, 0, 1, 0, 1, 1,\n",
              "        0, 0, 1, 1, 0, 0, 0, 1, 1, 0, 0, 1, 0, 1, 1, 1, 0, 1, 1, 0, 0, 0,\n",
              "        0, 1, 1, 1, 1, 0, 1, 0, 0, 0, 1, 0, 0, 0, 0, 0, 0, 1, 1, 1, 0, 0,\n",
              "        1, 0, 1, 0, 1, 0, 0, 1, 1, 1, 0, 0, 0, 0, 0, 1, 0, 0, 1, 0, 1, 1,\n",
              "        1, 0, 1, 0, 1, 1, 0, 0, 0, 1, 1, 1, 0, 1, 1, 1, 0, 1, 0, 1, 1, 0,\n",
              "        1, 0, 0, 1, 0, 1, 1, 0, 0, 1, 0, 1, 0, 0, 0, 1, 0, 1, 1, 0, 1, 1,\n",
              "        0, 1, 0, 1, 0, 0, 1, 0, 1, 0, 1, 1, 0, 1, 1, 1, 1, 1, 0, 1, 0, 0,\n",
              "        0, 0, 0, 1, 1, 1, 1, 0, 1, 1, 0, 0, 1, 0, 0, 1, 0, 0, 1, 1, 0, 1,\n",
              "        0, 0, 1, 1, 0, 1, 1, 1, 1, 1, 1, 1, 0, 0, 0, 0, 1, 0, 1, 0, 1, 1,\n",
              "        0, 0, 0, 0, 0, 0, 0, 1, 0, 1, 0, 1, 1, 1, 0, 0, 1, 0, 0, 1, 1, 1,\n",
              "        1, 1, 1, 1, 1, 0, 0, 1, 1, 0, 0, 1, 1, 0, 0, 0, 1, 1, 0, 1, 0, 0,\n",
              "        0, 0, 1, 1, 0, 0, 0, 1, 0, 0, 1, 0, 1, 0, 1, 0, 1, 1, 0, 0, 0, 0,\n",
              "        0, 1, 0, 0, 0, 0, 1, 0, 0, 0, 0, 0, 0, 0, 1, 0, 1, 1, 0, 1, 1, 0,\n",
              "        0, 1, 1, 1, 1, 0, 0, 0, 0, 0, 1, 1, 0, 1, 0, 1, 0, 0, 1, 1, 0, 1,\n",
              "        0, 1, 1, 0, 0, 1, 1, 1, 1, 0, 1, 0, 0, 0, 0, 1, 0, 0, 1, 1, 1, 0,\n",
              "        1, 0, 0, 1, 1, 1, 0, 0, 0, 1, 0, 0, 0, 1, 0, 1, 0, 0, 1, 1, 0, 0,\n",
              "        1, 1, 1, 0, 1, 1, 1, 0, 0, 0, 1, 0, 1, 1, 1, 1, 0, 0, 0, 1, 1, 1,\n",
              "        1, 0, 1, 1, 1, 1, 1, 0, 0, 1, 1, 1, 0, 0, 1, 0, 1, 0, 0, 0, 1, 1,\n",
              "        1, 1, 1, 1, 0, 1, 1, 1, 1, 1, 0, 1, 0, 0, 1, 1, 1, 0, 0, 0, 0, 1,\n",
              "        0, 1, 0, 0, 1, 1, 0, 1, 1, 0, 0, 1, 0, 0, 0, 0, 0, 0, 0, 0, 0, 1,\n",
              "        1, 1, 0, 0, 0, 1, 1, 0, 0, 1, 1, 0, 0, 1, 1, 0, 1, 1, 1, 1, 0, 0,\n",
              "        1, 1, 0, 1, 0, 0, 0, 0, 0, 1, 0, 1, 0, 0, 0, 0, 1, 0, 0, 0, 0, 0,\n",
              "        0, 1, 0, 0, 0, 0, 1, 0, 1, 1, 0, 1, 0, 1, 0, 0, 0, 0, 1]),\n",
              " array([1, 0, 0, 1, 1, 1, 0, 0, 1, 0, 1, 1, 0, 0, 1, 0, 0, 0, 1, 0, 1, 0,\n",
              "        0, 0, 0, 1, 0, 1, 0, 0, 1, 0, 0, 0, 0, 0, 0, 1, 0, 0, 0, 0, 0, 1,\n",
              "        0, 0, 0, 0, 1, 1, 1, 0, 0, 0, 0, 0, 1, 1, 1, 1, 0, 0, 0, 0, 1, 0,\n",
              "        0, 1, 0, 1, 0, 1, 0, 1, 0, 0, 0, 1, 1, 1, 0, 0, 0, 0, 1, 0, 1, 1,\n",
              "        1, 1, 0, 1, 0, 0, 1, 1, 0, 0, 1, 0, 1, 0, 0, 0, 0, 0, 1, 0, 0, 0,\n",
              "        0, 1, 0, 0, 0, 0, 0, 1, 1, 0, 1, 0, 0, 0, 0, 0, 1, 1, 0, 0, 0, 0,\n",
              "        1, 1, 1, 1, 1, 1, 0, 1, 0, 0, 1, 1, 1, 0, 1, 0, 1, 0, 1, 0, 0, 0,\n",
              "        1, 0, 1, 1, 1, 0, 1, 0, 0, 1, 1, 0, 1, 0, 1, 0, 0, 1, 0, 0, 1])]"
            ]
          },
          "metadata": {
            "tags": []
          },
          "execution_count": 33
        }
      ]
    },
    {
      "cell_type": "code",
      "metadata": {
        "id": "zZFsHpPswu9M"
      },
      "source": [
        "# declare 4 variables for the split\n",
        "x_train, x_test, y_train, y_test = train_test_split(scaled_inputs, targets, #train_size = 0.8, \n",
        "                                                                            test_size = 0.2, random_state = 20)"
      ],
      "execution_count": 34,
      "outputs": []
    },
    {
      "cell_type": "code",
      "metadata": {
        "colab": {
          "base_uri": "https://localhost:8080/"
        },
        "id": "BpfhlVrUwu9N",
        "outputId": "16b218d0-cd46-4ba5-defe-b52ad27613a9"
      },
      "source": [
        "# check the shape of the train inputs and targets\n",
        "print (x_train.shape, y_train.shape)"
      ],
      "execution_count": 35,
      "outputs": [
        {
          "output_type": "stream",
          "text": [
            "(560, 11) (560,)\n"
          ],
          "name": "stdout"
        }
      ]
    },
    {
      "cell_type": "code",
      "metadata": {
        "colab": {
          "base_uri": "https://localhost:8080/"
        },
        "id": "3n67SM10wu9N",
        "outputId": "0cf6867a-7cd1-4823-bcf2-733e51e9b1f6"
      },
      "source": [
        "# check the shape of the test inputs and targets\n",
        "print (x_test.shape, y_test.shape)"
      ],
      "execution_count": 36,
      "outputs": [
        {
          "output_type": "stream",
          "text": [
            "(140, 11) (140,)\n"
          ],
          "name": "stdout"
        }
      ]
    },
    {
      "cell_type": "markdown",
      "metadata": {
        "id": "kh1m_4swwu9O"
      },
      "source": [
        "## Logistic regression with sklearn"
      ]
    },
    {
      "cell_type": "code",
      "metadata": {
        "id": "IIBKOkK8wu9P"
      },
      "source": [
        "# import the LogReg model from sklearn\n",
        "from sklearn.linear_model import LogisticRegression\n",
        "\n",
        "# import the 'metrics' module, which includes important metrics we may want to use\n",
        "from sklearn import metrics"
      ],
      "execution_count": 37,
      "outputs": []
    },
    {
      "cell_type": "markdown",
      "metadata": {
        "id": "iGgVyqYlwu9Q"
      },
      "source": [
        "### Training the model"
      ]
    },
    {
      "cell_type": "code",
      "metadata": {
        "id": "MmZCCNZ2wu9Q"
      },
      "source": [
        "# create a logistic regression object\n",
        "reg = LogisticRegression()"
      ],
      "execution_count": 38,
      "outputs": []
    },
    {
      "cell_type": "code",
      "metadata": {
        "colab": {
          "base_uri": "https://localhost:8080/"
        },
        "id": "8ePh7Mxfwu9R",
        "outputId": "23e3f047-d67c-4810-d95b-f844c3468f9e"
      },
      "source": [
        "# fit our train inputs\n",
        "# that is basically the whole training part of the machine learning\n",
        "reg.fit(x_train,y_train)"
      ],
      "execution_count": 39,
      "outputs": [
        {
          "output_type": "execute_result",
          "data": {
            "text/plain": [
              "LogisticRegression(C=1.0, class_weight=None, dual=False, fit_intercept=True,\n",
              "                   intercept_scaling=1, l1_ratio=None, max_iter=100,\n",
              "                   multi_class='auto', n_jobs=None, penalty='l2',\n",
              "                   random_state=None, solver='lbfgs', tol=0.0001, verbose=0,\n",
              "                   warm_start=False)"
            ]
          },
          "metadata": {
            "tags": []
          },
          "execution_count": 39
        }
      ]
    },
    {
      "cell_type": "code",
      "metadata": {
        "colab": {
          "base_uri": "https://localhost:8080/"
        },
        "id": "KbmVEqBJwu9S",
        "outputId": "3119d7ea-3a98-417c-e5e6-f10f3bcd1e87"
      },
      "source": [
        "# assess the train accuracy of the model\n",
        "reg.score(x_train,y_train)"
      ],
      "execution_count": 40,
      "outputs": [
        {
          "output_type": "execute_result",
          "data": {
            "text/plain": [
              "0.7767857142857143"
            ]
          },
          "metadata": {
            "tags": []
          },
          "execution_count": 40
        }
      ]
    },
    {
      "cell_type": "markdown",
      "metadata": {
        "id": "OFBfEJBdwu9S"
      },
      "source": [
        "### Manually check the accuracy"
      ]
    },
    {
      "cell_type": "code",
      "metadata": {
        "scrolled": true,
        "colab": {
          "base_uri": "https://localhost:8080/"
        },
        "id": "DiF1zcw7wu9T",
        "outputId": "6807f8c4-52f5-491e-e25b-d81fea743d2c"
      },
      "source": [
        "# find the model outputs according to our model\n",
        "model_outputs = reg.predict(x_train)\n",
        "model_outputs"
      ],
      "execution_count": 41,
      "outputs": [
        {
          "output_type": "execute_result",
          "data": {
            "text/plain": [
              "array([0, 1, 1, 1, 1, 0, 0, 1, 0, 1, 1, 1, 0, 1, 0, 0, 0, 0, 0, 1, 1, 0,\n",
              "       0, 0, 0, 0, 0, 1, 1, 0, 0, 1, 0, 1, 0, 0, 1, 0, 0, 0, 1, 0, 1, 1,\n",
              "       0, 0, 0, 0, 1, 1, 0, 1, 0, 0, 0, 1, 1, 0, 0, 0, 0, 0, 1, 0, 0, 0,\n",
              "       0, 0, 0, 0, 0, 1, 1, 0, 0, 0, 1, 0, 0, 1, 1, 1, 0, 0, 0, 1, 1, 0,\n",
              "       0, 1, 0, 0, 1, 0, 0, 0, 0, 1, 0, 1, 1, 1, 1, 0, 1, 1, 0, 0, 1, 0,\n",
              "       0, 1, 0, 1, 1, 0, 0, 0, 1, 1, 1, 1, 1, 0, 0, 1, 0, 1, 0, 0, 1, 0,\n",
              "       0, 0, 0, 0, 1, 0, 0, 0, 0, 0, 1, 1, 1, 0, 0, 1, 0, 1, 0, 0, 1, 0,\n",
              "       1, 1, 0, 1, 0, 1, 1, 0, 1, 0, 0, 1, 1, 0, 1, 1, 0, 0, 0, 0, 1, 0,\n",
              "       0, 0, 0, 0, 1, 0, 0, 1, 1, 0, 0, 1, 0, 0, 1, 1, 1, 0, 0, 0, 0, 1,\n",
              "       1, 0, 0, 1, 1, 1, 1, 0, 1, 0, 0, 0, 1, 1, 1, 0, 0, 0, 0, 0, 0, 1,\n",
              "       1, 0, 0, 0, 1, 0, 0, 1, 1, 0, 0, 1, 1, 0, 0, 1, 1, 0, 0, 0, 0, 1,\n",
              "       0, 0, 1, 0, 1, 1, 1, 0, 1, 0, 1, 0, 1, 0, 1, 1, 0, 1, 1, 1, 1, 1,\n",
              "       0, 0, 0, 0, 0, 0, 1, 1, 0, 0, 1, 0, 1, 1, 0, 1, 0, 0, 1, 0, 1, 0,\n",
              "       0, 0, 0, 0, 0, 0, 0, 1, 1, 1, 1, 1, 1, 1, 0, 0, 0, 0, 0, 1, 0, 0,\n",
              "       0, 0, 0, 0, 1, 0, 1, 0, 1, 1, 0, 0, 0, 0, 1, 1, 1, 1, 0, 0, 1, 1,\n",
              "       1, 0, 1, 0, 0, 1, 0, 0, 0, 0, 0, 0, 0, 0, 0, 1, 1, 1, 0, 0, 0, 1,\n",
              "       0, 0, 1, 0, 1, 1, 0, 0, 1, 0, 1, 1, 1, 0, 0, 0, 0, 1, 1, 1, 0, 0,\n",
              "       1, 1, 1, 1, 0, 0, 1, 1, 0, 1, 0, 1, 1, 1, 0, 1, 0, 1, 1, 0, 0, 0,\n",
              "       0, 0, 0, 0, 0, 1, 1, 0, 1, 1, 0, 1, 0, 0, 0, 1, 1, 0, 0, 1, 1, 0,\n",
              "       0, 0, 0, 1, 1, 0, 1, 0, 0, 1, 0, 0, 1, 0, 1, 1, 1, 0, 0, 1, 1, 0,\n",
              "       0, 0, 0, 0, 0, 0, 0, 0, 1, 1, 1, 1, 1, 0, 1, 1, 0, 0, 0, 0, 0, 0,\n",
              "       1, 1, 0, 0, 0, 0, 1, 0, 0, 0, 1, 0, 1, 1, 0, 0, 1, 0, 0, 1, 0, 0,\n",
              "       0, 0, 0, 0, 0, 1, 0, 0, 1, 0, 0, 0, 0, 1, 0, 0, 1, 0, 1, 0, 0, 0,\n",
              "       0, 1, 1, 0, 1, 0, 0, 0, 1, 1, 1, 1, 0, 0, 1, 1, 0, 0, 1, 0, 1, 1,\n",
              "       0, 1, 1, 0, 1, 1, 1, 0, 0, 0, 1, 1, 1, 0, 1, 1, 0, 1, 1, 0, 0, 0,\n",
              "       0, 1, 0, 1, 1, 1, 0, 0, 0, 0])"
            ]
          },
          "metadata": {
            "tags": []
          },
          "execution_count": 41
        }
      ]
    },
    {
      "cell_type": "code",
      "metadata": {
        "colab": {
          "base_uri": "https://localhost:8080/"
        },
        "id": "-Xe3q9X-wu9U",
        "outputId": "3094df80-428f-430b-aadd-a790def6a6f2"
      },
      "source": [
        "# compare them with the targets\n",
        "y_train"
      ],
      "execution_count": 42,
      "outputs": [
        {
          "output_type": "execute_result",
          "data": {
            "text/plain": [
              "array([0, 1, 1, 1, 1, 0, 0, 1, 0, 1, 0, 1, 1, 0, 0, 0, 0, 0, 1, 1, 0, 0,\n",
              "       1, 1, 0, 0, 0, 0, 1, 0, 0, 1, 0, 1, 0, 0, 0, 1, 1, 1, 1, 0, 1, 1,\n",
              "       1, 0, 0, 0, 1, 1, 1, 1, 0, 0, 0, 1, 1, 0, 0, 1, 0, 0, 1, 0, 0, 0,\n",
              "       0, 0, 0, 1, 0, 1, 1, 0, 0, 1, 1, 0, 0, 1, 1, 0, 0, 1, 0, 1, 0, 1,\n",
              "       1, 1, 0, 0, 1, 0, 0, 0, 0, 0, 0, 1, 1, 1, 1, 0, 1, 1, 0, 0, 1, 0,\n",
              "       0, 1, 1, 1, 1, 0, 0, 1, 1, 1, 1, 1, 0, 0, 0, 1, 0, 1, 0, 0, 1, 1,\n",
              "       0, 0, 0, 0, 0, 0, 0, 0, 0, 0, 1, 0, 1, 1, 0, 0, 0, 1, 0, 0, 0, 1,\n",
              "       0, 1, 0, 0, 0, 1, 1, 0, 1, 1, 0, 0, 1, 1, 1, 0, 0, 0, 0, 0, 1, 0,\n",
              "       0, 0, 0, 0, 1, 0, 0, 1, 1, 1, 0, 1, 0, 0, 0, 1, 1, 0, 0, 0, 0, 1,\n",
              "       1, 0, 0, 1, 1, 1, 0, 0, 0, 1, 0, 0, 1, 1, 1, 0, 0, 1, 0, 1, 0, 0,\n",
              "       1, 0, 0, 0, 0, 0, 1, 0, 1, 0, 0, 1, 1, 1, 1, 0, 1, 1, 0, 0, 0, 0,\n",
              "       0, 0, 1, 0, 1, 1, 1, 1, 1, 0, 1, 0, 1, 0, 1, 1, 1, 1, 1, 1, 0, 0,\n",
              "       0, 0, 0, 0, 0, 0, 0, 1, 0, 0, 1, 0, 1, 0, 1, 0, 0, 0, 1, 0, 0, 0,\n",
              "       1, 0, 1, 0, 0, 0, 0, 1, 0, 1, 0, 0, 1, 1, 0, 0, 0, 1, 0, 1, 0, 0,\n",
              "       0, 1, 0, 1, 1, 0, 1, 0, 1, 1, 0, 0, 1, 0, 1, 0, 0, 1, 0, 0, 1, 1,\n",
              "       1, 0, 0, 0, 0, 1, 1, 1, 0, 0, 0, 1, 0, 1, 0, 1, 1, 1, 0, 0, 0, 1,\n",
              "       0, 0, 1, 0, 1, 1, 0, 0, 0, 0, 1, 0, 1, 1, 0, 0, 0, 1, 1, 1, 0, 0,\n",
              "       1, 1, 1, 1, 0, 0, 1, 0, 0, 1, 0, 0, 1, 1, 1, 1, 1, 1, 1, 0, 1, 0,\n",
              "       0, 0, 0, 0, 0, 0, 1, 0, 1, 1, 0, 1, 0, 0, 0, 1, 1, 0, 0, 1, 1, 1,\n",
              "       0, 1, 0, 1, 0, 0, 1, 0, 1, 1, 0, 1, 1, 1, 1, 1, 1, 0, 0, 0, 0, 0,\n",
              "       0, 0, 0, 1, 0, 0, 0, 0, 0, 1, 0, 1, 1, 0, 0, 0, 0, 0, 0, 0, 1, 0,\n",
              "       1, 1, 0, 0, 0, 0, 1, 0, 1, 0, 1, 1, 0, 1, 0, 1, 1, 0, 0, 1, 0, 0,\n",
              "       1, 1, 0, 0, 1, 1, 0, 0, 1, 1, 0, 0, 0, 1, 0, 1, 1, 0, 1, 0, 0, 1,\n",
              "       0, 1, 0, 0, 1, 0, 0, 1, 1, 1, 1, 1, 0, 1, 1, 1, 1, 1, 0, 0, 1, 0,\n",
              "       0, 1, 1, 1, 1, 1, 1, 0, 0, 0, 1, 1, 1, 1, 1, 1, 0, 1, 1, 0, 0, 0,\n",
              "       0, 0, 0, 1, 1, 1, 1, 0, 1, 0])"
            ]
          },
          "metadata": {
            "tags": []
          },
          "execution_count": 42
        }
      ]
    },
    {
      "cell_type": "code",
      "metadata": {
        "scrolled": true,
        "colab": {
          "base_uri": "https://localhost:8080/"
        },
        "id": "I_E1SRvMwu9U",
        "outputId": "c200e0f1-f2e7-4055-b080-3005b18023e9"
      },
      "source": [
        "# ACTUALLY compare the two variables\n",
        "model_outputs == y_train"
      ],
      "execution_count": 43,
      "outputs": [
        {
          "output_type": "execute_result",
          "data": {
            "text/plain": [
              "array([ True,  True,  True,  True,  True,  True,  True,  True,  True,\n",
              "        True, False,  True, False, False,  True,  True,  True,  True,\n",
              "       False,  True, False,  True, False, False,  True,  True,  True,\n",
              "       False,  True,  True,  True,  True,  True,  True,  True,  True,\n",
              "       False, False, False, False,  True,  True,  True,  True, False,\n",
              "        True,  True,  True,  True,  True, False,  True,  True,  True,\n",
              "        True,  True,  True,  True,  True, False,  True,  True,  True,\n",
              "        True,  True,  True,  True,  True,  True, False,  True,  True,\n",
              "        True,  True,  True, False,  True,  True,  True,  True,  True,\n",
              "       False,  True, False,  True,  True, False, False, False,  True,\n",
              "        True,  True,  True,  True,  True,  True,  True, False,  True,\n",
              "        True,  True,  True,  True,  True,  True,  True,  True,  True,\n",
              "        True,  True,  True,  True, False,  True,  True,  True,  True,\n",
              "       False,  True,  True,  True,  True, False,  True,  True,  True,\n",
              "        True,  True,  True,  True,  True, False,  True,  True,  True,\n",
              "        True, False,  True,  True,  True,  True,  True,  True, False,\n",
              "        True, False,  True, False,  True,  True,  True,  True, False,\n",
              "       False, False,  True,  True, False,  True,  True,  True,  True,\n",
              "        True, False,  True, False,  True, False,  True, False,  True,\n",
              "        True,  True,  True,  True,  True,  True,  True,  True,  True,\n",
              "        True,  True,  True,  True,  True, False,  True,  True,  True,\n",
              "        True, False,  True,  True,  True,  True,  True,  True,  True,\n",
              "        True,  True,  True,  True,  True,  True, False,  True, False,\n",
              "       False,  True,  True,  True,  True,  True,  True,  True, False,\n",
              "        True, False,  True, False,  True,  True,  True,  True, False,\n",
              "        True, False, False,  True,  True,  True,  True,  True, False,\n",
              "       False, False,  True, False,  True,  True,  True, False,  True,\n",
              "        True,  True,  True,  True,  True,  True, False,  True,  True,\n",
              "        True,  True,  True,  True,  True,  True, False,  True,  True,\n",
              "        True, False, False,  True,  True,  True,  True,  True,  True,\n",
              "       False,  True,  True,  True,  True,  True,  True, False, False,\n",
              "       False,  True,  True,  True,  True, False,  True, False,  True,\n",
              "       False,  True,  True,  True,  True,  True, False,  True, False,\n",
              "       False,  True,  True,  True,  True,  True, False,  True,  True,\n",
              "        True,  True,  True, False,  True, False,  True,  True,  True,\n",
              "        True,  True,  True,  True,  True, False,  True,  True, False,\n",
              "       False,  True,  True,  True,  True,  True,  True,  True, False,\n",
              "        True,  True,  True, False, False,  True,  True,  True, False,\n",
              "        True, False,  True,  True,  True,  True,  True,  True,  True,\n",
              "        True,  True,  True,  True,  True,  True,  True,  True,  True,\n",
              "       False,  True,  True, False,  True, False,  True,  True,  True,\n",
              "        True,  True,  True,  True,  True,  True,  True,  True,  True,\n",
              "        True,  True,  True, False,  True,  True,  True, False,  True,\n",
              "        True, False,  True, False,  True,  True,  True, False,  True,\n",
              "        True,  True,  True,  True,  True, False,  True,  True,  True,\n",
              "        True,  True,  True,  True,  True,  True,  True,  True,  True,\n",
              "        True,  True,  True, False,  True, False,  True,  True, False,\n",
              "        True,  True,  True, False,  True,  True, False,  True, False,\n",
              "        True,  True,  True,  True,  True, False, False,  True,  True,\n",
              "        True,  True, False,  True,  True,  True,  True, False,  True,\n",
              "       False,  True,  True,  True, False, False,  True,  True,  True,\n",
              "        True, False,  True,  True,  True,  True,  True,  True,  True,\n",
              "        True,  True, False,  True,  True, False, False,  True,  True,\n",
              "       False,  True,  True,  True,  True,  True,  True, False, False,\n",
              "        True,  True, False,  True,  True,  True,  True, False,  True,\n",
              "        True,  True,  True,  True, False,  True,  True,  True,  True,\n",
              "        True, False,  True,  True, False,  True,  True,  True,  True,\n",
              "       False,  True,  True,  True,  True,  True, False,  True,  True,\n",
              "       False, False, False,  True,  True, False,  True,  True,  True,\n",
              "       False,  True,  True,  True,  True,  True,  True,  True,  True,\n",
              "        True, False,  True,  True,  True,  True,  True,  True,  True,\n",
              "        True,  True, False,  True,  True,  True,  True, False,  True,\n",
              "       False,  True])"
            ]
          },
          "metadata": {
            "tags": []
          },
          "execution_count": 43
        }
      ]
    },
    {
      "cell_type": "code",
      "metadata": {
        "colab": {
          "base_uri": "https://localhost:8080/"
        },
        "id": "9eiB42Fywu9V",
        "outputId": "8ea85385-74a3-4709-9eb3-8a4185a7d5c6"
      },
      "source": [
        "# find out in how many instances we predicted correctly\n",
        "np.sum((model_outputs==y_train))"
      ],
      "execution_count": 44,
      "outputs": [
        {
          "output_type": "execute_result",
          "data": {
            "text/plain": [
              "435"
            ]
          },
          "metadata": {
            "tags": []
          },
          "execution_count": 44
        }
      ]
    },
    {
      "cell_type": "code",
      "metadata": {
        "colab": {
          "base_uri": "https://localhost:8080/"
        },
        "id": "cyMMcBxPwu9W",
        "outputId": "b00a576b-8a8b-46ff-b2dd-d428bfb4bc45"
      },
      "source": [
        "# get the total number of instances\n",
        "model_outputs.shape[0]"
      ],
      "execution_count": 45,
      "outputs": [
        {
          "output_type": "execute_result",
          "data": {
            "text/plain": [
              "560"
            ]
          },
          "metadata": {
            "tags": []
          },
          "execution_count": 45
        }
      ]
    },
    {
      "cell_type": "code",
      "metadata": {
        "colab": {
          "base_uri": "https://localhost:8080/"
        },
        "id": "Kr2gv_YYwu9X",
        "outputId": "d0626ad1-0ff7-4f7f-eae2-dd20645459c0"
      },
      "source": [
        "# calculate the accuracy of the model\n",
        "np.sum((model_outputs==y_train)) / model_outputs.shape[0]"
      ],
      "execution_count": 46,
      "outputs": [
        {
          "output_type": "execute_result",
          "data": {
            "text/plain": [
              "0.7767857142857143"
            ]
          },
          "metadata": {
            "tags": []
          },
          "execution_count": 46
        }
      ]
    },
    {
      "cell_type": "markdown",
      "metadata": {
        "id": "ADZGwj_swu9Y"
      },
      "source": [
        "### Finding the intercept and coefficients"
      ]
    },
    {
      "cell_type": "code",
      "metadata": {
        "colab": {
          "base_uri": "https://localhost:8080/"
        },
        "id": "4LH2cbSSwu9Y",
        "outputId": "0b19a102-e46c-4d88-d910-2271c3a5beb2"
      },
      "source": [
        "# get the intercept (bias) of our model\n",
        "reg.intercept_"
      ],
      "execution_count": 47,
      "outputs": [
        {
          "output_type": "execute_result",
          "data": {
            "text/plain": [
              "array([-1.60957471])"
            ]
          },
          "metadata": {
            "tags": []
          },
          "execution_count": 47
        }
      ]
    },
    {
      "cell_type": "code",
      "metadata": {
        "colab": {
          "base_uri": "https://localhost:8080/"
        },
        "id": "TSqLR9mwwu9Z",
        "outputId": "6f9c3423-93ea-4f45-c989-39a994d82ac1"
      },
      "source": [
        "# get the coefficients (weights) of our model\n",
        "reg.coef_"
      ],
      "execution_count": 48,
      "outputs": [
        {
          "output_type": "execute_result",
          "data": {
            "text/plain": [
              "array([[ 2.77151176,  0.93168817,  3.09210221,  0.8090592 ,  0.00781237,\n",
              "         0.62505482, -0.17390339,  0.28829409, -0.24081615,  0.35753531,\n",
              "        -0.27337422]])"
            ]
          },
          "metadata": {
            "tags": []
          },
          "execution_count": 48
        }
      ]
    },
    {
      "cell_type": "code",
      "metadata": {
        "colab": {
          "base_uri": "https://localhost:8080/"
        },
        "id": "Ocv-JQMMwu9a",
        "outputId": "7bbc07f8-ba0f-4774-c60c-225046b5b121"
      },
      "source": [
        "# check what were the names of our columns\n",
        "unscaled_inputs.columns.values"
      ],
      "execution_count": 49,
      "outputs": [
        {
          "output_type": "execute_result",
          "data": {
            "text/plain": [
              "array(['Reason_1', 'Reason_2', 'Reason_3', 'Reason_4', 'Month Value',\n",
              "       'Transportation Expense', 'Age', 'Body Mass Index', 'Education',\n",
              "       'Children', 'Pet'], dtype=object)"
            ]
          },
          "metadata": {
            "tags": []
          },
          "execution_count": 49
        }
      ]
    },
    {
      "cell_type": "code",
      "metadata": {
        "id": "H3lgZnm9wu9a"
      },
      "source": [
        "# save the names of the columns in an ad-hoc variable\n",
        "feature_name = unscaled_inputs.columns.values"
      ],
      "execution_count": 50,
      "outputs": []
    },
    {
      "cell_type": "code",
      "metadata": {
        "colab": {
          "base_uri": "https://localhost:8080/",
          "height": 390
        },
        "id": "Ayu2sCYbwu9b",
        "outputId": "1ac7e695-48a3-4fe8-f174-99eaedb5389b"
      },
      "source": [
        "# use the coefficients from this table (they will be exported later and will be used in Tableau)\n",
        "# transpose the model coefficients (model.coef_) and throws them into a df (a vertical organization, so that they can be\n",
        "# multiplied by certain matrices later) \n",
        "summary_table = pd.DataFrame (columns=['Feature name'], data = feature_name)\n",
        "\n",
        "# add the coefficient values to the summary table\n",
        "summary_table['Coefficient'] = np.transpose(reg.coef_)\n",
        "\n",
        "# display the summary table\n",
        "summary_table"
      ],
      "execution_count": 51,
      "outputs": [
        {
          "output_type": "execute_result",
          "data": {
            "text/html": [
              "<div>\n",
              "<style scoped>\n",
              "    .dataframe tbody tr th:only-of-type {\n",
              "        vertical-align: middle;\n",
              "    }\n",
              "\n",
              "    .dataframe tbody tr th {\n",
              "        vertical-align: top;\n",
              "    }\n",
              "\n",
              "    .dataframe thead th {\n",
              "        text-align: right;\n",
              "    }\n",
              "</style>\n",
              "<table border=\"1\" class=\"dataframe\">\n",
              "  <thead>\n",
              "    <tr style=\"text-align: right;\">\n",
              "      <th></th>\n",
              "      <th>Feature name</th>\n",
              "      <th>Coefficient</th>\n",
              "    </tr>\n",
              "  </thead>\n",
              "  <tbody>\n",
              "    <tr>\n",
              "      <th>0</th>\n",
              "      <td>Reason_1</td>\n",
              "      <td>2.771512</td>\n",
              "    </tr>\n",
              "    <tr>\n",
              "      <th>1</th>\n",
              "      <td>Reason_2</td>\n",
              "      <td>0.931688</td>\n",
              "    </tr>\n",
              "    <tr>\n",
              "      <th>2</th>\n",
              "      <td>Reason_3</td>\n",
              "      <td>3.092102</td>\n",
              "    </tr>\n",
              "    <tr>\n",
              "      <th>3</th>\n",
              "      <td>Reason_4</td>\n",
              "      <td>0.809059</td>\n",
              "    </tr>\n",
              "    <tr>\n",
              "      <th>4</th>\n",
              "      <td>Month Value</td>\n",
              "      <td>0.007812</td>\n",
              "    </tr>\n",
              "    <tr>\n",
              "      <th>5</th>\n",
              "      <td>Transportation Expense</td>\n",
              "      <td>0.625055</td>\n",
              "    </tr>\n",
              "    <tr>\n",
              "      <th>6</th>\n",
              "      <td>Age</td>\n",
              "      <td>-0.173903</td>\n",
              "    </tr>\n",
              "    <tr>\n",
              "      <th>7</th>\n",
              "      <td>Body Mass Index</td>\n",
              "      <td>0.288294</td>\n",
              "    </tr>\n",
              "    <tr>\n",
              "      <th>8</th>\n",
              "      <td>Education</td>\n",
              "      <td>-0.240816</td>\n",
              "    </tr>\n",
              "    <tr>\n",
              "      <th>9</th>\n",
              "      <td>Children</td>\n",
              "      <td>0.357535</td>\n",
              "    </tr>\n",
              "    <tr>\n",
              "      <th>10</th>\n",
              "      <td>Pet</td>\n",
              "      <td>-0.273374</td>\n",
              "    </tr>\n",
              "  </tbody>\n",
              "</table>\n",
              "</div>"
            ],
            "text/plain": [
              "              Feature name  Coefficient\n",
              "0                 Reason_1     2.771512\n",
              "1                 Reason_2     0.931688\n",
              "2                 Reason_3     3.092102\n",
              "3                 Reason_4     0.809059\n",
              "4              Month Value     0.007812\n",
              "5   Transportation Expense     0.625055\n",
              "6                      Age    -0.173903\n",
              "7          Body Mass Index     0.288294\n",
              "8                Education    -0.240816\n",
              "9                 Children     0.357535\n",
              "10                     Pet    -0.273374"
            ]
          },
          "metadata": {
            "tags": []
          },
          "execution_count": 51
        }
      ]
    },
    {
      "cell_type": "code",
      "metadata": {
        "scrolled": true,
        "colab": {
          "base_uri": "https://localhost:8080/",
          "height": 421
        },
        "id": "MbqcZggCwu9c",
        "outputId": "b420eff0-cfe9-414e-f0de-1cd40a37755f"
      },
      "source": [
        "# do a little Python trick to move the intercept to the top of the summary table\n",
        "# move all indices by 1\n",
        "summary_table.index = summary_table.index + 1\n",
        "\n",
        "# add the intercept at index 0\n",
        "summary_table.loc[0] = ['Intercept', reg.intercept_[0]]\n",
        "\n",
        "# sort the df by index\n",
        "summary_table = summary_table.sort_index()\n",
        "summary_table"
      ],
      "execution_count": 52,
      "outputs": [
        {
          "output_type": "execute_result",
          "data": {
            "text/html": [
              "<div>\n",
              "<style scoped>\n",
              "    .dataframe tbody tr th:only-of-type {\n",
              "        vertical-align: middle;\n",
              "    }\n",
              "\n",
              "    .dataframe tbody tr th {\n",
              "        vertical-align: top;\n",
              "    }\n",
              "\n",
              "    .dataframe thead th {\n",
              "        text-align: right;\n",
              "    }\n",
              "</style>\n",
              "<table border=\"1\" class=\"dataframe\">\n",
              "  <thead>\n",
              "    <tr style=\"text-align: right;\">\n",
              "      <th></th>\n",
              "      <th>Feature name</th>\n",
              "      <th>Coefficient</th>\n",
              "    </tr>\n",
              "  </thead>\n",
              "  <tbody>\n",
              "    <tr>\n",
              "      <th>0</th>\n",
              "      <td>Intercept</td>\n",
              "      <td>-1.609575</td>\n",
              "    </tr>\n",
              "    <tr>\n",
              "      <th>1</th>\n",
              "      <td>Reason_1</td>\n",
              "      <td>2.771512</td>\n",
              "    </tr>\n",
              "    <tr>\n",
              "      <th>2</th>\n",
              "      <td>Reason_2</td>\n",
              "      <td>0.931688</td>\n",
              "    </tr>\n",
              "    <tr>\n",
              "      <th>3</th>\n",
              "      <td>Reason_3</td>\n",
              "      <td>3.092102</td>\n",
              "    </tr>\n",
              "    <tr>\n",
              "      <th>4</th>\n",
              "      <td>Reason_4</td>\n",
              "      <td>0.809059</td>\n",
              "    </tr>\n",
              "    <tr>\n",
              "      <th>5</th>\n",
              "      <td>Month Value</td>\n",
              "      <td>0.007812</td>\n",
              "    </tr>\n",
              "    <tr>\n",
              "      <th>6</th>\n",
              "      <td>Transportation Expense</td>\n",
              "      <td>0.625055</td>\n",
              "    </tr>\n",
              "    <tr>\n",
              "      <th>7</th>\n",
              "      <td>Age</td>\n",
              "      <td>-0.173903</td>\n",
              "    </tr>\n",
              "    <tr>\n",
              "      <th>8</th>\n",
              "      <td>Body Mass Index</td>\n",
              "      <td>0.288294</td>\n",
              "    </tr>\n",
              "    <tr>\n",
              "      <th>9</th>\n",
              "      <td>Education</td>\n",
              "      <td>-0.240816</td>\n",
              "    </tr>\n",
              "    <tr>\n",
              "      <th>10</th>\n",
              "      <td>Children</td>\n",
              "      <td>0.357535</td>\n",
              "    </tr>\n",
              "    <tr>\n",
              "      <th>11</th>\n",
              "      <td>Pet</td>\n",
              "      <td>-0.273374</td>\n",
              "    </tr>\n",
              "  </tbody>\n",
              "</table>\n",
              "</div>"
            ],
            "text/plain": [
              "              Feature name  Coefficient\n",
              "0                Intercept    -1.609575\n",
              "1                 Reason_1     2.771512\n",
              "2                 Reason_2     0.931688\n",
              "3                 Reason_3     3.092102\n",
              "4                 Reason_4     0.809059\n",
              "5              Month Value     0.007812\n",
              "6   Transportation Expense     0.625055\n",
              "7                      Age    -0.173903\n",
              "8          Body Mass Index     0.288294\n",
              "9                Education    -0.240816\n",
              "10                Children     0.357535\n",
              "11                     Pet    -0.273374"
            ]
          },
          "metadata": {
            "tags": []
          },
          "execution_count": 52
        }
      ]
    },
    {
      "cell_type": "markdown",
      "metadata": {
        "id": "_2M-YU1bwu9d"
      },
      "source": [
        "## Interpreting the coefficients"
      ]
    },
    {
      "cell_type": "code",
      "metadata": {
        "id": "0d2GkDf4wu9e"
      },
      "source": [
        "# create a new Series called: 'Odds ratio' which will show the.. odds ratio of each feature\n",
        "summary_table['Odds_ratio'] = np.exp(summary_table.Coefficient)"
      ],
      "execution_count": 53,
      "outputs": []
    },
    {
      "cell_type": "code",
      "metadata": {
        "colab": {
          "base_uri": "https://localhost:8080/",
          "height": 421
        },
        "id": "AoESVPUcwu9e",
        "outputId": "b6c33877-c365-4a6f-8166-298ded887636"
      },
      "source": [
        "# display the df\n",
        "summary_table"
      ],
      "execution_count": 54,
      "outputs": [
        {
          "output_type": "execute_result",
          "data": {
            "text/html": [
              "<div>\n",
              "<style scoped>\n",
              "    .dataframe tbody tr th:only-of-type {\n",
              "        vertical-align: middle;\n",
              "    }\n",
              "\n",
              "    .dataframe tbody tr th {\n",
              "        vertical-align: top;\n",
              "    }\n",
              "\n",
              "    .dataframe thead th {\n",
              "        text-align: right;\n",
              "    }\n",
              "</style>\n",
              "<table border=\"1\" class=\"dataframe\">\n",
              "  <thead>\n",
              "    <tr style=\"text-align: right;\">\n",
              "      <th></th>\n",
              "      <th>Feature name</th>\n",
              "      <th>Coefficient</th>\n",
              "      <th>Odds_ratio</th>\n",
              "    </tr>\n",
              "  </thead>\n",
              "  <tbody>\n",
              "    <tr>\n",
              "      <th>0</th>\n",
              "      <td>Intercept</td>\n",
              "      <td>-1.609575</td>\n",
              "      <td>0.199973</td>\n",
              "    </tr>\n",
              "    <tr>\n",
              "      <th>1</th>\n",
              "      <td>Reason_1</td>\n",
              "      <td>2.771512</td>\n",
              "      <td>15.982778</td>\n",
              "    </tr>\n",
              "    <tr>\n",
              "      <th>2</th>\n",
              "      <td>Reason_2</td>\n",
              "      <td>0.931688</td>\n",
              "      <td>2.538791</td>\n",
              "    </tr>\n",
              "    <tr>\n",
              "      <th>3</th>\n",
              "      <td>Reason_3</td>\n",
              "      <td>3.092102</td>\n",
              "      <td>22.023327</td>\n",
              "    </tr>\n",
              "    <tr>\n",
              "      <th>4</th>\n",
              "      <td>Reason_4</td>\n",
              "      <td>0.809059</td>\n",
              "      <td>2.245794</td>\n",
              "    </tr>\n",
              "    <tr>\n",
              "      <th>5</th>\n",
              "      <td>Month Value</td>\n",
              "      <td>0.007812</td>\n",
              "      <td>1.007843</td>\n",
              "    </tr>\n",
              "    <tr>\n",
              "      <th>6</th>\n",
              "      <td>Transportation Expense</td>\n",
              "      <td>0.625055</td>\n",
              "      <td>1.868348</td>\n",
              "    </tr>\n",
              "    <tr>\n",
              "      <th>7</th>\n",
              "      <td>Age</td>\n",
              "      <td>-0.173903</td>\n",
              "      <td>0.840378</td>\n",
              "    </tr>\n",
              "    <tr>\n",
              "      <th>8</th>\n",
              "      <td>Body Mass Index</td>\n",
              "      <td>0.288294</td>\n",
              "      <td>1.334150</td>\n",
              "    </tr>\n",
              "    <tr>\n",
              "      <th>9</th>\n",
              "      <td>Education</td>\n",
              "      <td>-0.240816</td>\n",
              "      <td>0.785986</td>\n",
              "    </tr>\n",
              "    <tr>\n",
              "      <th>10</th>\n",
              "      <td>Children</td>\n",
              "      <td>0.357535</td>\n",
              "      <td>1.429801</td>\n",
              "    </tr>\n",
              "    <tr>\n",
              "      <th>11</th>\n",
              "      <td>Pet</td>\n",
              "      <td>-0.273374</td>\n",
              "      <td>0.760808</td>\n",
              "    </tr>\n",
              "  </tbody>\n",
              "</table>\n",
              "</div>"
            ],
            "text/plain": [
              "              Feature name  Coefficient  Odds_ratio\n",
              "0                Intercept    -1.609575    0.199973\n",
              "1                 Reason_1     2.771512   15.982778\n",
              "2                 Reason_2     0.931688    2.538791\n",
              "3                 Reason_3     3.092102   22.023327\n",
              "4                 Reason_4     0.809059    2.245794\n",
              "5              Month Value     0.007812    1.007843\n",
              "6   Transportation Expense     0.625055    1.868348\n",
              "7                      Age    -0.173903    0.840378\n",
              "8          Body Mass Index     0.288294    1.334150\n",
              "9                Education    -0.240816    0.785986\n",
              "10                Children     0.357535    1.429801\n",
              "11                     Pet    -0.273374    0.760808"
            ]
          },
          "metadata": {
            "tags": []
          },
          "execution_count": 54
        }
      ]
    },
    {
      "cell_type": "code",
      "metadata": {
        "colab": {
          "base_uri": "https://localhost:8080/",
          "height": 421
        },
        "id": "9FHD0Uhuwu9f",
        "outputId": "82f56e40-7016-42e2-a5c5-c7a65cdec7cc"
      },
      "source": [
        "# sort the table according to odds ratio\n",
        "# note that by default, the sort_values method sorts values by 'ascending'\n",
        "summary_table.sort_values('Odds_ratio', ascending=False)"
      ],
      "execution_count": 55,
      "outputs": [
        {
          "output_type": "execute_result",
          "data": {
            "text/html": [
              "<div>\n",
              "<style scoped>\n",
              "    .dataframe tbody tr th:only-of-type {\n",
              "        vertical-align: middle;\n",
              "    }\n",
              "\n",
              "    .dataframe tbody tr th {\n",
              "        vertical-align: top;\n",
              "    }\n",
              "\n",
              "    .dataframe thead th {\n",
              "        text-align: right;\n",
              "    }\n",
              "</style>\n",
              "<table border=\"1\" class=\"dataframe\">\n",
              "  <thead>\n",
              "    <tr style=\"text-align: right;\">\n",
              "      <th></th>\n",
              "      <th>Feature name</th>\n",
              "      <th>Coefficient</th>\n",
              "      <th>Odds_ratio</th>\n",
              "    </tr>\n",
              "  </thead>\n",
              "  <tbody>\n",
              "    <tr>\n",
              "      <th>3</th>\n",
              "      <td>Reason_3</td>\n",
              "      <td>3.092102</td>\n",
              "      <td>22.023327</td>\n",
              "    </tr>\n",
              "    <tr>\n",
              "      <th>1</th>\n",
              "      <td>Reason_1</td>\n",
              "      <td>2.771512</td>\n",
              "      <td>15.982778</td>\n",
              "    </tr>\n",
              "    <tr>\n",
              "      <th>2</th>\n",
              "      <td>Reason_2</td>\n",
              "      <td>0.931688</td>\n",
              "      <td>2.538791</td>\n",
              "    </tr>\n",
              "    <tr>\n",
              "      <th>4</th>\n",
              "      <td>Reason_4</td>\n",
              "      <td>0.809059</td>\n",
              "      <td>2.245794</td>\n",
              "    </tr>\n",
              "    <tr>\n",
              "      <th>6</th>\n",
              "      <td>Transportation Expense</td>\n",
              "      <td>0.625055</td>\n",
              "      <td>1.868348</td>\n",
              "    </tr>\n",
              "    <tr>\n",
              "      <th>10</th>\n",
              "      <td>Children</td>\n",
              "      <td>0.357535</td>\n",
              "      <td>1.429801</td>\n",
              "    </tr>\n",
              "    <tr>\n",
              "      <th>8</th>\n",
              "      <td>Body Mass Index</td>\n",
              "      <td>0.288294</td>\n",
              "      <td>1.334150</td>\n",
              "    </tr>\n",
              "    <tr>\n",
              "      <th>5</th>\n",
              "      <td>Month Value</td>\n",
              "      <td>0.007812</td>\n",
              "      <td>1.007843</td>\n",
              "    </tr>\n",
              "    <tr>\n",
              "      <th>7</th>\n",
              "      <td>Age</td>\n",
              "      <td>-0.173903</td>\n",
              "      <td>0.840378</td>\n",
              "    </tr>\n",
              "    <tr>\n",
              "      <th>9</th>\n",
              "      <td>Education</td>\n",
              "      <td>-0.240816</td>\n",
              "      <td>0.785986</td>\n",
              "    </tr>\n",
              "    <tr>\n",
              "      <th>11</th>\n",
              "      <td>Pet</td>\n",
              "      <td>-0.273374</td>\n",
              "      <td>0.760808</td>\n",
              "    </tr>\n",
              "    <tr>\n",
              "      <th>0</th>\n",
              "      <td>Intercept</td>\n",
              "      <td>-1.609575</td>\n",
              "      <td>0.199973</td>\n",
              "    </tr>\n",
              "  </tbody>\n",
              "</table>\n",
              "</div>"
            ],
            "text/plain": [
              "              Feature name  Coefficient  Odds_ratio\n",
              "3                 Reason_3     3.092102   22.023327\n",
              "1                 Reason_1     2.771512   15.982778\n",
              "2                 Reason_2     0.931688    2.538791\n",
              "4                 Reason_4     0.809059    2.245794\n",
              "6   Transportation Expense     0.625055    1.868348\n",
              "10                Children     0.357535    1.429801\n",
              "8          Body Mass Index     0.288294    1.334150\n",
              "5              Month Value     0.007812    1.007843\n",
              "7                      Age    -0.173903    0.840378\n",
              "9                Education    -0.240816    0.785986\n",
              "11                     Pet    -0.273374    0.760808\n",
              "0                Intercept    -1.609575    0.199973"
            ]
          },
          "metadata": {
            "tags": []
          },
          "execution_count": 55
        }
      ]
    },
    {
      "cell_type": "markdown",
      "metadata": {
        "id": "YajkfNQEwu9g"
      },
      "source": [
        "## Testing the model"
      ]
    },
    {
      "cell_type": "code",
      "metadata": {
        "colab": {
          "base_uri": "https://localhost:8080/"
        },
        "id": "4ulvsGcwwu9h",
        "outputId": "f9794570-6b20-473a-9311-2d57b48b47bb"
      },
      "source": [
        "# assess the test accuracy of the model\n",
        "reg.score(x_test,y_test)"
      ],
      "execution_count": 56,
      "outputs": [
        {
          "output_type": "execute_result",
          "data": {
            "text/plain": [
              "0.7357142857142858"
            ]
          },
          "metadata": {
            "tags": []
          },
          "execution_count": 56
        }
      ]
    },
    {
      "cell_type": "code",
      "metadata": {
        "colab": {
          "base_uri": "https://localhost:8080/"
        },
        "id": "SLQL4Fv2wu9h",
        "outputId": "2b3145e1-fe18-40ca-c7bc-da2afa05c12f"
      },
      "source": [
        "# find the predicted probabilities of each class\n",
        "# the first column shows the probability of a particular observation to be 0, while the second one - to be 1\n",
        "predicted_proba = reg.predict_proba(x_test)\n",
        "\n",
        "# let's check that out\n",
        "predicted_proba"
      ],
      "execution_count": 57,
      "outputs": [
        {
          "output_type": "execute_result",
          "data": {
            "text/plain": [
              "array([[0.75466347, 0.24533653],\n",
              "       [0.60917591, 0.39082409],\n",
              "       [0.48329093, 0.51670907],\n",
              "       [0.75768232, 0.24231768],\n",
              "       [0.08357741, 0.91642259],\n",
              "       [0.3052464 , 0.6947536 ],\n",
              "       [0.303675  , 0.696325  ],\n",
              "       [0.11636888, 0.88363112],\n",
              "       [0.7400284 , 0.2599716 ],\n",
              "       [0.75596036, 0.24403964],\n",
              "       [0.50609784, 0.49390216],\n",
              "       [0.19501503, 0.80498497],\n",
              "       [0.06248668, 0.93751332],\n",
              "       [0.7055465 , 0.2944535 ],\n",
              "       [0.29675526, 0.70324474],\n",
              "       [0.52028649, 0.47971351],\n",
              "       [0.50551315, 0.49448685],\n",
              "       [0.50843643, 0.49156357],\n",
              "       [0.36713074, 0.63286926],\n",
              "       [0.06422143, 0.93577857],\n",
              "       [0.73822433, 0.26177567],\n",
              "       [0.75768232, 0.24231768],\n",
              "       [0.47994423, 0.52005577],\n",
              "       [0.47760936, 0.52239064],\n",
              "       [0.22619725, 0.77380275],\n",
              "       [0.74047815, 0.25952185],\n",
              "       [0.51148533, 0.48851467],\n",
              "       [0.87702735, 0.12297265],\n",
              "       [0.24005377, 0.75994623],\n",
              "       [0.75768232, 0.24231768],\n",
              "       [0.61140118, 0.38859882],\n",
              "       [0.28761821, 0.71238179],\n",
              "       [0.30178515, 0.69821485],\n",
              "       [0.50492844, 0.49507156],\n",
              "       [0.75768232, 0.24231768],\n",
              "       [0.40227404, 0.59772596],\n",
              "       [0.73957814, 0.26042186],\n",
              "       [0.21977314, 0.78022686],\n",
              "       [0.5601409 , 0.4398591 ],\n",
              "       [0.39358874, 0.60641126],\n",
              "       [0.75811152, 0.24188848],\n",
              "       [0.50286997, 0.49713003],\n",
              "       [0.74137615, 0.25862385],\n",
              "       [0.59310285, 0.40689715],\n",
              "       [0.19240806, 0.80759194],\n",
              "       [0.40110655, 0.59889345],\n",
              "       [0.28055298, 0.71944702],\n",
              "       [0.75682238, 0.24317762],\n",
              "       [0.75323874, 0.24676126],\n",
              "       [0.7585402 , 0.2414598 ],\n",
              "       [0.49819184, 0.50180816],\n",
              "       [0.70700732, 0.29299268],\n",
              "       [0.3052464 , 0.6947536 ],\n",
              "       [0.75540613, 0.24459387],\n",
              "       [0.17966732, 0.82033268],\n",
              "       [0.60806156, 0.39193844],\n",
              "       [0.09400654, 0.90599346],\n",
              "       [0.73557043, 0.26442957],\n",
              "       [0.67849766, 0.32150234],\n",
              "       [0.6779872 , 0.3220128 ],\n",
              "       [0.29497024, 0.70502976],\n",
              "       [0.30376028, 0.69623972],\n",
              "       [0.73420328, 0.26579672],\n",
              "       [0.22415673, 0.77584327],\n",
              "       [0.75458879, 0.24541121],\n",
              "       [0.75509628, 0.24490372],\n",
              "       [0.92448842, 0.07551158],\n",
              "       [0.73912737, 0.26087263],\n",
              "       [0.23823076, 0.76176924],\n",
              "       [0.70359899, 0.29640101],\n",
              "       [0.74227211, 0.25772789],\n",
              "       [0.68460407, 0.31539593],\n",
              "       [0.11591943, 0.88408057],\n",
              "       [0.5612932 , 0.4387068 ],\n",
              "       [0.40452581, 0.59547419],\n",
              "       [0.75768232, 0.24231768],\n",
              "       [0.23962732, 0.76037268],\n",
              "       [0.24968437, 0.75031563],\n",
              "       [0.2996782 , 0.7003218 ],\n",
              "       [0.36495955, 0.63504045],\n",
              "       [0.7409274 , 0.2590726 ],\n",
              "       [0.92558608, 0.07441392],\n",
              "       [0.73145547, 0.26854453],\n",
              "       [0.28379938, 0.71620062],\n",
              "       [0.53265409, 0.46734591],\n",
              "       [0.87778217, 0.12221783],\n",
              "       [0.30326582, 0.69673418],\n",
              "       [0.47760936, 0.52239064],\n",
              "       [0.77739845, 0.22260155],\n",
              "       [0.28761821, 0.71238179],\n",
              "       [0.80291504, 0.19708496],\n",
              "       [0.86732465, 0.13267535],\n",
              "       [0.75379629, 0.24620371],\n",
              "       [0.75423014, 0.24576986],\n",
              "       [0.75596036, 0.24403964],\n",
              "       [0.12930173, 0.87069827],\n",
              "       [0.75379629, 0.24620371],\n",
              "       [0.27679152, 0.72320848],\n",
              "       [0.75497368, 0.24502632],\n",
              "       [0.80068474, 0.19931526],\n",
              "       [0.40339941, 0.59660059],\n",
              "       [0.28761821, 0.71238179],\n",
              "       [0.30213847, 0.69786153],\n",
              "       [0.29254388, 0.70745612],\n",
              "       [0.56071713, 0.43928287],\n",
              "       [0.56474607, 0.43525393],\n",
              "       [0.75466347, 0.24533653],\n",
              "       [0.12930173, 0.87069827],\n",
              "       [0.23738775, 0.76261225],\n",
              "       [0.86759359, 0.13240641],\n",
              "       [0.92590765, 0.07409235],\n",
              "       [0.08788486, 0.91211514],\n",
              "       [0.35675261, 0.64324739],\n",
              "       [0.6130671 , 0.3869329 ],\n",
              "       [0.40396248, 0.59603752],\n",
              "       [0.39582409, 0.60417591],\n",
              "       [0.21937231, 0.78062769],\n",
              "       [0.15389863, 0.84610137],\n",
              "       [0.43937218, 0.56062782],\n",
              "       [0.7386761 , 0.2613239 ],\n",
              "       [0.75552858, 0.24447142],\n",
              "       [0.8760147 , 0.1239853 ],\n",
              "       [0.19538249, 0.80461751],\n",
              "       [0.50462418, 0.49537582],\n",
              "       [0.75596036, 0.24403964],\n",
              "       [0.70457368, 0.29542632],\n",
              "       [0.75811152, 0.24188848],\n",
              "       [0.8667854 , 0.1332146 ],\n",
              "       [0.30277181, 0.69722819],\n",
              "       [0.73822433, 0.26177567],\n",
              "       [0.3930306 , 0.6069694 ],\n",
              "       [0.75811152, 0.24188848],\n",
              "       [0.75682238, 0.24317762],\n",
              "       [0.70115414, 0.29884586],\n",
              "       [0.73374656, 0.26625344],\n",
              "       [0.40847604, 0.59152396],\n",
              "       [0.50492844, 0.49507156],\n",
              "       [0.70311094, 0.29688906],\n",
              "       [0.75497368, 0.24502632],\n",
              "       [0.55956451, 0.44043549]])"
            ]
          },
          "metadata": {
            "tags": []
          },
          "execution_count": 57
        }
      ]
    },
    {
      "cell_type": "code",
      "metadata": {
        "colab": {
          "base_uri": "https://localhost:8080/"
        },
        "id": "nnWLM8LGwu9i",
        "outputId": "1bddf5e9-8112-4c3b-bb9d-77de0104d6e7"
      },
      "source": [
        "predicted_proba.shape"
      ],
      "execution_count": 58,
      "outputs": [
        {
          "output_type": "execute_result",
          "data": {
            "text/plain": [
              "(140, 2)"
            ]
          },
          "metadata": {
            "tags": []
          },
          "execution_count": 58
        }
      ]
    },
    {
      "cell_type": "code",
      "metadata": {
        "colab": {
          "base_uri": "https://localhost:8080/"
        },
        "id": "gk0XIaAAwu9j",
        "outputId": "bc6e2783-b0ce-4417-ef46-1757f683d7c2"
      },
      "source": [
        "# select ONLY the probabilities referring to 1s\n",
        "predicted_proba[:,1]"
      ],
      "execution_count": 59,
      "outputs": [
        {
          "output_type": "execute_result",
          "data": {
            "text/plain": [
              "array([0.24533653, 0.39082409, 0.51670907, 0.24231768, 0.91642259,\n",
              "       0.6947536 , 0.696325  , 0.88363112, 0.2599716 , 0.24403964,\n",
              "       0.49390216, 0.80498497, 0.93751332, 0.2944535 , 0.70324474,\n",
              "       0.47971351, 0.49448685, 0.49156357, 0.63286926, 0.93577857,\n",
              "       0.26177567, 0.24231768, 0.52005577, 0.52239064, 0.77380275,\n",
              "       0.25952185, 0.48851467, 0.12297265, 0.75994623, 0.24231768,\n",
              "       0.38859882, 0.71238179, 0.69821485, 0.49507156, 0.24231768,\n",
              "       0.59772596, 0.26042186, 0.78022686, 0.4398591 , 0.60641126,\n",
              "       0.24188848, 0.49713003, 0.25862385, 0.40689715, 0.80759194,\n",
              "       0.59889345, 0.71944702, 0.24317762, 0.24676126, 0.2414598 ,\n",
              "       0.50180816, 0.29299268, 0.6947536 , 0.24459387, 0.82033268,\n",
              "       0.39193844, 0.90599346, 0.26442957, 0.32150234, 0.3220128 ,\n",
              "       0.70502976, 0.69623972, 0.26579672, 0.77584327, 0.24541121,\n",
              "       0.24490372, 0.07551158, 0.26087263, 0.76176924, 0.29640101,\n",
              "       0.25772789, 0.31539593, 0.88408057, 0.4387068 , 0.59547419,\n",
              "       0.24231768, 0.76037268, 0.75031563, 0.7003218 , 0.63504045,\n",
              "       0.2590726 , 0.07441392, 0.26854453, 0.71620062, 0.46734591,\n",
              "       0.12221783, 0.69673418, 0.52239064, 0.22260155, 0.71238179,\n",
              "       0.19708496, 0.13267535, 0.24620371, 0.24576986, 0.24403964,\n",
              "       0.87069827, 0.24620371, 0.72320848, 0.24502632, 0.19931526,\n",
              "       0.59660059, 0.71238179, 0.69786153, 0.70745612, 0.43928287,\n",
              "       0.43525393, 0.24533653, 0.87069827, 0.76261225, 0.13240641,\n",
              "       0.07409235, 0.91211514, 0.64324739, 0.3869329 , 0.59603752,\n",
              "       0.60417591, 0.78062769, 0.84610137, 0.56062782, 0.2613239 ,\n",
              "       0.24447142, 0.1239853 , 0.80461751, 0.49537582, 0.24403964,\n",
              "       0.29542632, 0.24188848, 0.1332146 , 0.69722819, 0.26177567,\n",
              "       0.6069694 , 0.24188848, 0.24317762, 0.29884586, 0.26625344,\n",
              "       0.59152396, 0.49507156, 0.29688906, 0.24502632, 0.44043549])"
            ]
          },
          "metadata": {
            "tags": []
          },
          "execution_count": 59
        }
      ]
    },
    {
      "cell_type": "markdown",
      "metadata": {
        "id": "oOhmCZRfwu9k"
      },
      "source": [
        "## Save the model"
      ]
    },
    {
      "cell_type": "code",
      "metadata": {
        "id": "ROE-bi8ewu9k"
      },
      "source": [
        "# import the relevant module\n",
        "import pickle"
      ],
      "execution_count": 60,
      "outputs": []
    },
    {
      "cell_type": "code",
      "metadata": {
        "id": "9yj-E4G0wu9l"
      },
      "source": [
        "# pickle the model file\n",
        "with open('model', 'wb') as file:\n",
        "    pickle.dump(reg, file)"
      ],
      "execution_count": 61,
      "outputs": []
    },
    {
      "cell_type": "code",
      "metadata": {
        "id": "u_t-Kmm5wu9m"
      },
      "source": [
        "# pickle the scaler file\n",
        "with open('scaler','wb') as file:\n",
        "    pickle.dump(absenteeism_scaler, file)"
      ],
      "execution_count": 62,
      "outputs": []
    }
  ]
}